{
 "cells": [
  {
   "cell_type": "code",
   "execution_count": 51,
   "metadata": {},
   "outputs": [],
   "source": [
    "import pandas as pd\n",
    "import numpy as np\n",
    "import matplotlib.pyplot as plt\n",
    "import seaborn as sns"
   ]
  },
  {
   "cell_type": "code",
   "execution_count": 3,
   "metadata": {},
   "outputs": [],
   "source": [
    "#import csv\n",
    "\n",
    "Customer = pd.read_csv('C:/Users/SHRUTI/Desktop/Business Analytics material/Case Studies/Python Case Studies/3. Pandas Case Study 1 - Retail Case Study/Customer.csv')\n",
    "prod_cat_info = pd.read_csv('C:/Users/SHRUTI/Desktop/Business Analytics material/Case Studies/Python Case Studies/3. Pandas Case Study 1 - Retail Case Study/prod_cat_info.csv')\n",
    "Transactions = pd.read_csv('C:/Users/SHRUTI/Desktop/Business Analytics material/Case Studies/Python Case Studies/3. Pandas Case Study 1 - Retail Case Study/Transactions.csv')"
   ]
  },
  {
   "cell_type": "markdown",
   "metadata": {},
   "source": [
    "### Q1 Merge the datasets Customers, Product Hierarchy and Transactions as Customer_Final. Ensure to keep all customers who have done transactions with us and select the join type accordingly."
   ]
  },
  {
   "cell_type": "code",
   "execution_count": 103,
   "metadata": {},
   "outputs": [
    {
     "data": {
      "text/html": [
       "<div>\n",
       "<style scoped>\n",
       "    .dataframe tbody tr th:only-of-type {\n",
       "        vertical-align: middle;\n",
       "    }\n",
       "\n",
       "    .dataframe tbody tr th {\n",
       "        vertical-align: top;\n",
       "    }\n",
       "\n",
       "    .dataframe thead th {\n",
       "        text-align: right;\n",
       "    }\n",
       "</style>\n",
       "<table border=\"1\" class=\"dataframe\">\n",
       "  <thead>\n",
       "    <tr style=\"text-align: right;\">\n",
       "      <th></th>\n",
       "      <th>transaction_id</th>\n",
       "      <th>cust_id</th>\n",
       "      <th>tran_date</th>\n",
       "      <th>prod_subcat_code</th>\n",
       "      <th>prod_cat_code</th>\n",
       "      <th>Qty</th>\n",
       "      <th>Rate</th>\n",
       "      <th>Tax</th>\n",
       "      <th>total_amt</th>\n",
       "      <th>Store_type</th>\n",
       "      <th>prod_cat</th>\n",
       "      <th>prod_subcat</th>\n",
       "      <th>customer_Id</th>\n",
       "      <th>DOB</th>\n",
       "      <th>Gender</th>\n",
       "      <th>city_code</th>\n",
       "    </tr>\n",
       "  </thead>\n",
       "  <tbody>\n",
       "    <tr>\n",
       "      <th>0</th>\n",
       "      <td>80712190438</td>\n",
       "      <td>270351</td>\n",
       "      <td>2014-02-28</td>\n",
       "      <td>1</td>\n",
       "      <td>1</td>\n",
       "      <td>-5</td>\n",
       "      <td>-772</td>\n",
       "      <td>405.300</td>\n",
       "      <td>-4265.300</td>\n",
       "      <td>e-Shop</td>\n",
       "      <td>Clothing</td>\n",
       "      <td>Women</td>\n",
       "      <td>270351</td>\n",
       "      <td>1981-09-26</td>\n",
       "      <td>M</td>\n",
       "      <td>5.0</td>\n",
       "    </tr>\n",
       "    <tr>\n",
       "      <th>1</th>\n",
       "      <td>29258453508</td>\n",
       "      <td>270384</td>\n",
       "      <td>2014-02-27</td>\n",
       "      <td>5</td>\n",
       "      <td>3</td>\n",
       "      <td>-5</td>\n",
       "      <td>-1497</td>\n",
       "      <td>785.925</td>\n",
       "      <td>-8270.925</td>\n",
       "      <td>e-Shop</td>\n",
       "      <td>Electronics</td>\n",
       "      <td>Computers</td>\n",
       "      <td>270384</td>\n",
       "      <td>1973-11-05</td>\n",
       "      <td>F</td>\n",
       "      <td>8.0</td>\n",
       "    </tr>\n",
       "    <tr>\n",
       "      <th>2</th>\n",
       "      <td>51750724947</td>\n",
       "      <td>273420</td>\n",
       "      <td>2014-02-24</td>\n",
       "      <td>6</td>\n",
       "      <td>5</td>\n",
       "      <td>-2</td>\n",
       "      <td>-791</td>\n",
       "      <td>166.110</td>\n",
       "      <td>-1748.110</td>\n",
       "      <td>TeleShop</td>\n",
       "      <td>Books</td>\n",
       "      <td>DIY</td>\n",
       "      <td>273420</td>\n",
       "      <td>1992-07-27</td>\n",
       "      <td>M</td>\n",
       "      <td>8.0</td>\n",
       "    </tr>\n",
       "    <tr>\n",
       "      <th>3</th>\n",
       "      <td>93274880719</td>\n",
       "      <td>271509</td>\n",
       "      <td>2014-02-24</td>\n",
       "      <td>11</td>\n",
       "      <td>6</td>\n",
       "      <td>-3</td>\n",
       "      <td>-1363</td>\n",
       "      <td>429.345</td>\n",
       "      <td>-4518.345</td>\n",
       "      <td>e-Shop</td>\n",
       "      <td>Home and kitchen</td>\n",
       "      <td>Bath</td>\n",
       "      <td>271509</td>\n",
       "      <td>1981-08-06</td>\n",
       "      <td>M</td>\n",
       "      <td>3.0</td>\n",
       "    </tr>\n",
       "    <tr>\n",
       "      <th>4</th>\n",
       "      <td>51750724947</td>\n",
       "      <td>273420</td>\n",
       "      <td>2014-02-23</td>\n",
       "      <td>6</td>\n",
       "      <td>5</td>\n",
       "      <td>-2</td>\n",
       "      <td>-791</td>\n",
       "      <td>166.110</td>\n",
       "      <td>-1748.110</td>\n",
       "      <td>TeleShop</td>\n",
       "      <td>Books</td>\n",
       "      <td>DIY</td>\n",
       "      <td>273420</td>\n",
       "      <td>1992-07-27</td>\n",
       "      <td>M</td>\n",
       "      <td>8.0</td>\n",
       "    </tr>\n",
       "  </tbody>\n",
       "</table>\n",
       "</div>"
      ],
      "text/plain": [
       "   transaction_id  cust_id  tran_date  prod_subcat_code  prod_cat_code  Qty  \\\n",
       "0     80712190438   270351 2014-02-28                 1              1   -5   \n",
       "1     29258453508   270384 2014-02-27                 5              3   -5   \n",
       "2     51750724947   273420 2014-02-24                 6              5   -2   \n",
       "3     93274880719   271509 2014-02-24                11              6   -3   \n",
       "4     51750724947   273420 2014-02-23                 6              5   -2   \n",
       "\n",
       "   Rate      Tax  total_amt Store_type          prod_cat prod_subcat  \\\n",
       "0  -772  405.300  -4265.300     e-Shop          Clothing       Women   \n",
       "1 -1497  785.925  -8270.925     e-Shop       Electronics   Computers   \n",
       "2  -791  166.110  -1748.110   TeleShop             Books         DIY   \n",
       "3 -1363  429.345  -4518.345     e-Shop  Home and kitchen        Bath   \n",
       "4  -791  166.110  -1748.110   TeleShop             Books         DIY   \n",
       "\n",
       "   customer_Id        DOB Gender  city_code  \n",
       "0       270351 1981-09-26      M        5.0  \n",
       "1       270384 1973-11-05      F        8.0  \n",
       "2       273420 1992-07-27      M        8.0  \n",
       "3       271509 1981-08-06      M        3.0  \n",
       "4       273420 1992-07-27      M        8.0  "
      ]
     },
     "execution_count": 103,
     "metadata": {},
     "output_type": "execute_result"
    }
   ],
   "source": [
    "prod_cat_info.rename(columns={'prod_sub_cat_code':'prod_subcat_code'},inplace=True)\n",
    "prod_concat = pd.merge(left=Transactions, right=prod_cat_info,on=['prod_cat_code','prod_subcat_code'],how='left')\n",
    "Customer_Final = pd.merge(left=prod_concat, right=Customer,right_on='customer_Id', left_on='cust_id', how='left')\n",
    "\n",
    "#converting dates to correct format\n",
    "Customer_Final['DOB'] = pd.to_datetime(Customer_Final['DOB'])\n",
    "Customer_Final['tran_date'] = pd.to_datetime(Customer_Final['tran_date'])\n",
    "\n",
    "Customer_Final.head()"
   ]
  },
  {
   "cell_type": "markdown",
   "metadata": {},
   "source": [
    "### Q2.a Get the column names and their corresponding data types"
   ]
  },
  {
   "cell_type": "code",
   "execution_count": 87,
   "metadata": {},
   "outputs": [
    {
     "name": "stdout",
     "output_type": "stream",
     "text": [
      "<class 'pandas.core.frame.DataFrame'>\n",
      "Int64Index: 23053 entries, 0 to 23052\n",
      "Data columns (total 16 columns):\n",
      " #   Column            Non-Null Count  Dtype         \n",
      "---  ------            --------------  -----         \n",
      " 0   transaction_id    23053 non-null  int64         \n",
      " 1   cust_id           23053 non-null  int64         \n",
      " 2   tran_date         23053 non-null  object        \n",
      " 3   prod_subcat_code  23053 non-null  int64         \n",
      " 4   prod_cat_code     23053 non-null  int64         \n",
      " 5   Qty               23053 non-null  int64         \n",
      " 6   Rate              23053 non-null  int64         \n",
      " 7   Tax               23053 non-null  float64       \n",
      " 8   total_amt         23053 non-null  float64       \n",
      " 9   Store_type        23053 non-null  object        \n",
      " 10  prod_cat          23053 non-null  object        \n",
      " 11  prod_subcat       23053 non-null  object        \n",
      " 12  customer_Id       23053 non-null  int64         \n",
      " 13  DOB               23053 non-null  datetime64[ns]\n",
      " 14  Gender            23044 non-null  object        \n",
      " 15  city_code         23045 non-null  float64       \n",
      "dtypes: datetime64[ns](1), float64(3), int64(7), object(5)\n",
      "memory usage: 3.0+ MB\n"
     ]
    }
   ],
   "source": [
    "Customer_Final.info()"
   ]
  },
  {
   "cell_type": "markdown",
   "metadata": {},
   "source": [
    "### Q2.b Top/Bottom 10 observations"
   ]
  },
  {
   "cell_type": "code",
   "execution_count": 358,
   "metadata": {},
   "outputs": [
    {
     "data": {
      "text/html": [
       "<div>\n",
       "<style scoped>\n",
       "    .dataframe tbody tr th:only-of-type {\n",
       "        vertical-align: middle;\n",
       "    }\n",
       "\n",
       "    .dataframe tbody tr th {\n",
       "        vertical-align: top;\n",
       "    }\n",
       "\n",
       "    .dataframe thead th {\n",
       "        text-align: right;\n",
       "    }\n",
       "</style>\n",
       "<table border=\"1\" class=\"dataframe\">\n",
       "  <thead>\n",
       "    <tr style=\"text-align: right;\">\n",
       "      <th></th>\n",
       "      <th>transaction_id</th>\n",
       "      <th>cust_id</th>\n",
       "      <th>tran_date</th>\n",
       "      <th>prod_subcat_code</th>\n",
       "      <th>prod_cat_code</th>\n",
       "      <th>Qty</th>\n",
       "      <th>Rate</th>\n",
       "      <th>Tax</th>\n",
       "      <th>total_amt</th>\n",
       "      <th>Store_type</th>\n",
       "      <th>prod_cat</th>\n",
       "      <th>prod_subcat</th>\n",
       "      <th>customer_Id</th>\n",
       "      <th>DOB</th>\n",
       "      <th>Gender</th>\n",
       "      <th>city_code</th>\n",
       "      <th>AGE</th>\n",
       "      <th>age</th>\n",
       "    </tr>\n",
       "  </thead>\n",
       "  <tbody>\n",
       "    <tr>\n",
       "      <th>0</th>\n",
       "      <td>80712190438</td>\n",
       "      <td>270351</td>\n",
       "      <td>2014-02-28</td>\n",
       "      <td>1</td>\n",
       "      <td>1</td>\n",
       "      <td>-5</td>\n",
       "      <td>-772</td>\n",
       "      <td>405.300</td>\n",
       "      <td>-4265.300</td>\n",
       "      <td>e-Shop</td>\n",
       "      <td>Clothing</td>\n",
       "      <td>Women</td>\n",
       "      <td>270351</td>\n",
       "      <td>1981-09-26</td>\n",
       "      <td>M</td>\n",
       "      <td>5.0</td>\n",
       "      <td>38.0</td>\n",
       "      <td>14198 days 02:59:38.374423</td>\n",
       "    </tr>\n",
       "    <tr>\n",
       "      <th>1</th>\n",
       "      <td>29258453508</td>\n",
       "      <td>270384</td>\n",
       "      <td>2014-02-27</td>\n",
       "      <td>5</td>\n",
       "      <td>3</td>\n",
       "      <td>-5</td>\n",
       "      <td>-1497</td>\n",
       "      <td>785.925</td>\n",
       "      <td>-8270.925</td>\n",
       "      <td>e-Shop</td>\n",
       "      <td>Electronics</td>\n",
       "      <td>Computers</td>\n",
       "      <td>270384</td>\n",
       "      <td>1973-11-05</td>\n",
       "      <td>F</td>\n",
       "      <td>8.0</td>\n",
       "      <td>46.0</td>\n",
       "      <td>17080 days 02:59:38.374423</td>\n",
       "    </tr>\n",
       "    <tr>\n",
       "      <th>2</th>\n",
       "      <td>51750724947</td>\n",
       "      <td>273420</td>\n",
       "      <td>2014-02-24</td>\n",
       "      <td>6</td>\n",
       "      <td>5</td>\n",
       "      <td>-2</td>\n",
       "      <td>-791</td>\n",
       "      <td>166.110</td>\n",
       "      <td>-1748.110</td>\n",
       "      <td>TeleShop</td>\n",
       "      <td>Books</td>\n",
       "      <td>DIY</td>\n",
       "      <td>273420</td>\n",
       "      <td>1992-07-27</td>\n",
       "      <td>M</td>\n",
       "      <td>8.0</td>\n",
       "      <td>28.0</td>\n",
       "      <td>10241 days 02:59:38.374423</td>\n",
       "    </tr>\n",
       "    <tr>\n",
       "      <th>3</th>\n",
       "      <td>93274880719</td>\n",
       "      <td>271509</td>\n",
       "      <td>2014-02-24</td>\n",
       "      <td>11</td>\n",
       "      <td>6</td>\n",
       "      <td>-3</td>\n",
       "      <td>-1363</td>\n",
       "      <td>429.345</td>\n",
       "      <td>-4518.345</td>\n",
       "      <td>e-Shop</td>\n",
       "      <td>Home and kitchen</td>\n",
       "      <td>Bath</td>\n",
       "      <td>271509</td>\n",
       "      <td>1981-08-06</td>\n",
       "      <td>M</td>\n",
       "      <td>3.0</td>\n",
       "      <td>39.0</td>\n",
       "      <td>14249 days 02:59:38.374423</td>\n",
       "    </tr>\n",
       "    <tr>\n",
       "      <th>4</th>\n",
       "      <td>51750724947</td>\n",
       "      <td>273420</td>\n",
       "      <td>2014-02-23</td>\n",
       "      <td>6</td>\n",
       "      <td>5</td>\n",
       "      <td>-2</td>\n",
       "      <td>-791</td>\n",
       "      <td>166.110</td>\n",
       "      <td>-1748.110</td>\n",
       "      <td>TeleShop</td>\n",
       "      <td>Books</td>\n",
       "      <td>DIY</td>\n",
       "      <td>273420</td>\n",
       "      <td>1992-07-27</td>\n",
       "      <td>M</td>\n",
       "      <td>8.0</td>\n",
       "      <td>28.0</td>\n",
       "      <td>10241 days 02:59:38.374423</td>\n",
       "    </tr>\n",
       "    <tr>\n",
       "      <th>5</th>\n",
       "      <td>97439039119</td>\n",
       "      <td>272357</td>\n",
       "      <td>2014-02-23</td>\n",
       "      <td>8</td>\n",
       "      <td>3</td>\n",
       "      <td>-2</td>\n",
       "      <td>-824</td>\n",
       "      <td>173.040</td>\n",
       "      <td>-1821.040</td>\n",
       "      <td>TeleShop</td>\n",
       "      <td>Electronics</td>\n",
       "      <td>Personal Appliances</td>\n",
       "      <td>272357</td>\n",
       "      <td>1982-09-10</td>\n",
       "      <td>F</td>\n",
       "      <td>6.0</td>\n",
       "      <td>37.0</td>\n",
       "      <td>13849 days 02:59:38.374423</td>\n",
       "    </tr>\n",
       "    <tr>\n",
       "      <th>6</th>\n",
       "      <td>45649838090</td>\n",
       "      <td>273667</td>\n",
       "      <td>2014-02-22</td>\n",
       "      <td>11</td>\n",
       "      <td>6</td>\n",
       "      <td>-1</td>\n",
       "      <td>-1450</td>\n",
       "      <td>152.250</td>\n",
       "      <td>-1602.250</td>\n",
       "      <td>e-Shop</td>\n",
       "      <td>Home and kitchen</td>\n",
       "      <td>Bath</td>\n",
       "      <td>273667</td>\n",
       "      <td>1981-05-29</td>\n",
       "      <td>M</td>\n",
       "      <td>9.0</td>\n",
       "      <td>39.0</td>\n",
       "      <td>14318 days 02:59:38.374423</td>\n",
       "    </tr>\n",
       "    <tr>\n",
       "      <th>7</th>\n",
       "      <td>22643667930</td>\n",
       "      <td>271489</td>\n",
       "      <td>2014-02-22</td>\n",
       "      <td>12</td>\n",
       "      <td>6</td>\n",
       "      <td>-1</td>\n",
       "      <td>-1225</td>\n",
       "      <td>128.625</td>\n",
       "      <td>-1353.625</td>\n",
       "      <td>TeleShop</td>\n",
       "      <td>Home and kitchen</td>\n",
       "      <td>Tools</td>\n",
       "      <td>271489</td>\n",
       "      <td>1971-04-21</td>\n",
       "      <td>M</td>\n",
       "      <td>9.0</td>\n",
       "      <td>49.0</td>\n",
       "      <td>18009 days 02:59:38.374423</td>\n",
       "    </tr>\n",
       "    <tr>\n",
       "      <th>8</th>\n",
       "      <td>79792372943</td>\n",
       "      <td>275108</td>\n",
       "      <td>2014-02-22</td>\n",
       "      <td>3</td>\n",
       "      <td>1</td>\n",
       "      <td>-3</td>\n",
       "      <td>-908</td>\n",
       "      <td>286.020</td>\n",
       "      <td>-3010.020</td>\n",
       "      <td>MBR</td>\n",
       "      <td>Clothing</td>\n",
       "      <td>Kids</td>\n",
       "      <td>275108</td>\n",
       "      <td>1971-04-11</td>\n",
       "      <td>F</td>\n",
       "      <td>8.0</td>\n",
       "      <td>49.0</td>\n",
       "      <td>18019 days 02:59:38.374423</td>\n",
       "    </tr>\n",
       "    <tr>\n",
       "      <th>9</th>\n",
       "      <td>50076728598</td>\n",
       "      <td>269014</td>\n",
       "      <td>2014-02-21</td>\n",
       "      <td>8</td>\n",
       "      <td>3</td>\n",
       "      <td>-4</td>\n",
       "      <td>-581</td>\n",
       "      <td>244.020</td>\n",
       "      <td>-2568.020</td>\n",
       "      <td>e-Shop</td>\n",
       "      <td>Electronics</td>\n",
       "      <td>Personal Appliances</td>\n",
       "      <td>269014</td>\n",
       "      <td>1979-11-27</td>\n",
       "      <td>F</td>\n",
       "      <td>3.0</td>\n",
       "      <td>40.0</td>\n",
       "      <td>14867 days 02:59:38.374423</td>\n",
       "    </tr>\n",
       "  </tbody>\n",
       "</table>\n",
       "</div>"
      ],
      "text/plain": [
       "   transaction_id  cust_id  tran_date  prod_subcat_code  prod_cat_code  Qty  \\\n",
       "0     80712190438   270351 2014-02-28                 1              1   -5   \n",
       "1     29258453508   270384 2014-02-27                 5              3   -5   \n",
       "2     51750724947   273420 2014-02-24                 6              5   -2   \n",
       "3     93274880719   271509 2014-02-24                11              6   -3   \n",
       "4     51750724947   273420 2014-02-23                 6              5   -2   \n",
       "5     97439039119   272357 2014-02-23                 8              3   -2   \n",
       "6     45649838090   273667 2014-02-22                11              6   -1   \n",
       "7     22643667930   271489 2014-02-22                12              6   -1   \n",
       "8     79792372943   275108 2014-02-22                 3              1   -3   \n",
       "9     50076728598   269014 2014-02-21                 8              3   -4   \n",
       "\n",
       "   Rate      Tax  total_amt Store_type          prod_cat          prod_subcat  \\\n",
       "0  -772  405.300  -4265.300     e-Shop          Clothing                Women   \n",
       "1 -1497  785.925  -8270.925     e-Shop       Electronics            Computers   \n",
       "2  -791  166.110  -1748.110   TeleShop             Books                  DIY   \n",
       "3 -1363  429.345  -4518.345     e-Shop  Home and kitchen                 Bath   \n",
       "4  -791  166.110  -1748.110   TeleShop             Books                  DIY   \n",
       "5  -824  173.040  -1821.040   TeleShop       Electronics  Personal Appliances   \n",
       "6 -1450  152.250  -1602.250     e-Shop  Home and kitchen                 Bath   \n",
       "7 -1225  128.625  -1353.625   TeleShop  Home and kitchen                Tools   \n",
       "8  -908  286.020  -3010.020        MBR          Clothing                 Kids   \n",
       "9  -581  244.020  -2568.020     e-Shop       Electronics  Personal Appliances   \n",
       "\n",
       "   customer_Id        DOB Gender  city_code   AGE                        age  \n",
       "0       270351 1981-09-26      M        5.0  38.0 14198 days 02:59:38.374423  \n",
       "1       270384 1973-11-05      F        8.0  46.0 17080 days 02:59:38.374423  \n",
       "2       273420 1992-07-27      M        8.0  28.0 10241 days 02:59:38.374423  \n",
       "3       271509 1981-08-06      M        3.0  39.0 14249 days 02:59:38.374423  \n",
       "4       273420 1992-07-27      M        8.0  28.0 10241 days 02:59:38.374423  \n",
       "5       272357 1982-09-10      F        6.0  37.0 13849 days 02:59:38.374423  \n",
       "6       273667 1981-05-29      M        9.0  39.0 14318 days 02:59:38.374423  \n",
       "7       271489 1971-04-21      M        9.0  49.0 18009 days 02:59:38.374423  \n",
       "8       275108 1971-04-11      F        8.0  49.0 18019 days 02:59:38.374423  \n",
       "9       269014 1979-11-27      F        3.0  40.0 14867 days 02:59:38.374423  "
      ]
     },
     "execution_count": 358,
     "metadata": {},
     "output_type": "execute_result"
    }
   ],
   "source": [
    "Customer_Final.head(10)"
   ]
  },
  {
   "cell_type": "code",
   "execution_count": 89,
   "metadata": {
    "scrolled": true
   },
   "outputs": [
    {
     "data": {
      "text/html": [
       "<div>\n",
       "<style scoped>\n",
       "    .dataframe tbody tr th:only-of-type {\n",
       "        vertical-align: middle;\n",
       "    }\n",
       "\n",
       "    .dataframe tbody tr th {\n",
       "        vertical-align: top;\n",
       "    }\n",
       "\n",
       "    .dataframe thead th {\n",
       "        text-align: right;\n",
       "    }\n",
       "</style>\n",
       "<table border=\"1\" class=\"dataframe\">\n",
       "  <thead>\n",
       "    <tr style=\"text-align: right;\">\n",
       "      <th></th>\n",
       "      <th>transaction_id</th>\n",
       "      <th>cust_id</th>\n",
       "      <th>tran_date</th>\n",
       "      <th>prod_subcat_code</th>\n",
       "      <th>prod_cat_code</th>\n",
       "      <th>Qty</th>\n",
       "      <th>Rate</th>\n",
       "      <th>Tax</th>\n",
       "      <th>total_amt</th>\n",
       "      <th>Store_type</th>\n",
       "      <th>prod_cat</th>\n",
       "      <th>prod_subcat</th>\n",
       "      <th>customer_Id</th>\n",
       "      <th>DOB</th>\n",
       "      <th>Gender</th>\n",
       "      <th>city_code</th>\n",
       "    </tr>\n",
       "  </thead>\n",
       "  <tbody>\n",
       "    <tr>\n",
       "      <th>23043</th>\n",
       "      <td>49882891062</td>\n",
       "      <td>271982</td>\n",
       "      <td>25-01-2011</td>\n",
       "      <td>10</td>\n",
       "      <td>5</td>\n",
       "      <td>4</td>\n",
       "      <td>1330</td>\n",
       "      <td>558.600</td>\n",
       "      <td>5878.600</td>\n",
       "      <td>e-Shop</td>\n",
       "      <td>Books</td>\n",
       "      <td>Non-Fiction</td>\n",
       "      <td>271982</td>\n",
       "      <td>1976-08-10</td>\n",
       "      <td>M</td>\n",
       "      <td>8.0</td>\n",
       "    </tr>\n",
       "    <tr>\n",
       "      <th>23044</th>\n",
       "      <td>14787475597</td>\n",
       "      <td>273982</td>\n",
       "      <td>25-01-2011</td>\n",
       "      <td>4</td>\n",
       "      <td>3</td>\n",
       "      <td>5</td>\n",
       "      <td>969</td>\n",
       "      <td>508.725</td>\n",
       "      <td>5353.725</td>\n",
       "      <td>e-Shop</td>\n",
       "      <td>Electronics</td>\n",
       "      <td>Mobiles</td>\n",
       "      <td>273982</td>\n",
       "      <td>1991-10-12</td>\n",
       "      <td>M</td>\n",
       "      <td>4.0</td>\n",
       "    </tr>\n",
       "    <tr>\n",
       "      <th>23045</th>\n",
       "      <td>50691119572</td>\n",
       "      <td>273031</td>\n",
       "      <td>25-01-2011</td>\n",
       "      <td>6</td>\n",
       "      <td>5</td>\n",
       "      <td>1</td>\n",
       "      <td>1148</td>\n",
       "      <td>120.540</td>\n",
       "      <td>1268.540</td>\n",
       "      <td>TeleShop</td>\n",
       "      <td>Books</td>\n",
       "      <td>DIY</td>\n",
       "      <td>273031</td>\n",
       "      <td>1980-01-17</td>\n",
       "      <td>F</td>\n",
       "      <td>8.0</td>\n",
       "    </tr>\n",
       "    <tr>\n",
       "      <th>23046</th>\n",
       "      <td>40893803228</td>\n",
       "      <td>272049</td>\n",
       "      <td>25-01-2011</td>\n",
       "      <td>11</td>\n",
       "      <td>6</td>\n",
       "      <td>3</td>\n",
       "      <td>1077</td>\n",
       "      <td>339.255</td>\n",
       "      <td>3570.255</td>\n",
       "      <td>e-Shop</td>\n",
       "      <td>Home and kitchen</td>\n",
       "      <td>Bath</td>\n",
       "      <td>272049</td>\n",
       "      <td>1975-06-28</td>\n",
       "      <td>F</td>\n",
       "      <td>6.0</td>\n",
       "    </tr>\n",
       "    <tr>\n",
       "      <th>23047</th>\n",
       "      <td>30856003613</td>\n",
       "      <td>266866</td>\n",
       "      <td>25-01-2011</td>\n",
       "      <td>4</td>\n",
       "      <td>2</td>\n",
       "      <td>2</td>\n",
       "      <td>444</td>\n",
       "      <td>93.240</td>\n",
       "      <td>981.240</td>\n",
       "      <td>TeleShop</td>\n",
       "      <td>Footwear</td>\n",
       "      <td>Kids</td>\n",
       "      <td>266866</td>\n",
       "      <td>1974-04-18</td>\n",
       "      <td>M</td>\n",
       "      <td>4.0</td>\n",
       "    </tr>\n",
       "    <tr>\n",
       "      <th>23048</th>\n",
       "      <td>94340757522</td>\n",
       "      <td>274550</td>\n",
       "      <td>25-01-2011</td>\n",
       "      <td>12</td>\n",
       "      <td>5</td>\n",
       "      <td>1</td>\n",
       "      <td>1264</td>\n",
       "      <td>132.720</td>\n",
       "      <td>1396.720</td>\n",
       "      <td>e-Shop</td>\n",
       "      <td>Books</td>\n",
       "      <td>Academic</td>\n",
       "      <td>274550</td>\n",
       "      <td>1972-02-21</td>\n",
       "      <td>M</td>\n",
       "      <td>7.0</td>\n",
       "    </tr>\n",
       "    <tr>\n",
       "      <th>23049</th>\n",
       "      <td>89780862956</td>\n",
       "      <td>270022</td>\n",
       "      <td>25-01-2011</td>\n",
       "      <td>4</td>\n",
       "      <td>1</td>\n",
       "      <td>1</td>\n",
       "      <td>677</td>\n",
       "      <td>71.085</td>\n",
       "      <td>748.085</td>\n",
       "      <td>e-Shop</td>\n",
       "      <td>Clothing</td>\n",
       "      <td>Mens</td>\n",
       "      <td>270022</td>\n",
       "      <td>1984-04-27</td>\n",
       "      <td>M</td>\n",
       "      <td>9.0</td>\n",
       "    </tr>\n",
       "    <tr>\n",
       "      <th>23050</th>\n",
       "      <td>85115299378</td>\n",
       "      <td>271020</td>\n",
       "      <td>25-01-2011</td>\n",
       "      <td>2</td>\n",
       "      <td>6</td>\n",
       "      <td>4</td>\n",
       "      <td>1052</td>\n",
       "      <td>441.840</td>\n",
       "      <td>4649.840</td>\n",
       "      <td>MBR</td>\n",
       "      <td>Home and kitchen</td>\n",
       "      <td>Furnishing</td>\n",
       "      <td>271020</td>\n",
       "      <td>1976-06-20</td>\n",
       "      <td>M</td>\n",
       "      <td>8.0</td>\n",
       "    </tr>\n",
       "    <tr>\n",
       "      <th>23051</th>\n",
       "      <td>72870271171</td>\n",
       "      <td>270911</td>\n",
       "      <td>25-01-2011</td>\n",
       "      <td>11</td>\n",
       "      <td>5</td>\n",
       "      <td>3</td>\n",
       "      <td>1142</td>\n",
       "      <td>359.730</td>\n",
       "      <td>3785.730</td>\n",
       "      <td>TeleShop</td>\n",
       "      <td>Books</td>\n",
       "      <td>Children</td>\n",
       "      <td>270911</td>\n",
       "      <td>1970-05-22</td>\n",
       "      <td>M</td>\n",
       "      <td>2.0</td>\n",
       "    </tr>\n",
       "    <tr>\n",
       "      <th>23052</th>\n",
       "      <td>77960931771</td>\n",
       "      <td>271961</td>\n",
       "      <td>25-01-2011</td>\n",
       "      <td>11</td>\n",
       "      <td>5</td>\n",
       "      <td>1</td>\n",
       "      <td>447</td>\n",
       "      <td>46.935</td>\n",
       "      <td>493.935</td>\n",
       "      <td>TeleShop</td>\n",
       "      <td>Books</td>\n",
       "      <td>Children</td>\n",
       "      <td>271961</td>\n",
       "      <td>1982-01-15</td>\n",
       "      <td>M</td>\n",
       "      <td>1.0</td>\n",
       "    </tr>\n",
       "  </tbody>\n",
       "</table>\n",
       "</div>"
      ],
      "text/plain": [
       "       transaction_id  cust_id   tran_date  prod_subcat_code  prod_cat_code  \\\n",
       "23043     49882891062   271982  25-01-2011                10              5   \n",
       "23044     14787475597   273982  25-01-2011                 4              3   \n",
       "23045     50691119572   273031  25-01-2011                 6              5   \n",
       "23046     40893803228   272049  25-01-2011                11              6   \n",
       "23047     30856003613   266866  25-01-2011                 4              2   \n",
       "23048     94340757522   274550  25-01-2011                12              5   \n",
       "23049     89780862956   270022  25-01-2011                 4              1   \n",
       "23050     85115299378   271020  25-01-2011                 2              6   \n",
       "23051     72870271171   270911  25-01-2011                11              5   \n",
       "23052     77960931771   271961  25-01-2011                11              5   \n",
       "\n",
       "       Qty  Rate      Tax  total_amt Store_type          prod_cat  \\\n",
       "23043    4  1330  558.600   5878.600     e-Shop             Books   \n",
       "23044    5   969  508.725   5353.725     e-Shop       Electronics   \n",
       "23045    1  1148  120.540   1268.540   TeleShop             Books   \n",
       "23046    3  1077  339.255   3570.255     e-Shop  Home and kitchen   \n",
       "23047    2   444   93.240    981.240   TeleShop          Footwear   \n",
       "23048    1  1264  132.720   1396.720     e-Shop             Books   \n",
       "23049    1   677   71.085    748.085     e-Shop          Clothing   \n",
       "23050    4  1052  441.840   4649.840        MBR  Home and kitchen   \n",
       "23051    3  1142  359.730   3785.730   TeleShop             Books   \n",
       "23052    1   447   46.935    493.935   TeleShop             Books   \n",
       "\n",
       "       prod_subcat  customer_Id        DOB Gender  city_code  \n",
       "23043  Non-Fiction       271982 1976-08-10      M        8.0  \n",
       "23044      Mobiles       273982 1991-10-12      M        4.0  \n",
       "23045          DIY       273031 1980-01-17      F        8.0  \n",
       "23046         Bath       272049 1975-06-28      F        6.0  \n",
       "23047         Kids       266866 1974-04-18      M        4.0  \n",
       "23048     Academic       274550 1972-02-21      M        7.0  \n",
       "23049         Mens       270022 1984-04-27      M        9.0  \n",
       "23050   Furnishing       271020 1976-06-20      M        8.0  \n",
       "23051     Children       270911 1970-05-22      M        2.0  \n",
       "23052     Children       271961 1982-01-15      M        1.0  "
      ]
     },
     "execution_count": 89,
     "metadata": {},
     "output_type": "execute_result"
    }
   ],
   "source": [
    "Customer_Final.tail(10)"
   ]
  },
  {
   "cell_type": "markdown",
   "metadata": {},
   "source": [
    "### Q2.c -“Five-number summary” for continuous variables (min, Q1, median, Q3 and max)"
   ]
  },
  {
   "cell_type": "code",
   "execution_count": 90,
   "metadata": {},
   "outputs": [
    {
     "data": {
      "text/html": [
       "<div>\n",
       "<style scoped>\n",
       "    .dataframe tbody tr th:only-of-type {\n",
       "        vertical-align: middle;\n",
       "    }\n",
       "\n",
       "    .dataframe tbody tr th {\n",
       "        vertical-align: top;\n",
       "    }\n",
       "\n",
       "    .dataframe thead th {\n",
       "        text-align: right;\n",
       "    }\n",
       "</style>\n",
       "<table border=\"1\" class=\"dataframe\">\n",
       "  <thead>\n",
       "    <tr style=\"text-align: right;\">\n",
       "      <th></th>\n",
       "      <th>Qty</th>\n",
       "      <th>Rate</th>\n",
       "      <th>Tax</th>\n",
       "      <th>total_amt</th>\n",
       "    </tr>\n",
       "  </thead>\n",
       "  <tbody>\n",
       "    <tr>\n",
       "      <th>median</th>\n",
       "      <td>3.0</td>\n",
       "      <td>710.0</td>\n",
       "      <td>199.080</td>\n",
       "      <td>1754.740</td>\n",
       "    </tr>\n",
       "    <tr>\n",
       "      <th>min</th>\n",
       "      <td>-5.0</td>\n",
       "      <td>-1499.0</td>\n",
       "      <td>7.350</td>\n",
       "      <td>-8270.925</td>\n",
       "    </tr>\n",
       "    <tr>\n",
       "      <th>Q1</th>\n",
       "      <td>1.0</td>\n",
       "      <td>312.0</td>\n",
       "      <td>98.280</td>\n",
       "      <td>762.450</td>\n",
       "    </tr>\n",
       "    <tr>\n",
       "      <th>Q3</th>\n",
       "      <td>4.0</td>\n",
       "      <td>1109.0</td>\n",
       "      <td>365.715</td>\n",
       "      <td>3569.150</td>\n",
       "    </tr>\n",
       "    <tr>\n",
       "      <th>max</th>\n",
       "      <td>5.0</td>\n",
       "      <td>1500.0</td>\n",
       "      <td>787.500</td>\n",
       "      <td>8287.500</td>\n",
       "    </tr>\n",
       "  </tbody>\n",
       "</table>\n",
       "</div>"
      ],
      "text/plain": [
       "        Qty    Rate      Tax  total_amt\n",
       "median  3.0   710.0  199.080   1754.740\n",
       "min    -5.0 -1499.0    7.350  -8270.925\n",
       "Q1      1.0   312.0   98.280    762.450\n",
       "Q3      4.0  1109.0  365.715   3569.150\n",
       "max     5.0  1500.0  787.500   8287.500"
      ]
     },
     "execution_count": 90,
     "metadata": {},
     "output_type": "execute_result"
    }
   ],
   "source": [
    "Five_number_summary['min'] = Customer_Final[['Qty', 'Rate', 'Tax', 'total_amt']].min()\n",
    "Five_number_summary['Q1'] = Customer_Final[['Qty', 'Rate', 'Tax', 'total_amt']].quantile(.25)\n",
    "Five_number_summary['median'] = Customer_Final[['Qty', 'Rate', 'Tax', 'total_amt']].median()\n",
    "Five_number_summary['Q3'] = Customer_Final[['Qty', 'Rate', 'Tax', 'total_amt']].quantile(.75)\n",
    "Five_number_summary['max'] = Customer_Final[['Qty', 'Rate', 'Tax', 'total_amt']].max()\n",
    "Five_number_summary.T"
   ]
  },
  {
   "cell_type": "markdown",
   "metadata": {},
   "source": [
    "### Q2d. Frequency tables for all the categorical variables"
   ]
  },
  {
   "cell_type": "code",
   "execution_count": 91,
   "metadata": {
    "scrolled": true
   },
   "outputs": [
    {
     "data": {
      "text/html": [
       "<div>\n",
       "<style scoped>\n",
       "    .dataframe tbody tr th:only-of-type {\n",
       "        vertical-align: middle;\n",
       "    }\n",
       "\n",
       "    .dataframe tbody tr th {\n",
       "        vertical-align: top;\n",
       "    }\n",
       "\n",
       "    .dataframe thead th {\n",
       "        text-align: right;\n",
       "    }\n",
       "</style>\n",
       "<table border=\"1\" class=\"dataframe\">\n",
       "  <thead>\n",
       "    <tr style=\"text-align: right;\">\n",
       "      <th></th>\n",
       "      <th>tran_date</th>\n",
       "      <th>Store_type</th>\n",
       "      <th>prod_cat</th>\n",
       "      <th>prod_subcat</th>\n",
       "      <th>Gender</th>\n",
       "    </tr>\n",
       "  </thead>\n",
       "  <tbody>\n",
       "    <tr>\n",
       "      <th>count</th>\n",
       "      <td>23053</td>\n",
       "      <td>23053</td>\n",
       "      <td>23053</td>\n",
       "      <td>23053</td>\n",
       "      <td>23044</td>\n",
       "    </tr>\n",
       "    <tr>\n",
       "      <th>unique</th>\n",
       "      <td>1129</td>\n",
       "      <td>4</td>\n",
       "      <td>6</td>\n",
       "      <td>18</td>\n",
       "      <td>2</td>\n",
       "    </tr>\n",
       "    <tr>\n",
       "      <th>top</th>\n",
       "      <td>13-07-2011</td>\n",
       "      <td>e-Shop</td>\n",
       "      <td>Books</td>\n",
       "      <td>Women</td>\n",
       "      <td>M</td>\n",
       "    </tr>\n",
       "    <tr>\n",
       "      <th>freq</th>\n",
       "      <td>35</td>\n",
       "      <td>9311</td>\n",
       "      <td>6069</td>\n",
       "      <td>3048</td>\n",
       "      <td>11811</td>\n",
       "    </tr>\n",
       "  </tbody>\n",
       "</table>\n",
       "</div>"
      ],
      "text/plain": [
       "         tran_date Store_type prod_cat prod_subcat Gender\n",
       "count        23053      23053    23053       23053  23044\n",
       "unique        1129          4        6          18      2\n",
       "top     13-07-2011     e-Shop    Books       Women      M\n",
       "freq            35       9311     6069        3048  11811"
      ]
     },
     "execution_count": 91,
     "metadata": {},
     "output_type": "execute_result"
    }
   ],
   "source": [
    "Customer_Final.loc[:,Customer_Final.dtypes==\"object\"].describe()"
   ]
  },
  {
   "cell_type": "markdown",
   "metadata": {},
   "source": [
    "### 3. Generate histograms for all continuous variables and frequency bars for categorical variables."
   ]
  },
  {
   "cell_type": "markdown",
   "metadata": {},
   "source": [
    "### Histograms for countinous variables"
   ]
  },
  {
   "cell_type": "code",
   "execution_count": 92,
   "metadata": {},
   "outputs": [
    {
     "data": {
      "image/png": "[encoded data removed]",
      "text/plain": [
       "<Figure size 432x288 with 1 Axes>"
      ]
     },
     "metadata": {
      "needs_background": "light"
     },
     "output_type": "display_data"
    },
    {
     "data": {
      "image/png": "[encoded data removed]",
      "text/plain": [
       "<Figure size 432x288 with 1 Axes>"
      ]
     },
     "metadata": {
      "needs_background": "light"
     },
     "output_type": "display_data"
    },
    {
     "data": {
      "image/png": "[encoded data removed]",
      "text/plain": [
       "<Figure size 432x288 with 1 Axes>"
      ]
     },
     "metadata": {
      "needs_background": "light"
     },
     "output_type": "display_data"
    },
    {
     "data": {
      "image/png": "[encoded data removed]",
      "text/plain": [
       "<Figure size 432x288 with 1 Axes>"
      ]
     },
     "metadata": {
      "needs_background": "light"
     },
     "output_type": "display_data"
    }
   ],
   "source": [
    "conti_customer = Customer_Final[['Qty', 'Rate', 'Tax', 'total_amt']]\n",
    "\n",
    "for var in conti_customer.columns:\n",
    "    conti_customer[var].plot(kind='hist')\n",
    "    plt.title(var)\n",
    "    plt.show()"
   ]
  },
  {
   "cell_type": "markdown",
   "metadata": {},
   "source": [
    "### Frequency  bars for categorical variables"
   ]
  },
  {
   "cell_type": "code",
   "execution_count": 93,
   "metadata": {},
   "outputs": [
    {
     "data": {
      "image/png": "[encoded data removed]",
      "text/plain": [
       "<Figure size 576x576 with 1 Axes>"
      ]
     },
     "metadata": {
      "needs_background": "light"
     },
     "output_type": "display_data"
    },
    {
     "data": {
      "image/png": "[encoded data removed]",
      "text/plain": [
       "<Figure size 576x576 with 1 Axes>"
      ]
     },
     "metadata": {
      "needs_background": "light"
     },
     "output_type": "display_data"
    },
    {
     "data": {
      "image/png": "[encoded data removed]",
      "text/plain": [
       "<Figure size 576x576 with 1 Axes>"
      ]
     },
     "metadata": {
      "needs_background": "light"
     },
     "output_type": "display_data"
    },
    {
     "data": {
      "image/png": "[encoded data removed]",
      "text/plain": [
       "<Figure size 576x576 with 1 Axes>"
      ]
     },
     "metadata": {
      "needs_background": "light"
     },
     "output_type": "display_data"
    },
    {
     "data": {
      "image/png": "[encoded data removed]",
      "text/plain": [
       "<Figure size 576x576 with 1 Axes>"
      ]
     },
     "metadata": {
      "needs_background": "light"
     },
     "output_type": "display_data"
    }
   ],
   "source": [
    "categ_customer = Customer_Final.loc[:, Customer_Final.dtypes=='object']\n",
    "\n",
    "for var in categ_customer.columns:\n",
    "\n",
    "    plt.figure(figsize=(8,8))\n",
    "    sns.countplot(categ_customer[var])\n",
    "    plt.xlabel(var)\n",
    "    plt.show()"
   ]
  },
  {
   "cell_type": "markdown",
   "metadata": {},
   "source": [
    "### 4. Calculate the following information using the merged dataset :\n",
    "### a. Time period of the available transaction data"
   ]
  },
  {
   "cell_type": "code",
   "execution_count": 114,
   "metadata": {},
   "outputs": [
    {
     "name": "stdout",
     "output_type": "stream",
     "text": [
      "Time period: 02-01-2011 to 02-12-2014\n"
     ]
    }
   ],
   "source": [
    "\n",
    "max_date = Customer_Final['tran_date'].max()\n",
    "min_date = Customer_Final['tran_date'].min()\n",
    "\n",
    "print('Time period: ' + pd.Timestamp.strftime(min_date,format = '%d-%m-%Y') + ' to ' + pd.Timestamp.strftime(max_date,format = '%d-%m-%Y'))"
   ]
  },
  {
   "cell_type": "markdown",
   "metadata": {},
   "source": [
    "### b. Count of transactions where the total amount of transaction was negative"
   ]
  },
  {
   "cell_type": "code",
   "execution_count": 119,
   "metadata": {},
   "outputs": [
    {
     "data": {
      "text/plain": [
       "2177"
      ]
     },
     "execution_count": 119,
     "metadata": {},
     "output_type": "execute_result"
    }
   ],
   "source": [
    "len(Customer_Final[Customer_Final['total_amt'] < 0])"
   ]
  },
  {
   "cell_type": "markdown",
   "metadata": {},
   "source": [
    "### 5. Analyze which product categories are more popular among females vs male customers."
   ]
  },
  {
   "cell_type": "code",
   "execution_count": 149,
   "metadata": {},
   "outputs": [
    {
     "data": {
      "text/html": [
       "<div>\n",
       "<style scoped>\n",
       "    .dataframe tbody tr th:only-of-type {\n",
       "        vertical-align: middle;\n",
       "    }\n",
       "\n",
       "    .dataframe tbody tr th {\n",
       "        vertical-align: top;\n",
       "    }\n",
       "\n",
       "    .dataframe thead th {\n",
       "        text-align: right;\n",
       "    }\n",
       "</style>\n",
       "<table border=\"1\" class=\"dataframe\">\n",
       "  <thead>\n",
       "    <tr style=\"text-align: right;\">\n",
       "      <th></th>\n",
       "      <th></th>\n",
       "      <th>Qty</th>\n",
       "    </tr>\n",
       "    <tr>\n",
       "      <th>Gender</th>\n",
       "      <th>prod_cat</th>\n",
       "      <th></th>\n",
       "    </tr>\n",
       "  </thead>\n",
       "  <tbody>\n",
       "    <tr>\n",
       "      <th rowspan=\"6\" valign=\"top\">F</th>\n",
       "      <th>Bags</th>\n",
       "      <td>2362</td>\n",
       "    </tr>\n",
       "    <tr>\n",
       "      <th>Books</th>\n",
       "      <td>7070</td>\n",
       "    </tr>\n",
       "    <tr>\n",
       "      <th>Clothing</th>\n",
       "      <td>3425</td>\n",
       "    </tr>\n",
       "    <tr>\n",
       "      <th>Electronics</th>\n",
       "      <td>5832</td>\n",
       "    </tr>\n",
       "    <tr>\n",
       "      <th>Footwear</th>\n",
       "      <td>3716</td>\n",
       "    </tr>\n",
       "    <tr>\n",
       "      <th>Home and kitchen</th>\n",
       "      <td>4895</td>\n",
       "    </tr>\n",
       "    <tr>\n",
       "      <th rowspan=\"6\" valign=\"top\">M</th>\n",
       "      <th>Bags</th>\n",
       "      <td>2346</td>\n",
       "    </tr>\n",
       "    <tr>\n",
       "      <th>Books</th>\n",
       "      <td>7587</td>\n",
       "    </tr>\n",
       "    <tr>\n",
       "      <th>Clothing</th>\n",
       "      <td>3748</td>\n",
       "    </tr>\n",
       "    <tr>\n",
       "      <th>Electronics</th>\n",
       "      <td>6476</td>\n",
       "    </tr>\n",
       "    <tr>\n",
       "      <th>Footwear</th>\n",
       "      <td>3555</td>\n",
       "    </tr>\n",
       "    <tr>\n",
       "      <th>Home and kitchen</th>\n",
       "      <td>5041</td>\n",
       "    </tr>\n",
       "  </tbody>\n",
       "</table>\n",
       "</div>"
      ],
      "text/plain": [
       "                          Qty\n",
       "Gender prod_cat              \n",
       "F      Bags              2362\n",
       "       Books             7070\n",
       "       Clothing          3425\n",
       "       Electronics       5832\n",
       "       Footwear          3716\n",
       "       Home and kitchen  4895\n",
       "M      Bags              2346\n",
       "       Books             7587\n",
       "       Clothing          3748\n",
       "       Electronics       6476\n",
       "       Footwear          3555\n",
       "       Home and kitchen  5041"
      ]
     },
     "execution_count": 149,
     "metadata": {},
     "output_type": "execute_result"
    }
   ],
   "source": [
    "gender_cat = Customer_Final[['Gender', 'Qty', 'prod_cat']].sort_values(by='Qty', ascending = False)\n",
    "gender_cat = gender_cat.groupby(['Gender', 'prod_cat'])\n",
    "\n",
    "gender_cat.sum()      "
   ]
  },
  {
   "cell_type": "markdown",
   "metadata": {},
   "source": [
    "### 6. Which City code has the maximum customers and what was the percentage of customers from that city?"
   ]
  },
  {
   "cell_type": "code",
   "execution_count": 225,
   "metadata": {
    "scrolled": true
   },
   "outputs": [
    {
     "name": "stdout",
     "output_type": "stream",
     "text": [
      "city_code\n",
      "4.0    2422\n",
      "3.0    2411\n",
      "5.0    2360\n",
      "Name: city_code, dtype: int64\n",
      "City code with maximum customers is : 4.0, with percentage 10.51\n"
     ]
    }
   ],
   "source": [
    "customer_group = Customer_city['city_code'].count().sort_values(ascending =False)\n",
    "print(customer_group.head(3))\n",
    "\n",
    "percentage = round((customer_group[4.0] / customer_group.sum()) * 100,2)\n",
    "print('City code with maximum customers is : 4.0, with percentage' , percentage)"
   ]
  },
  {
   "cell_type": "markdown",
   "metadata": {},
   "source": [
    "### 7. Which store type sells the maximum products by value and by quantity?"
   ]
  },
  {
   "cell_type": "code",
   "execution_count": 249,
   "metadata": {},
   "outputs": [
    {
     "name": "stdout",
     "output_type": "stream",
     "text": [
      "                  Qty     Rate\n",
      "Store_type                    \n",
      "e-Shop          22763  5941001\n",
      "MBR             11194  2953253\n",
      "Flagship store  11133  2941557\n",
      "TeleShop        10984  2834420\n",
      "e-Shop store sell the maximum products by value and by quantity\n"
     ]
    }
   ],
   "source": [
    "customer_prod = Customer_Final[['Store_type', 'Qty', 'Rate']]\n",
    "customer_prod = customer_prod.groupby('Store_type').sum().sort_values(by = ['Qty', 'Rate'], ascending = False)\n",
    "\n",
    "\n",
    "print(customer_prod)\n",
    "print('e-Shop store sell the maximum products by value and by quantity')"
   ]
  },
  {
   "cell_type": "markdown",
   "metadata": {},
   "source": [
    "### 8. What was the total amount earned from the \"Electronics\" and \"Clothing\" categories from Flagship Stores?"
   ]
  },
  {
   "cell_type": "code",
   "execution_count": 294,
   "metadata": {},
   "outputs": [
    {
     "name": "stdout",
     "output_type": "stream",
     "text": [
      "Total amount earned:  3409559.27\n"
     ]
    }
   ],
   "source": [
    "customer_prod = Customer_Final[['Store_type', 'prod_cat', 'total_amt']]\n",
    "customer_prod = customer_prod[customer_prod['Store_type'] == 'Flagship store']\n",
    "customer_prod = customer_prod[customer_prod.prod_cat.isin(['Electronics','Clothing']) & (customer_prod.Store_type == 'Flagship store')]\n",
    "\n",
    "total = customer_prod.total_amt.sum()\n",
    "\n",
    "print('Total amount earned: ', total)"
   ]
  },
  {
   "cell_type": "markdown",
   "metadata": {},
   "source": [
    "### 9. What was the total amount earned from \"Male\" customers under the \"Electronics\" category?"
   ]
  },
  {
   "cell_type": "code",
   "execution_count": 300,
   "metadata": {},
   "outputs": [
    {
     "name": "stdout",
     "output_type": "stream",
     "text": [
      "Total amount earned:  5703109.424999999\n"
     ]
    }
   ],
   "source": [
    "customer_prod = Customer_Final[['Gender', 'prod_cat', 'total_amt']]\n",
    "customer_prod = customer_prod[(customer_prod.Gender == 'M') & (customer_prod.prod_cat == 'Electronics')]\n",
    "\n",
    "total = customer_prod.total_amt.sum()\n",
    "\n",
    "print('Total amount earned: ', total)"
   ]
  },
  {
   "cell_type": "markdown",
   "metadata": {},
   "source": [
    "### 10. How many customers have more than 10 unique transactions, after removing all transactions which have any negative amounts?"
   ]
  },
  {
   "cell_type": "code",
   "execution_count": 345,
   "metadata": {},
   "outputs": [
    {
     "name": "stdout",
     "output_type": "stream",
     "text": [
      "         transaction_id\n",
      "cust_id                \n",
      "266794               11\n",
      "270535               11\n",
      "270803               11\n",
      "272741               11\n",
      "273014               11\n",
      "274227               11\n",
      "No. of customers with more than 10 transactions is 6\n"
     ]
    }
   ],
   "source": [
    "cust_pos = Customer_Final[Customer_Final['total_amt'] > 0].groupby(['cust_id', 'transaction_id']).count().reset_index()\n",
    "cust_pos = cust_pos[['cust_id', 'transaction_id']]\n",
    "cust_pivot = cust_pos.pivot_table(index='cust_id', values='transaction_id', aggfunc=len)\n",
    "cust_pivot[cust_pivot.transaction_id > 10]\n",
    "\n",
    "print(cust_pivot[cust_pivot.transaction_id > 10])\n",
    "print('No. of customers with more than 10 transactions is 6')"
   ]
  },
  {
   "cell_type": "markdown",
   "metadata": {},
   "source": [
    "### 11. For all customers aged between 25 - 35, find out:\n",
    "### a. What was the total amount spent for “Electronics” and “Books” product categories?"
   ]
  },
  {
   "cell_type": "code",
   "execution_count": 360,
   "metadata": {},
   "outputs": [
    {
     "name": "stdout",
     "output_type": "stream",
     "text": [
      "Total amount spent on 'Electronics' and 'Books' product categories is 8529394.45\n"
     ]
    }
   ],
   "source": [
    "now = pd.Timestamp('now')   \n",
    "Customer_Final['DOB'] = Customer_Final['DOB'].where(Customer_Final['DOB'] < now, Customer_Final['DOB'] -  np.timedelta64(100, 'Y'))   \n",
    "Customer_Final['AGE'] = (now - Customer_Final['DOB']).astype('<m8[Y]')\n",
    "\n",
    "\n",
    "Customer_Final['Age_cat'] = pd.cut(Customer_Final['AGE'],bins=[24,35,46,57],labels=['25-35','36-46','47-57'],include_lowest=True)\n",
    "customer_25_35 = Customer_Final.groupby(['Age_cat','prod_cat'])['total_amt'].sum()\n",
    "customer_25_35.loc['25-35',['Books','Electronics']]\n",
    "print(\"Total amount spent on 'Electronics' and 'Books' product categories is\", \n",
    "      customer_25_35.loc['25-35',['Books','Electronics']].sum().round(2))"
   ]
  },
  {
   "cell_type": "markdown",
   "metadata": {},
   "source": [
    "### b. What was the total amount spent by these customers between 1st Jan, 2014 to 1st Mar, 2014?\n"
   ]
  },
  {
   "cell_type": "code",
   "execution_count": 361,
   "metadata": {},
   "outputs": [
    {
     "name": "stdout",
     "output_type": "stream",
     "text": [
      "The total amount spent by customers aged 25-35 between 1st Jan 2014 to 1st Mar 2014 is 573796.665\n"
     ]
    }
   ],
   "source": [
    "customer_total_amount_25_35 = Customer_Final[Customer_Final['Age_cat']=='25-35']\n",
    "\n",
    "total_amount = customer_total_amount_25_35[(customer_total_amount_25_35['tran_date'] >='2014-01-01') & (customer_total_amount_25_35['tran_date'] <='2014-03-01')]\n",
    "\n",
    "print('The total amount spent by customers aged 25-35 between 1st Jan 2014 to 1st Mar 2014 is',\n",
    "      total_amount['total_amt'].sum())"
   ]
  }
 ],
 "metadata": {
  "kernelspec": {
   "display_name": "Python 3",
   "language": "python",
   "name": "python3"
  },
  "language_info": {
   "codemirror_mode": {
    "name": "ipython",
    "version": 3
   },
   "file_extension": ".py",
   "mimetype": "text/x-python",
   "name": "python",
   "nbconvert_exporter": "python",
   "pygments_lexer": "ipython3",
   "version": "3.7.6"
  }
 },
 "nbformat": 4,
 "nbformat_minor": 4
}
