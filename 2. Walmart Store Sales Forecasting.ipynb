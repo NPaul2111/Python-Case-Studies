{
 "cells": [
  {
   "cell_type": "markdown",
   "metadata": {},
   "source": [
    "### Business Problem : Predicting Store Sales"
   ]
  },
  {
   "cell_type": "markdown",
   "metadata": {},
   "source": [
    "### Statistics Problem : As we have to forecast sales, using Regression techniques would be apt."
   ]
  },
  {
   "cell_type": "code",
   "execution_count": 1,
   "metadata": {},
   "outputs": [],
   "source": [
    "import pandas as pd\n",
    "import numpy as np\n",
    "import datetime\n",
    "import warnings\n",
    "warnings.filterwarnings('ignore')\n",
    "import pandas_profiling\n",
    "import matplotlib.pyplot as plt\n",
    "import seaborn as sns"
   ]
  },
  {
   "cell_type": "code",
   "execution_count": 2,
   "metadata": {},
   "outputs": [],
   "source": [
    "store = pd.read_csv('stores.csv')\n",
    "feature = pd.read_csv('features.csv')\n",
    "sales = pd.read_csv('train.csv')\n",
    "test = pd.read_csv('test.csv')"
   ]
  },
  {
   "cell_type": "code",
   "execution_count": 3,
   "metadata": {},
   "outputs": [
    {
     "name": "stdout",
     "output_type": "stream",
     "text": [
      "<class 'pandas.core.frame.DataFrame'>\n",
      "RangeIndex: 45 entries, 0 to 44\n",
      "Data columns (total 3 columns):\n",
      " #   Column  Non-Null Count  Dtype \n",
      "---  ------  --------------  ----- \n",
      " 0   Store   45 non-null     int64 \n",
      " 1   Type    45 non-null     object\n",
      " 2   Size    45 non-null     int64 \n",
      "dtypes: int64(2), object(1)\n",
      "memory usage: 1.2+ KB\n"
     ]
    }
   ],
   "source": [
    "store.info()"
   ]
  },
  {
   "cell_type": "code",
   "execution_count": 4,
   "metadata": {},
   "outputs": [
    {
     "name": "stdout",
     "output_type": "stream",
     "text": [
      "<class 'pandas.core.frame.DataFrame'>\n",
      "RangeIndex: 8190 entries, 0 to 8189\n",
      "Data columns (total 12 columns):\n",
      " #   Column        Non-Null Count  Dtype  \n",
      "---  ------        --------------  -----  \n",
      " 0   Store         8190 non-null   int64  \n",
      " 1   Date          8190 non-null   object \n",
      " 2   Temperature   8190 non-null   float64\n",
      " 3   Fuel_Price    8190 non-null   float64\n",
      " 4   MarkDown1     4032 non-null   float64\n",
      " 5   MarkDown2     2921 non-null   float64\n",
      " 6   MarkDown3     3613 non-null   float64\n",
      " 7   MarkDown4     3464 non-null   float64\n",
      " 8   MarkDown5     4050 non-null   float64\n",
      " 9   CPI           7605 non-null   float64\n",
      " 10  Unemployment  7605 non-null   float64\n",
      " 11  IsHoliday     8190 non-null   bool   \n",
      "dtypes: bool(1), float64(9), int64(1), object(1)\n",
      "memory usage: 712.0+ KB\n"
     ]
    }
   ],
   "source": [
    "feature.info()"
   ]
  },
  {
   "cell_type": "code",
   "execution_count": 5,
   "metadata": {},
   "outputs": [
    {
     "name": "stdout",
     "output_type": "stream",
     "text": [
      "<class 'pandas.core.frame.DataFrame'>\n",
      "RangeIndex: 421570 entries, 0 to 421569\n",
      "Data columns (total 5 columns):\n",
      " #   Column        Non-Null Count   Dtype  \n",
      "---  ------        --------------   -----  \n",
      " 0   Store         421570 non-null  int64  \n",
      " 1   Dept          421570 non-null  int64  \n",
      " 2   Date          421570 non-null  object \n",
      " 3   Weekly_Sales  421570 non-null  float64\n",
      " 4   IsHoliday     421570 non-null  bool   \n",
      "dtypes: bool(1), float64(1), int64(2), object(1)\n",
      "memory usage: 13.3+ MB\n"
     ]
    }
   ],
   "source": [
    "sales.info()"
   ]
  },
  {
   "cell_type": "code",
   "execution_count": 6,
   "metadata": {},
   "outputs": [
    {
     "name": "stdout",
     "output_type": "stream",
     "text": [
      "<class 'pandas.core.frame.DataFrame'>\n",
      "RangeIndex: 115064 entries, 0 to 115063\n",
      "Data columns (total 4 columns):\n",
      " #   Column     Non-Null Count   Dtype \n",
      "---  ------     --------------   ----- \n",
      " 0   Store      115064 non-null  int64 \n",
      " 1   Dept       115064 non-null  int64 \n",
      " 2   Date       115064 non-null  object\n",
      " 3   IsHoliday  115064 non-null  bool  \n",
      "dtypes: bool(1), int64(2), object(1)\n",
      "memory usage: 2.7+ MB\n"
     ]
    }
   ],
   "source": [
    "test.info()"
   ]
  },
  {
   "cell_type": "markdown",
   "metadata": {},
   "source": [
    "## Data Cleaning"
   ]
  },
  {
   "cell_type": "markdown",
   "metadata": {},
   "source": [
    "#### Handling missing values in 'feature' dataset, before joining the data"
   ]
  },
  {
   "cell_type": "code",
   "execution_count": 7,
   "metadata": {},
   "outputs": [],
   "source": [
    "# Treating Missing values\n",
    "def missing_values(x, stats = 'mean'):\n",
    "    if (x.dtypes == 'float64') | (x.dtypes == 'int64'):\n",
    "         x = x.fillna(x.mean()) if stats == 'mean' else x.fillna(x.median())\n",
    "    else:\n",
    "        x = x.fillna(x.mode()[0])\n",
    "    return x\n",
    "\n",
    "feature = feature.apply(missing_values)"
   ]
  },
  {
   "cell_type": "code",
   "execution_count": 8,
   "metadata": {},
   "outputs": [
    {
     "name": "stdout",
     "output_type": "stream",
     "text": [
      "<class 'pandas.core.frame.DataFrame'>\n",
      "RangeIndex: 8190 entries, 0 to 8189\n",
      "Data columns (total 12 columns):\n",
      " #   Column        Non-Null Count  Dtype  \n",
      "---  ------        --------------  -----  \n",
      " 0   Store         8190 non-null   int64  \n",
      " 1   Date          8190 non-null   object \n",
      " 2   Temperature   8190 non-null   float64\n",
      " 3   Fuel_Price    8190 non-null   float64\n",
      " 4   MarkDown1     8190 non-null   float64\n",
      " 5   MarkDown2     8190 non-null   float64\n",
      " 6   MarkDown3     8190 non-null   float64\n",
      " 7   MarkDown4     8190 non-null   float64\n",
      " 8   MarkDown5     8190 non-null   float64\n",
      " 9   CPI           8190 non-null   float64\n",
      " 10  Unemployment  8190 non-null   float64\n",
      " 11  IsHoliday     8190 non-null   bool   \n",
      "dtypes: bool(1), float64(9), int64(1), object(1)\n",
      "memory usage: 712.0+ KB\n"
     ]
    }
   ],
   "source": [
    "feature.info()"
   ]
  },
  {
   "cell_type": "code",
   "execution_count": 9,
   "metadata": {},
   "outputs": [],
   "source": [
    "# Joining the Dataframes\n",
    "combine = pd.merge(left=feature, right=store,how='left', on='Store')\n",
    "\n",
    "# combine train data\n",
    "data = pd.merge(left=sales, right=combine, how='left', on=['Date','Store','IsHoliday'])"
   ]
  },
  {
   "cell_type": "code",
   "execution_count": 10,
   "metadata": {},
   "outputs": [],
   "source": [
    "# Joining the Dataframes\n",
    "combine = pd.merge(left=feature, right=store,how='left', on='Store')\n",
    "\n",
    "# combine train data\n",
    "test = pd.merge(left=test, right=combine, how='left', on=['Date','Store','IsHoliday'])"
   ]
  },
  {
   "cell_type": "code",
   "execution_count": 11,
   "metadata": {},
   "outputs": [
    {
     "name": "stdout",
     "output_type": "stream",
     "text": [
      "<class 'pandas.core.frame.DataFrame'>\n",
      "Int64Index: 421570 entries, 0 to 421569\n",
      "Data columns (total 16 columns):\n",
      " #   Column        Non-Null Count   Dtype  \n",
      "---  ------        --------------   -----  \n",
      " 0   Store         421570 non-null  int64  \n",
      " 1   Dept          421570 non-null  int64  \n",
      " 2   Date          421570 non-null  object \n",
      " 3   Weekly_Sales  421570 non-null  float64\n",
      " 4   IsHoliday     421570 non-null  bool   \n",
      " 5   Temperature   421570 non-null  float64\n",
      " 6   Fuel_Price    421570 non-null  float64\n",
      " 7   MarkDown1     421570 non-null  float64\n",
      " 8   MarkDown2     421570 non-null  float64\n",
      " 9   MarkDown3     421570 non-null  float64\n",
      " 10  MarkDown4     421570 non-null  float64\n",
      " 11  MarkDown5     421570 non-null  float64\n",
      " 12  CPI           421570 non-null  float64\n",
      " 13  Unemployment  421570 non-null  float64\n",
      " 14  Type          421570 non-null  object \n",
      " 15  Size          421570 non-null  int64  \n",
      "dtypes: bool(1), float64(10), int64(3), object(2)\n",
      "memory usage: 51.9+ MB\n"
     ]
    }
   ],
   "source": [
    "data.info()"
   ]
  },
  {
   "cell_type": "code",
   "execution_count": 12,
   "metadata": {},
   "outputs": [
    {
     "name": "stdout",
     "output_type": "stream",
     "text": [
      "<class 'pandas.core.frame.DataFrame'>\n",
      "Int64Index: 115064 entries, 0 to 115063\n",
      "Data columns (total 15 columns):\n",
      " #   Column        Non-Null Count   Dtype  \n",
      "---  ------        --------------   -----  \n",
      " 0   Store         115064 non-null  int64  \n",
      " 1   Dept          115064 non-null  int64  \n",
      " 2   Date          115064 non-null  object \n",
      " 3   IsHoliday     115064 non-null  bool   \n",
      " 4   Temperature   115064 non-null  float64\n",
      " 5   Fuel_Price    115064 non-null  float64\n",
      " 6   MarkDown1     115064 non-null  float64\n",
      " 7   MarkDown2     115064 non-null  float64\n",
      " 8   MarkDown3     115064 non-null  float64\n",
      " 9   MarkDown4     115064 non-null  float64\n",
      " 10  MarkDown5     115064 non-null  float64\n",
      " 11  CPI           115064 non-null  float64\n",
      " 12  Unemployment  115064 non-null  float64\n",
      " 13  Type          115064 non-null  object \n",
      " 14  Size          115064 non-null  int64  \n",
      "dtypes: bool(1), float64(9), int64(3), object(2)\n",
      "memory usage: 13.3+ MB\n"
     ]
    }
   ],
   "source": [
    "test.info()"
   ]
  },
  {
   "cell_type": "code",
   "execution_count": 13,
   "metadata": {},
   "outputs": [],
   "source": [
    "#profile_report = pandas_profiling.ProfileReport(data)\n",
    "#profile_report.to_file('Sales_profiling.html')"
   ]
  },
  {
   "cell_type": "markdown",
   "metadata": {},
   "source": [
    "#### Below are the findings after pandas profiling\n",
    "\n",
    "* There are no missing values in the data.\n",
    "* There are no duplicate values.\n",
    "* Variables are not highly correlated\n",
    "* High cardinality in Date column, which is fine. We will convert date into Years, Months, Qaurters and Weeks to lower the high cardinality."
   ]
  },
  {
   "cell_type": "markdown",
   "metadata": {},
   "source": [
    "### Data preparation will be done for train set and test set simultaneously\n",
    "\n",
    "##### Fixing Date variable, breaking the same into Years, Months, Quarters and Weeks."
   ]
  },
  {
   "cell_type": "code",
   "execution_count": 14,
   "metadata": {},
   "outputs": [],
   "source": [
    "data['Date'] = pd.to_datetime(data.Date, format='%Y-%m-%d')\n",
    "test['Date'] = pd.to_datetime(test.Date, format='%Y-%m-%d')"
   ]
  },
  {
   "cell_type": "code",
   "execution_count": 15,
   "metadata": {},
   "outputs": [],
   "source": [
    "#for train dataset\n",
    "\n",
    "data['SuperBowl'] = np.where((data.Date == '2010-02-12') | (data.Date == '2011-02-11'), 1, 0) \n",
    "data['LaborDay'] = np.where((data.Date == '2010-09-10') | (data.Date == '2011-09-11'), 1, 0)\n",
    "data['Thanksgiving'] = np.where((data.Date == '2010-11-26') | (data.Date == '2011-11-25'), 1, 0)\n",
    "data['Christmas'] = np.where((data.Date == '2010-12-31') | (data.Date == '2011-12-30'), 1, 0)"
   ]
  },
  {
   "cell_type": "code",
   "execution_count": 16,
   "metadata": {},
   "outputs": [],
   "source": [
    "#for test dataset\n",
    "\n",
    "test['SuperBowl'] = np.where((test.Date == '2012-02-10') | (test.Date == '2013-02-08'), 1, 0) \n",
    "test['LaborDay'] = np.where((test.Date == '2012-09-07') | (test.Date == '2013-09-06'), 1, 0)\n",
    "test['Thanksgiving'] = np.where((test.Date == '2012-11-23') | (test.Date == '2013-11-29'), 1, 0)\n",
    "test['Christmas'] = np.where((test.Date == '2012-12-28') | (test.Date == '2013-12-27'), 1, 0)"
   ]
  },
  {
   "cell_type": "code",
   "execution_count": 17,
   "metadata": {},
   "outputs": [],
   "source": [
    "data['Year'] = data['Date'].dt.year\n",
    "data['Month'] = data['Date'].dt.month\n",
    "data['Quarter'] = data['Date'].dt.quarter\n",
    "data['Week'] = data['Date'].dt.week"
   ]
  },
  {
   "cell_type": "code",
   "execution_count": 18,
   "metadata": {},
   "outputs": [],
   "source": [
    "test['Year'] = test['Date'].dt.year\n",
    "test['Month'] = test['Date'].dt.month\n",
    "test['Quarter'] = test['Date'].dt.quarter\n",
    "test['Week'] = test['Date'].dt.week"
   ]
  },
  {
   "cell_type": "code",
   "execution_count": 19,
   "metadata": {},
   "outputs": [],
   "source": [
    "data.drop('Date', axis = 1, inplace = True)\n",
    "test.drop('Date', axis = 1, inplace = True)"
   ]
  },
  {
   "cell_type": "code",
   "execution_count": 20,
   "metadata": {},
   "outputs": [],
   "source": [
    "#converting True/ False to 1,0\n",
    "\n",
    "data['IsHoliday'] = data['IsHoliday']*1\n",
    "test['IsHoliday'] = test['IsHoliday']*1"
   ]
  },
  {
   "cell_type": "markdown",
   "metadata": {},
   "source": [
    "#### Splitting Categorical and numerical variables"
   ]
  },
  {
   "cell_type": "code",
   "execution_count": 21,
   "metadata": {},
   "outputs": [
    {
     "data": {
      "text/plain": [
       "Index(['Store', 'Dept', 'Weekly_Sales', 'IsHoliday', 'Temperature',\n",
       "       'Fuel_Price', 'MarkDown1', 'MarkDown2', 'MarkDown3', 'MarkDown4',\n",
       "       'MarkDown5', 'CPI', 'Unemployment', 'Type', 'Size', 'SuperBowl',\n",
       "       'LaborDay', 'Thanksgiving', 'Christmas', 'Year', 'Month', 'Quarter',\n",
       "       'Week'],\n",
       "      dtype='object')"
      ]
     },
     "execution_count": 21,
     "metadata": {},
     "output_type": "execute_result"
    }
   ],
   "source": [
    "data.columns"
   ]
  },
  {
   "cell_type": "code",
   "execution_count": 22,
   "metadata": {},
   "outputs": [
    {
     "data": {
      "text/plain": [
       "Index(['Store', 'Dept', 'IsHoliday', 'Temperature', 'Fuel_Price', 'MarkDown1',\n",
       "       'MarkDown2', 'MarkDown3', 'MarkDown4', 'MarkDown5', 'CPI',\n",
       "       'Unemployment', 'Type', 'Size', 'SuperBowl', 'LaborDay', 'Thanksgiving',\n",
       "       'Christmas', 'Year', 'Month', 'Quarter', 'Week'],\n",
       "      dtype='object')"
      ]
     },
     "execution_count": 22,
     "metadata": {},
     "output_type": "execute_result"
    }
   ],
   "source": [
    "test.columns"
   ]
  },
  {
   "cell_type": "code",
   "execution_count": 23,
   "metadata": {},
   "outputs": [],
   "source": [
    "data_num = data[['Weekly_Sales', 'Fuel_Price', 'Temperature', 'MarkDown1', 'MarkDown2', 'MarkDown3', 'MarkDown4', 'MarkDown5', 'CPI', 'Unemployment', 'Size']]\n",
    "data_cat = data[['Year', 'Month', 'Quarter', 'Week', 'Type', 'Store', 'Dept', 'SuperBowl', 'LaborDay', 'IsHoliday', 'Thanksgiving', 'Christmas']]"
   ]
  },
  {
   "cell_type": "code",
   "execution_count": 24,
   "metadata": {},
   "outputs": [],
   "source": [
    "test_num = test[['Fuel_Price', 'Temperature', 'MarkDown1', 'MarkDown2', 'MarkDown3', 'MarkDown4', 'MarkDown5', 'CPI', 'Unemployment', 'Size']]\n",
    "test_cat = test[['Year', 'Month', 'Quarter', 'Week', 'Type', 'Store', 'Dept', 'SuperBowl', 'LaborDay', 'IsHoliday', 'Thanksgiving', 'Christmas']]"
   ]
  },
  {
   "cell_type": "code",
   "execution_count": 25,
   "metadata": {},
   "outputs": [
    {
     "name": "stdout",
     "output_type": "stream",
     "text": [
      "No. of columns in data:  23\n",
      "No. of columns in data_num:  11\n",
      "No. of columns in data_cat:  12\n"
     ]
    }
   ],
   "source": [
    "print('No. of columns in data: ', len(data.columns))\n",
    "print('No. of columns in data_num: ', len(data_num.columns))\n",
    "print('No. of columns in data_cat: ', len(data_cat.columns))"
   ]
  },
  {
   "cell_type": "code",
   "execution_count": 26,
   "metadata": {},
   "outputs": [
    {
     "name": "stdout",
     "output_type": "stream",
     "text": [
      "No. of columns in test:  22\n",
      "No. of columns in test_num:  10\n",
      "No. of columns in test_cat:  12\n"
     ]
    }
   ],
   "source": [
    "print('No. of columns in test: ', len(test.columns))\n",
    "print('No. of columns in test_num: ', len(test_num.columns))\n",
    "print('No. of columns in test_cat: ', len(test_cat.columns))"
   ]
  },
  {
   "cell_type": "markdown",
   "metadata": {},
   "source": [
    "#### Outlier treatment"
   ]
  },
  {
   "cell_type": "code",
   "execution_count": 27,
   "metadata": {},
   "outputs": [],
   "source": [
    "#Outlier treatment\n",
    "def outlier_capping(x):\n",
    "    x = x.clip(upper = x.quantile(0.99))\n",
    "    x = x.clip(lower = x.quantile(0.01))\n",
    "    return x\n",
    "\n",
    "#Implementing outlier function \n",
    "data_num = data_num.apply(outlier_capping)\n",
    "test_num = test_num.apply(outlier_capping)"
   ]
  },
  {
   "cell_type": "code",
   "execution_count": 28,
   "metadata": {},
   "outputs": [
    {
     "name": "stdout",
     "output_type": "stream",
     "text": [
      "<class 'pandas.core.frame.DataFrame'>\n",
      "Int64Index: 421570 entries, 0 to 421569\n",
      "Data columns (total 11 columns):\n",
      " #   Column        Non-Null Count   Dtype  \n",
      "---  ------        --------------   -----  \n",
      " 0   Weekly_Sales  421570 non-null  float64\n",
      " 1   Fuel_Price    421570 non-null  float64\n",
      " 2   Temperature   421570 non-null  float64\n",
      " 3   MarkDown1     421570 non-null  float64\n",
      " 4   MarkDown2     421570 non-null  float64\n",
      " 5   MarkDown3     421570 non-null  float64\n",
      " 6   MarkDown4     421570 non-null  float64\n",
      " 7   MarkDown5     421570 non-null  float64\n",
      " 8   CPI           421570 non-null  float64\n",
      " 9   Unemployment  421570 non-null  float64\n",
      " 10  Size          421570 non-null  int64  \n",
      "dtypes: float64(10), int64(1)\n",
      "memory usage: 38.6 MB\n"
     ]
    }
   ],
   "source": [
    "data_num.info()"
   ]
  },
  {
   "cell_type": "markdown",
   "metadata": {},
   "source": [
    "### Data Summary"
   ]
  },
  {
   "cell_type": "markdown",
   "metadata": {},
   "source": [
    "#### Univariate Analysis"
   ]
  },
  {
   "cell_type": "code",
   "execution_count": 29,
   "metadata": {},
   "outputs": [
    {
     "data": {
      "image/png": "[encoded data removed]",
      "text/plain": [
       "<Figure size 432x288 with 1 Axes>"
      ]
     },
     "metadata": {
      "needs_background": "light"
     },
     "output_type": "display_data"
    },
    {
     "data": {
      "image/png": "[encoded data removed]",
      "text/plain": [
       "<Figure size 432x288 with 1 Axes>"
      ]
     },
     "metadata": {
      "needs_background": "light"
     },
     "output_type": "display_data"
    },
    {
     "data": {
      "image/png": "[encoded data removed]",
      "text/plain": [
       "<Figure size 432x288 with 1 Axes>"
      ]
     },
     "metadata": {
      "needs_background": "light"
     },
     "output_type": "display_data"
    },
    {
     "data": {
      "image/png": "[encoded data removed]",
      "text/plain": [
       "<Figure size 432x288 with 1 Axes>"
      ]
     },
     "metadata": {
      "needs_background": "light"
     },
     "output_type": "display_data"
    },
    {
     "data": {
      "image/png": "[encoded data removed]",
      "text/plain": [
       "<Figure size 432x288 with 1 Axes>"
      ]
     },
     "metadata": {
      "needs_background": "light"
     },
     "output_type": "display_data"
    },
    {
     "data": {
      "image/png": "[encoded data removed]",
      "text/plain": [
       "<Figure size 432x288 with 1 Axes>"
      ]
     },
     "metadata": {
      "needs_background": "light"
     },
     "output_type": "display_data"
    },
    {
     "data": {
      "image/png": "[encoded data removed]",
      "text/plain": [
       "<Figure size 432x288 with 1 Axes>"
      ]
     },
     "metadata": {
      "needs_background": "light"
     },
     "output_type": "display_data"
    },
    {
     "data": {
      "image/png": "[encoded data removed]",
      "text/plain": [
       "<Figure size 432x288 with 1 Axes>"
      ]
     },
     "metadata": {
      "needs_background": "light"
     },
     "output_type": "display_data"
    },
    {
     "data": {
      "image/png": "[encoded data removed]",
      "text/plain": [
       "<Figure size 432x288 with 1 Axes>"
      ]
     },
     "metadata": {
      "needs_background": "light"
     },
     "output_type": "display_data"
    },
    {
     "data": {
      "image/png": "[encoded data removed]",
      "text/plain": [
       "<Figure size 432x288 with 1 Axes>"
      ]
     },
     "metadata": {
      "needs_background": "light"
     },
     "output_type": "display_data"
    },
    {
     "data": {
      "image/png": "[encoded data removed]",
      "text/plain": [
       "<Figure size 432x288 with 1 Axes>"
      ]
     },
     "metadata": {
      "needs_background": "light"
     },
     "output_type": "display_data"
    }
   ],
   "source": [
    "for x in data_num.columns:\n",
    "    data_num[x].hist()\n",
    "    plt.xlabel(str(x))\n",
    "    plt.show()"
   ]
  },
  {
   "cell_type": "markdown",
   "metadata": {},
   "source": [
    "#### Insights from above plots\n",
    "\n",
    "* Weekly_Sales is following exponential distribution."
   ]
  },
  {
   "cell_type": "markdown",
   "metadata": {},
   "source": [
    "#### Bi-variate Analysis"
   ]
  },
  {
   "cell_type": "code",
   "execution_count": 30,
   "metadata": {},
   "outputs": [],
   "source": [
    "def scatter(dataset, column):\n",
    "    plt.figure()\n",
    "    plt.scatter(data[column] , data['Weekly_Sales'])\n",
    "    plt.ylabel('Weekly_Sales')\n",
    "    plt.xlabel(column)"
   ]
  },
  {
   "cell_type": "code",
   "execution_count": 31,
   "metadata": {
    "scrolled": true
   },
   "outputs": [
    {
     "data": {
      "image/png": "[encoded data removed]",
      "text/plain": [
       "<Figure size 432x288 with 1 Axes>"
      ]
     },
     "metadata": {
      "needs_background": "light"
     },
     "output_type": "display_data"
    },
    {
     "data": {
      "image/png": "[encoded data removed]",
      "text/plain": [
       "<Figure size 432x288 with 1 Axes>"
      ]
     },
     "metadata": {
      "needs_background": "light"
     },
     "output_type": "display_data"
    },
    {
     "data": {
      "image/png": "[encoded data removed]",
      "text/plain": [
       "<Figure size 432x288 with 1 Axes>"
      ]
     },
     "metadata": {
      "needs_background": "light"
     },
     "output_type": "display_data"
    },
    {
     "data": {
      "image/png": "[encoded data removed]",
      "text/plain": [
       "<Figure size 432x288 with 1 Axes>"
      ]
     },
     "metadata": {
      "needs_background": "light"
     },
     "output_type": "display_data"
    },
    {
     "data": {
      "image/png": "[encoded data removed]",
      "text/plain": [
       "<Figure size 432x288 with 1 Axes>"
      ]
     },
     "metadata": {
      "needs_background": "light"
     },
     "output_type": "display_data"
    },
    {
     "data": {
      "image/png": "[encoded data removed]",
      "text/plain": [
       "<Figure size 432x288 with 1 Axes>"
      ]
     },
     "metadata": {
      "needs_background": "light"
     },
     "output_type": "display_data"
    },
    {
     "data": {
      "image/png": "[encoded data removed]",
      "text/plain": [
       "<Figure size 432x288 with 1 Axes>"
      ]
     },
     "metadata": {
      "needs_background": "light"
     },
     "output_type": "display_data"
    },
    {
     "data": {
      "image/png": "[encoded data removed]",
      "text/plain": [
       "<Figure size 432x288 with 1 Axes>"
      ]
     },
     "metadata": {
      "needs_background": "light"
     },
     "output_type": "display_data"
    }
   ],
   "source": [
    "scatter(data_num, 'Fuel_Price')\n",
    "scatter(data_num, 'Size')\n",
    "scatter(data_num, 'CPI')\n",
    "scatter(data_num, 'Type')\n",
    "scatter(data_num, 'Unemployment')\n",
    "scatter(data_num, 'Temperature')\n",
    "scatter(data_num, 'Store')\n",
    "scatter(data_num, 'Dept')"
   ]
  },
  {
   "cell_type": "code",
   "execution_count": 32,
   "metadata": {},
   "outputs": [
    {
     "data": {
      "text/html": [
       "<div>\n",
       "<style scoped>\n",
       "    .dataframe tbody tr th:only-of-type {\n",
       "        vertical-align: middle;\n",
       "    }\n",
       "\n",
       "    .dataframe tbody tr th {\n",
       "        vertical-align: top;\n",
       "    }\n",
       "\n",
       "    .dataframe thead th {\n",
       "        text-align: right;\n",
       "    }\n",
       "</style>\n",
       "<table border=\"1\" class=\"dataframe\">\n",
       "  <thead>\n",
       "    <tr style=\"text-align: right;\">\n",
       "      <th></th>\n",
       "      <th>N</th>\n",
       "      <th>NMISS</th>\n",
       "      <th>SUM</th>\n",
       "      <th>MEAN</th>\n",
       "      <th>MEDIAN</th>\n",
       "      <th>STD</th>\n",
       "      <th>VAR</th>\n",
       "      <th>MIN</th>\n",
       "      <th>P1</th>\n",
       "      <th>P5</th>\n",
       "      <th>P10</th>\n",
       "      <th>P25</th>\n",
       "      <th>P50</th>\n",
       "      <th>P75</th>\n",
       "      <th>P90</th>\n",
       "      <th>P95</th>\n",
       "      <th>P99</th>\n",
       "      <th>MAX</th>\n",
       "    </tr>\n",
       "  </thead>\n",
       "  <tbody>\n",
       "    <tr>\n",
       "      <th>Weekly_Sales</th>\n",
       "      <td>421570.0</td>\n",
       "      <td>0.0</td>\n",
       "      <td>6.599483e+09</td>\n",
       "      <td>15654.535929</td>\n",
       "      <td>7612.030000</td>\n",
       "      <td>20781.670902</td>\n",
       "      <td>4.318778e+08</td>\n",
       "      <td>5.000000</td>\n",
       "      <td>5.000000</td>\n",
       "      <td>59.974500</td>\n",
       "      <td>291.097000</td>\n",
       "      <td>2079.650000</td>\n",
       "      <td>7612.030000</td>\n",
       "      <td>20205.852500</td>\n",
       "      <td>42845.673000</td>\n",
       "      <td>61201.951000</td>\n",
       "      <td>106477.746460</td>\n",
       "      <td>106479.586000</td>\n",
       "    </tr>\n",
       "    <tr>\n",
       "      <th>Fuel_Price</th>\n",
       "      <td>421570.0</td>\n",
       "      <td>0.0</td>\n",
       "      <td>1.416587e+06</td>\n",
       "      <td>3.360265</td>\n",
       "      <td>3.452000</td>\n",
       "      <td>0.456205</td>\n",
       "      <td>2.081234e-01</td>\n",
       "      <td>2.565000</td>\n",
       "      <td>2.565000</td>\n",
       "      <td>2.653000</td>\n",
       "      <td>2.720000</td>\n",
       "      <td>2.933000</td>\n",
       "      <td>3.452000</td>\n",
       "      <td>3.738000</td>\n",
       "      <td>3.917000</td>\n",
       "      <td>4.029000</td>\n",
       "      <td>4.202000</td>\n",
       "      <td>4.202000</td>\n",
       "    </tr>\n",
       "    <tr>\n",
       "      <th>Temperature</th>\n",
       "      <td>421570.0</td>\n",
       "      <td>0.0</td>\n",
       "      <td>2.533977e+07</td>\n",
       "      <td>60.108106</td>\n",
       "      <td>62.090000</td>\n",
       "      <td>18.297286</td>\n",
       "      <td>3.347907e+02</td>\n",
       "      <td>18.300000</td>\n",
       "      <td>18.300000</td>\n",
       "      <td>27.310000</td>\n",
       "      <td>33.980000</td>\n",
       "      <td>46.680000</td>\n",
       "      <td>62.090000</td>\n",
       "      <td>74.280000</td>\n",
       "      <td>83.580000</td>\n",
       "      <td>87.270000</td>\n",
       "      <td>92.810000</td>\n",
       "      <td>92.810000</td>\n",
       "    </tr>\n",
       "    <tr>\n",
       "      <th>MarkDown1</th>\n",
       "      <td>421570.0</td>\n",
       "      <td>0.0</td>\n",
       "      <td>2.938654e+09</td>\n",
       "      <td>6970.736994</td>\n",
       "      <td>7032.371786</td>\n",
       "      <td>3882.201994</td>\n",
       "      <td>1.507149e+07</td>\n",
       "      <td>58.340000</td>\n",
       "      <td>58.340000</td>\n",
       "      <td>709.320000</td>\n",
       "      <td>2565.800000</td>\n",
       "      <td>7032.371786</td>\n",
       "      <td>7032.371786</td>\n",
       "      <td>7032.371786</td>\n",
       "      <td>8624.560000</td>\n",
       "      <td>12407.710000</td>\n",
       "      <td>28177.290000</td>\n",
       "      <td>28177.290000</td>\n",
       "    </tr>\n",
       "    <tr>\n",
       "      <th>MarkDown2</th>\n",
       "      <td>421570.0</td>\n",
       "      <td>0.0</td>\n",
       "      <td>1.330473e+09</td>\n",
       "      <td>3155.995685</td>\n",
       "      <td>3384.176594</td>\n",
       "      <td>2691.713792</td>\n",
       "      <td>7.245323e+06</td>\n",
       "      <td>1.500000</td>\n",
       "      <td>1.500000</td>\n",
       "      <td>22.800000</td>\n",
       "      <td>96.940000</td>\n",
       "      <td>3384.176594</td>\n",
       "      <td>3384.176594</td>\n",
       "      <td>3384.176594</td>\n",
       "      <td>3384.176594</td>\n",
       "      <td>3789.560000</td>\n",
       "      <td>21813.160000</td>\n",
       "      <td>21813.160000</td>\n",
       "    </tr>\n",
       "    <tr>\n",
       "      <th>MarkDown3</th>\n",
       "      <td>421570.0</td>\n",
       "      <td>0.0</td>\n",
       "      <td>5.243956e+08</td>\n",
       "      <td>1243.911197</td>\n",
       "      <td>1760.100180</td>\n",
       "      <td>781.513378</td>\n",
       "      <td>6.107632e+05</td>\n",
       "      <td>0.350000</td>\n",
       "      <td>0.350000</td>\n",
       "      <td>2.700000</td>\n",
       "      <td>7.170000</td>\n",
       "      <td>115.390000</td>\n",
       "      <td>1760.100180</td>\n",
       "      <td>1760.100180</td>\n",
       "      <td>1760.100180</td>\n",
       "      <td>1760.100180</td>\n",
       "      <td>2083.280000</td>\n",
       "      <td>2083.280000</td>\n",
       "    </tr>\n",
       "    <tr>\n",
       "      <th>MarkDown4</th>\n",
       "      <td>421570.0</td>\n",
       "      <td>0.0</td>\n",
       "      <td>1.337418e+09</td>\n",
       "      <td>3172.468492</td>\n",
       "      <td>3292.935886</td>\n",
       "      <td>2198.393252</td>\n",
       "      <td>4.832933e+06</td>\n",
       "      <td>14.330000</td>\n",
       "      <td>14.330000</td>\n",
       "      <td>273.530000</td>\n",
       "      <td>696.470000</td>\n",
       "      <td>3292.935886</td>\n",
       "      <td>3292.935886</td>\n",
       "      <td>3292.935886</td>\n",
       "      <td>3292.935886</td>\n",
       "      <td>5163.630000</td>\n",
       "      <td>16822.460000</td>\n",
       "      <td>16822.460000</td>\n",
       "    </tr>\n",
       "    <tr>\n",
       "      <th>MarkDown5</th>\n",
       "      <td>421570.0</td>\n",
       "      <td>0.0</td>\n",
       "      <td>1.759170e+09</td>\n",
       "      <td>4172.900167</td>\n",
       "      <td>4132.216422</td>\n",
       "      <td>2008.458518</td>\n",
       "      <td>4.033906e+06</td>\n",
       "      <td>548.020000</td>\n",
       "      <td>548.020000</td>\n",
       "      <td>1288.810000</td>\n",
       "      <td>2049.020000</td>\n",
       "      <td>4132.216422</td>\n",
       "      <td>4132.216422</td>\n",
       "      <td>4132.216422</td>\n",
       "      <td>5284.630000</td>\n",
       "      <td>7456.150000</td>\n",
       "      <td>15590.530000</td>\n",
       "      <td>15590.530000</td>\n",
       "    </tr>\n",
       "    <tr>\n",
       "      <th>CPI</th>\n",
       "      <td>421570.0</td>\n",
       "      <td>0.0</td>\n",
       "      <td>7.217089e+07</td>\n",
       "      <td>171.195504</td>\n",
       "      <td>182.318780</td>\n",
       "      <td>39.149643</td>\n",
       "      <td>1.532695e+03</td>\n",
       "      <td>126.111903</td>\n",
       "      <td>126.111903</td>\n",
       "      <td>126.496258</td>\n",
       "      <td>128.823806</td>\n",
       "      <td>132.022667</td>\n",
       "      <td>182.318780</td>\n",
       "      <td>212.416993</td>\n",
       "      <td>219.444244</td>\n",
       "      <td>221.941558</td>\n",
       "      <td>225.473509</td>\n",
       "      <td>225.473509</td>\n",
       "    </tr>\n",
       "    <tr>\n",
       "      <th>Unemployment</th>\n",
       "      <td>421570.0</td>\n",
       "      <td>0.0</td>\n",
       "      <td>3.355685e+06</td>\n",
       "      <td>7.959971</td>\n",
       "      <td>7.866000</td>\n",
       "      <td>1.859419</td>\n",
       "      <td>3.457438e+00</td>\n",
       "      <td>4.156000</td>\n",
       "      <td>4.156000</td>\n",
       "      <td>5.326000</td>\n",
       "      <td>5.965000</td>\n",
       "      <td>6.891000</td>\n",
       "      <td>7.866000</td>\n",
       "      <td>8.572000</td>\n",
       "      <td>9.816000</td>\n",
       "      <td>12.187000</td>\n",
       "      <td>14.180000</td>\n",
       "      <td>14.180000</td>\n",
       "    </tr>\n",
       "    <tr>\n",
       "      <th>Size</th>\n",
       "      <td>421570.0</td>\n",
       "      <td>0.0</td>\n",
       "      <td>5.764039e+10</td>\n",
       "      <td>136727.915739</td>\n",
       "      <td>140167.000000</td>\n",
       "      <td>60980.583328</td>\n",
       "      <td>3.718632e+09</td>\n",
       "      <td>34875.000000</td>\n",
       "      <td>34875.000000</td>\n",
       "      <td>39690.000000</td>\n",
       "      <td>39910.000000</td>\n",
       "      <td>93638.000000</td>\n",
       "      <td>140167.000000</td>\n",
       "      <td>202505.000000</td>\n",
       "      <td>204184.000000</td>\n",
       "      <td>206302.000000</td>\n",
       "      <td>219622.000000</td>\n",
       "      <td>219622.000000</td>\n",
       "    </tr>\n",
       "  </tbody>\n",
       "</table>\n",
       "</div>"
      ],
      "text/plain": [
       "                     N  NMISS           SUM           MEAN         MEDIAN  \\\n",
       "Weekly_Sales  421570.0    0.0  6.599483e+09   15654.535929    7612.030000   \n",
       "Fuel_Price    421570.0    0.0  1.416587e+06       3.360265       3.452000   \n",
       "Temperature   421570.0    0.0  2.533977e+07      60.108106      62.090000   \n",
       "MarkDown1     421570.0    0.0  2.938654e+09    6970.736994    7032.371786   \n",
       "MarkDown2     421570.0    0.0  1.330473e+09    3155.995685    3384.176594   \n",
       "MarkDown3     421570.0    0.0  5.243956e+08    1243.911197    1760.100180   \n",
       "MarkDown4     421570.0    0.0  1.337418e+09    3172.468492    3292.935886   \n",
       "MarkDown5     421570.0    0.0  1.759170e+09    4172.900167    4132.216422   \n",
       "CPI           421570.0    0.0  7.217089e+07     171.195504     182.318780   \n",
       "Unemployment  421570.0    0.0  3.355685e+06       7.959971       7.866000   \n",
       "Size          421570.0    0.0  5.764039e+10  136727.915739  140167.000000   \n",
       "\n",
       "                       STD           VAR           MIN            P1  \\\n",
       "Weekly_Sales  20781.670902  4.318778e+08      5.000000      5.000000   \n",
       "Fuel_Price        0.456205  2.081234e-01      2.565000      2.565000   \n",
       "Temperature      18.297286  3.347907e+02     18.300000     18.300000   \n",
       "MarkDown1      3882.201994  1.507149e+07     58.340000     58.340000   \n",
       "MarkDown2      2691.713792  7.245323e+06      1.500000      1.500000   \n",
       "MarkDown3       781.513378  6.107632e+05      0.350000      0.350000   \n",
       "MarkDown4      2198.393252  4.832933e+06     14.330000     14.330000   \n",
       "MarkDown5      2008.458518  4.033906e+06    548.020000    548.020000   \n",
       "CPI              39.149643  1.532695e+03    126.111903    126.111903   \n",
       "Unemployment      1.859419  3.457438e+00      4.156000      4.156000   \n",
       "Size          60980.583328  3.718632e+09  34875.000000  34875.000000   \n",
       "\n",
       "                        P5           P10           P25            P50  \\\n",
       "Weekly_Sales     59.974500    291.097000   2079.650000    7612.030000   \n",
       "Fuel_Price        2.653000      2.720000      2.933000       3.452000   \n",
       "Temperature      27.310000     33.980000     46.680000      62.090000   \n",
       "MarkDown1       709.320000   2565.800000   7032.371786    7032.371786   \n",
       "MarkDown2        22.800000     96.940000   3384.176594    3384.176594   \n",
       "MarkDown3         2.700000      7.170000    115.390000    1760.100180   \n",
       "MarkDown4       273.530000    696.470000   3292.935886    3292.935886   \n",
       "MarkDown5      1288.810000   2049.020000   4132.216422    4132.216422   \n",
       "CPI             126.496258    128.823806    132.022667     182.318780   \n",
       "Unemployment      5.326000      5.965000      6.891000       7.866000   \n",
       "Size          39690.000000  39910.000000  93638.000000  140167.000000   \n",
       "\n",
       "                        P75            P90            P95            P99  \\\n",
       "Weekly_Sales   20205.852500   42845.673000   61201.951000  106477.746460   \n",
       "Fuel_Price         3.738000       3.917000       4.029000       4.202000   \n",
       "Temperature       74.280000      83.580000      87.270000      92.810000   \n",
       "MarkDown1       7032.371786    8624.560000   12407.710000   28177.290000   \n",
       "MarkDown2       3384.176594    3384.176594    3789.560000   21813.160000   \n",
       "MarkDown3       1760.100180    1760.100180    1760.100180    2083.280000   \n",
       "MarkDown4       3292.935886    3292.935886    5163.630000   16822.460000   \n",
       "MarkDown5       4132.216422    5284.630000    7456.150000   15590.530000   \n",
       "CPI              212.416993     219.444244     221.941558     225.473509   \n",
       "Unemployment       8.572000       9.816000      12.187000      14.180000   \n",
       "Size          202505.000000  204184.000000  206302.000000  219622.000000   \n",
       "\n",
       "                        MAX  \n",
       "Weekly_Sales  106479.586000  \n",
       "Fuel_Price         4.202000  \n",
       "Temperature       92.810000  \n",
       "MarkDown1      28177.290000  \n",
       "MarkDown2      21813.160000  \n",
       "MarkDown3       2083.280000  \n",
       "MarkDown4      16822.460000  \n",
       "MarkDown5      15590.530000  \n",
       "CPI              225.473509  \n",
       "Unemployment      14.180000  \n",
       "Size          219622.000000  "
      ]
     },
     "execution_count": 32,
     "metadata": {},
     "output_type": "execute_result"
    }
   ],
   "source": [
    "def var_summary(x):\n",
    "    return pd.Series([x.count(), x.isnull().sum(), x.sum(), x.mean(), x.median(),  x.std(), x.var(), x.min(), x.dropna().quantile(0.01), x.dropna().quantile(0.05),x.dropna().quantile(0.10),x.dropna().quantile(0.25),x.dropna().quantile(0.50),x.dropna().quantile(0.75), x.dropna().quantile(0.90),x.dropna().quantile(0.95), x.dropna().quantile(0.99),x.max()], \n",
    "                  index=['N', 'NMISS', 'SUM', 'MEAN','MEDIAN', 'STD', 'VAR', 'MIN', 'P1' , 'P5' ,'P10' ,'P25' ,'P50' ,'P75' ,'P90' ,'P95' ,'P99' ,'MAX'])\n",
    "\n",
    "num_summary = data_num.apply(lambda x: var_summary(x)).T\n",
    "num_summary"
   ]
  },
  {
   "cell_type": "markdown",
   "metadata": {},
   "source": [
    "#### Creating Dummy variables"
   ]
  },
  {
   "cell_type": "code",
   "execution_count": 33,
   "metadata": {},
   "outputs": [],
   "source": [
    "#Creating dummies for nominal categorical variables\n",
    "def create_dummies( df, colname ):\n",
    "    col_dummies = pd.get_dummies(df[colname], prefix=colname, drop_first=True)\n",
    "    df = pd.concat([df, col_dummies], axis=1)\n",
    "    df.drop( colname, axis = 1, inplace = True )\n",
    "    return df\n",
    "\n",
    "for c_feature in data_cat.columns:\n",
    "    data_cat[c_feature] = data_cat[c_feature].astype('category')\n",
    "    data_cat = create_dummies(data_cat , c_feature )"
   ]
  },
  {
   "cell_type": "code",
   "execution_count": 34,
   "metadata": {},
   "outputs": [],
   "source": [
    "#Creating dummies for nominal categorical variables\n",
    "def create_dummies( df, colname ):\n",
    "    col_dummies = pd.get_dummies(df[colname], prefix=colname, drop_first=True)\n",
    "    df = pd.concat([df, col_dummies], axis=1)\n",
    "    df.drop( colname, axis = 1, inplace = True )\n",
    "    return df\n",
    "\n",
    "for c_feature in test_cat.columns:\n",
    "    test_cat[c_feature] = test_cat[c_feature].astype('category')\n",
    "    test_cat = create_dummies(test_cat , c_feature )"
   ]
  },
  {
   "cell_type": "code",
   "execution_count": 35,
   "metadata": {},
   "outputs": [
    {
     "data": {
      "text/html": [
       "<div>\n",
       "<style scoped>\n",
       "    .dataframe tbody tr th:only-of-type {\n",
       "        vertical-align: middle;\n",
       "    }\n",
       "\n",
       "    .dataframe tbody tr th {\n",
       "        vertical-align: top;\n",
       "    }\n",
       "\n",
       "    .dataframe thead th {\n",
       "        text-align: right;\n",
       "    }\n",
       "</style>\n",
       "<table border=\"1\" class=\"dataframe\">\n",
       "  <thead>\n",
       "    <tr style=\"text-align: right;\">\n",
       "      <th></th>\n",
       "      <th>Year_2011</th>\n",
       "      <th>Year_2012</th>\n",
       "      <th>Month_2</th>\n",
       "      <th>Month_3</th>\n",
       "      <th>Month_4</th>\n",
       "      <th>Month_5</th>\n",
       "      <th>Month_6</th>\n",
       "      <th>Month_7</th>\n",
       "      <th>Month_8</th>\n",
       "      <th>Month_9</th>\n",
       "      <th>...</th>\n",
       "      <th>Dept_95</th>\n",
       "      <th>Dept_96</th>\n",
       "      <th>Dept_97</th>\n",
       "      <th>Dept_98</th>\n",
       "      <th>Dept_99</th>\n",
       "      <th>SuperBowl_1</th>\n",
       "      <th>LaborDay_1</th>\n",
       "      <th>IsHoliday_1</th>\n",
       "      <th>Thanksgiving_1</th>\n",
       "      <th>Christmas_1</th>\n",
       "    </tr>\n",
       "  </thead>\n",
       "  <tbody>\n",
       "    <tr>\n",
       "      <th>0</th>\n",
       "      <td>0</td>\n",
       "      <td>0</td>\n",
       "      <td>1</td>\n",
       "      <td>0</td>\n",
       "      <td>0</td>\n",
       "      <td>0</td>\n",
       "      <td>0</td>\n",
       "      <td>0</td>\n",
       "      <td>0</td>\n",
       "      <td>0</td>\n",
       "      <td>...</td>\n",
       "      <td>0</td>\n",
       "      <td>0</td>\n",
       "      <td>0</td>\n",
       "      <td>0</td>\n",
       "      <td>0</td>\n",
       "      <td>0</td>\n",
       "      <td>0</td>\n",
       "      <td>0</td>\n",
       "      <td>0</td>\n",
       "      <td>0</td>\n",
       "    </tr>\n",
       "    <tr>\n",
       "      <th>1</th>\n",
       "      <td>0</td>\n",
       "      <td>0</td>\n",
       "      <td>1</td>\n",
       "      <td>0</td>\n",
       "      <td>0</td>\n",
       "      <td>0</td>\n",
       "      <td>0</td>\n",
       "      <td>0</td>\n",
       "      <td>0</td>\n",
       "      <td>0</td>\n",
       "      <td>...</td>\n",
       "      <td>0</td>\n",
       "      <td>0</td>\n",
       "      <td>0</td>\n",
       "      <td>0</td>\n",
       "      <td>0</td>\n",
       "      <td>1</td>\n",
       "      <td>0</td>\n",
       "      <td>1</td>\n",
       "      <td>0</td>\n",
       "      <td>0</td>\n",
       "    </tr>\n",
       "    <tr>\n",
       "      <th>2</th>\n",
       "      <td>0</td>\n",
       "      <td>0</td>\n",
       "      <td>1</td>\n",
       "      <td>0</td>\n",
       "      <td>0</td>\n",
       "      <td>0</td>\n",
       "      <td>0</td>\n",
       "      <td>0</td>\n",
       "      <td>0</td>\n",
       "      <td>0</td>\n",
       "      <td>...</td>\n",
       "      <td>0</td>\n",
       "      <td>0</td>\n",
       "      <td>0</td>\n",
       "      <td>0</td>\n",
       "      <td>0</td>\n",
       "      <td>0</td>\n",
       "      <td>0</td>\n",
       "      <td>0</td>\n",
       "      <td>0</td>\n",
       "      <td>0</td>\n",
       "    </tr>\n",
       "    <tr>\n",
       "      <th>3</th>\n",
       "      <td>0</td>\n",
       "      <td>0</td>\n",
       "      <td>1</td>\n",
       "      <td>0</td>\n",
       "      <td>0</td>\n",
       "      <td>0</td>\n",
       "      <td>0</td>\n",
       "      <td>0</td>\n",
       "      <td>0</td>\n",
       "      <td>0</td>\n",
       "      <td>...</td>\n",
       "      <td>0</td>\n",
       "      <td>0</td>\n",
       "      <td>0</td>\n",
       "      <td>0</td>\n",
       "      <td>0</td>\n",
       "      <td>0</td>\n",
       "      <td>0</td>\n",
       "      <td>0</td>\n",
       "      <td>0</td>\n",
       "      <td>0</td>\n",
       "    </tr>\n",
       "    <tr>\n",
       "      <th>4</th>\n",
       "      <td>0</td>\n",
       "      <td>0</td>\n",
       "      <td>0</td>\n",
       "      <td>1</td>\n",
       "      <td>0</td>\n",
       "      <td>0</td>\n",
       "      <td>0</td>\n",
       "      <td>0</td>\n",
       "      <td>0</td>\n",
       "      <td>0</td>\n",
       "      <td>...</td>\n",
       "      <td>0</td>\n",
       "      <td>0</td>\n",
       "      <td>0</td>\n",
       "      <td>0</td>\n",
       "      <td>0</td>\n",
       "      <td>0</td>\n",
       "      <td>0</td>\n",
       "      <td>0</td>\n",
       "      <td>0</td>\n",
       "      <td>0</td>\n",
       "    </tr>\n",
       "  </tbody>\n",
       "</table>\n",
       "<p>5 rows × 198 columns</p>\n",
       "</div>"
      ],
      "text/plain": [
       "   Year_2011  Year_2012  Month_2  Month_3  Month_4  Month_5  Month_6  Month_7  \\\n",
       "0          0          0        1        0        0        0        0        0   \n",
       "1          0          0        1        0        0        0        0        0   \n",
       "2          0          0        1        0        0        0        0        0   \n",
       "3          0          0        1        0        0        0        0        0   \n",
       "4          0          0        0        1        0        0        0        0   \n",
       "\n",
       "   Month_8  Month_9  ...  Dept_95  Dept_96  Dept_97  Dept_98  Dept_99  \\\n",
       "0        0        0  ...        0        0        0        0        0   \n",
       "1        0        0  ...        0        0        0        0        0   \n",
       "2        0        0  ...        0        0        0        0        0   \n",
       "3        0        0  ...        0        0        0        0        0   \n",
       "4        0        0  ...        0        0        0        0        0   \n",
       "\n",
       "   SuperBowl_1  LaborDay_1  IsHoliday_1  Thanksgiving_1  Christmas_1  \n",
       "0            0           0            0               0            0  \n",
       "1            1           0            1               0            0  \n",
       "2            0           0            0               0            0  \n",
       "3            0           0            0               0            0  \n",
       "4            0           0            0               0            0  \n",
       "\n",
       "[5 rows x 198 columns]"
      ]
     },
     "execution_count": 35,
     "metadata": {},
     "output_type": "execute_result"
    }
   ],
   "source": [
    "data_cat.head()"
   ]
  },
  {
   "cell_type": "code",
   "execution_count": 36,
   "metadata": {},
   "outputs": [
    {
     "data": {
      "text/html": [
       "<div>\n",
       "<style scoped>\n",
       "    .dataframe tbody tr th:only-of-type {\n",
       "        vertical-align: middle;\n",
       "    }\n",
       "\n",
       "    .dataframe tbody tr th {\n",
       "        vertical-align: top;\n",
       "    }\n",
       "\n",
       "    .dataframe thead th {\n",
       "        text-align: right;\n",
       "    }\n",
       "</style>\n",
       "<table border=\"1\" class=\"dataframe\">\n",
       "  <thead>\n",
       "    <tr style=\"text-align: right;\">\n",
       "      <th></th>\n",
       "      <th>Year_2013</th>\n",
       "      <th>Month_2</th>\n",
       "      <th>Month_3</th>\n",
       "      <th>Month_4</th>\n",
       "      <th>Month_5</th>\n",
       "      <th>Month_6</th>\n",
       "      <th>Month_7</th>\n",
       "      <th>Month_11</th>\n",
       "      <th>Month_12</th>\n",
       "      <th>Quarter_2</th>\n",
       "      <th>...</th>\n",
       "      <th>Dept_94</th>\n",
       "      <th>Dept_95</th>\n",
       "      <th>Dept_96</th>\n",
       "      <th>Dept_97</th>\n",
       "      <th>Dept_98</th>\n",
       "      <th>Dept_99</th>\n",
       "      <th>SuperBowl_1</th>\n",
       "      <th>IsHoliday_1</th>\n",
       "      <th>Thanksgiving_1</th>\n",
       "      <th>Christmas_1</th>\n",
       "    </tr>\n",
       "  </thead>\n",
       "  <tbody>\n",
       "    <tr>\n",
       "      <th>0</th>\n",
       "      <td>0</td>\n",
       "      <td>0</td>\n",
       "      <td>0</td>\n",
       "      <td>0</td>\n",
       "      <td>0</td>\n",
       "      <td>0</td>\n",
       "      <td>0</td>\n",
       "      <td>1</td>\n",
       "      <td>0</td>\n",
       "      <td>0</td>\n",
       "      <td>...</td>\n",
       "      <td>0</td>\n",
       "      <td>0</td>\n",
       "      <td>0</td>\n",
       "      <td>0</td>\n",
       "      <td>0</td>\n",
       "      <td>0</td>\n",
       "      <td>0</td>\n",
       "      <td>0</td>\n",
       "      <td>0</td>\n",
       "      <td>0</td>\n",
       "    </tr>\n",
       "    <tr>\n",
       "      <th>1</th>\n",
       "      <td>0</td>\n",
       "      <td>0</td>\n",
       "      <td>0</td>\n",
       "      <td>0</td>\n",
       "      <td>0</td>\n",
       "      <td>0</td>\n",
       "      <td>0</td>\n",
       "      <td>1</td>\n",
       "      <td>0</td>\n",
       "      <td>0</td>\n",
       "      <td>...</td>\n",
       "      <td>0</td>\n",
       "      <td>0</td>\n",
       "      <td>0</td>\n",
       "      <td>0</td>\n",
       "      <td>0</td>\n",
       "      <td>0</td>\n",
       "      <td>0</td>\n",
       "      <td>0</td>\n",
       "      <td>0</td>\n",
       "      <td>0</td>\n",
       "    </tr>\n",
       "    <tr>\n",
       "      <th>2</th>\n",
       "      <td>0</td>\n",
       "      <td>0</td>\n",
       "      <td>0</td>\n",
       "      <td>0</td>\n",
       "      <td>0</td>\n",
       "      <td>0</td>\n",
       "      <td>0</td>\n",
       "      <td>1</td>\n",
       "      <td>0</td>\n",
       "      <td>0</td>\n",
       "      <td>...</td>\n",
       "      <td>0</td>\n",
       "      <td>0</td>\n",
       "      <td>0</td>\n",
       "      <td>0</td>\n",
       "      <td>0</td>\n",
       "      <td>0</td>\n",
       "      <td>0</td>\n",
       "      <td>0</td>\n",
       "      <td>0</td>\n",
       "      <td>0</td>\n",
       "    </tr>\n",
       "    <tr>\n",
       "      <th>3</th>\n",
       "      <td>0</td>\n",
       "      <td>0</td>\n",
       "      <td>0</td>\n",
       "      <td>0</td>\n",
       "      <td>0</td>\n",
       "      <td>0</td>\n",
       "      <td>0</td>\n",
       "      <td>1</td>\n",
       "      <td>0</td>\n",
       "      <td>0</td>\n",
       "      <td>...</td>\n",
       "      <td>0</td>\n",
       "      <td>0</td>\n",
       "      <td>0</td>\n",
       "      <td>0</td>\n",
       "      <td>0</td>\n",
       "      <td>0</td>\n",
       "      <td>0</td>\n",
       "      <td>1</td>\n",
       "      <td>1</td>\n",
       "      <td>0</td>\n",
       "    </tr>\n",
       "    <tr>\n",
       "      <th>4</th>\n",
       "      <td>0</td>\n",
       "      <td>0</td>\n",
       "      <td>0</td>\n",
       "      <td>0</td>\n",
       "      <td>0</td>\n",
       "      <td>0</td>\n",
       "      <td>0</td>\n",
       "      <td>1</td>\n",
       "      <td>0</td>\n",
       "      <td>0</td>\n",
       "      <td>...</td>\n",
       "      <td>0</td>\n",
       "      <td>0</td>\n",
       "      <td>0</td>\n",
       "      <td>0</td>\n",
       "      <td>0</td>\n",
       "      <td>0</td>\n",
       "      <td>0</td>\n",
       "      <td>0</td>\n",
       "      <td>0</td>\n",
       "      <td>0</td>\n",
       "    </tr>\n",
       "  </tbody>\n",
       "</table>\n",
       "<p>5 rows × 180 columns</p>\n",
       "</div>"
      ],
      "text/plain": [
       "   Year_2013  Month_2  Month_3  Month_4  Month_5  Month_6  Month_7  Month_11  \\\n",
       "0          0        0        0        0        0        0        0         1   \n",
       "1          0        0        0        0        0        0        0         1   \n",
       "2          0        0        0        0        0        0        0         1   \n",
       "3          0        0        0        0        0        0        0         1   \n",
       "4          0        0        0        0        0        0        0         1   \n",
       "\n",
       "   Month_12  Quarter_2  ...  Dept_94  Dept_95  Dept_96  Dept_97  Dept_98  \\\n",
       "0         0          0  ...        0        0        0        0        0   \n",
       "1         0          0  ...        0        0        0        0        0   \n",
       "2         0          0  ...        0        0        0        0        0   \n",
       "3         0          0  ...        0        0        0        0        0   \n",
       "4         0          0  ...        0        0        0        0        0   \n",
       "\n",
       "   Dept_99  SuperBowl_1  IsHoliday_1  Thanksgiving_1  Christmas_1  \n",
       "0        0            0            0               0            0  \n",
       "1        0            0            0               0            0  \n",
       "2        0            0            0               0            0  \n",
       "3        0            0            1               1            0  \n",
       "4        0            0            0               0            0  \n",
       "\n",
       "[5 rows x 180 columns]"
      ]
     },
     "execution_count": 36,
     "metadata": {},
     "output_type": "execute_result"
    }
   ],
   "source": [
    "test_cat.head()"
   ]
  },
  {
   "cell_type": "code",
   "execution_count": 37,
   "metadata": {},
   "outputs": [],
   "source": [
    "#Combining both categorical and Continuous data\n",
    "data_final = pd.concat([data_num,data_cat],axis=1)"
   ]
  },
  {
   "cell_type": "code",
   "execution_count": 38,
   "metadata": {},
   "outputs": [],
   "source": [
    "test = pd.concat([test_num,test_cat],axis=1)"
   ]
  },
  {
   "cell_type": "code",
   "execution_count": 39,
   "metadata": {},
   "outputs": [
    {
     "name": "stdout",
     "output_type": "stream",
     "text": [
      "<class 'pandas.core.frame.DataFrame'>\n",
      "Int64Index: 421570 entries, 0 to 421569\n",
      "Columns: 209 entries, Weekly_Sales to Christmas_1\n",
      "dtypes: float64(10), int64(1), uint8(198)\n",
      "memory usage: 118.2 MB\n"
     ]
    }
   ],
   "source": [
    "data_final.info()"
   ]
  },
  {
   "cell_type": "code",
   "execution_count": 40,
   "metadata": {},
   "outputs": [],
   "source": [
    "# Looking at the assumptions - Linearity\n",
    "corr_mat = data_final.corr()"
   ]
  },
  {
   "cell_type": "code",
   "execution_count": 41,
   "metadata": {},
   "outputs": [
    {
     "data": {
      "text/html": [
       "<div>\n",
       "<style scoped>\n",
       "    .dataframe tbody tr th:only-of-type {\n",
       "        vertical-align: middle;\n",
       "    }\n",
       "\n",
       "    .dataframe tbody tr th {\n",
       "        vertical-align: top;\n",
       "    }\n",
       "\n",
       "    .dataframe thead th {\n",
       "        text-align: right;\n",
       "    }\n",
       "</style>\n",
       "<table border=\"1\" class=\"dataframe\">\n",
       "  <thead>\n",
       "    <tr style=\"text-align: right;\">\n",
       "      <th></th>\n",
       "      <th>Weekly_Sales</th>\n",
       "      <th>Fuel_Price</th>\n",
       "      <th>Temperature</th>\n",
       "      <th>MarkDown1</th>\n",
       "      <th>MarkDown2</th>\n",
       "      <th>MarkDown3</th>\n",
       "      <th>MarkDown4</th>\n",
       "      <th>MarkDown5</th>\n",
       "      <th>CPI</th>\n",
       "      <th>Unemployment</th>\n",
       "      <th>...</th>\n",
       "      <th>Dept_95</th>\n",
       "      <th>Dept_96</th>\n",
       "      <th>Dept_97</th>\n",
       "      <th>Dept_98</th>\n",
       "      <th>Dept_99</th>\n",
       "      <th>SuperBowl_1</th>\n",
       "      <th>LaborDay_1</th>\n",
       "      <th>IsHoliday_1</th>\n",
       "      <th>Thanksgiving_1</th>\n",
       "      <th>Christmas_1</th>\n",
       "    </tr>\n",
       "  </thead>\n",
       "  <tbody>\n",
       "    <tr>\n",
       "      <th>Weekly_Sales</th>\n",
       "      <td>1.000000</td>\n",
       "      <td>0.001395</td>\n",
       "      <td>0.000733</td>\n",
       "      <td>0.065079</td>\n",
       "      <td>0.007083</td>\n",
       "      <td>-0.004590</td>\n",
       "      <td>0.035515</td>\n",
       "      <td>0.086458</td>\n",
       "      <td>-0.022697</td>\n",
       "      <td>-0.025362</td>\n",
       "      <td>...</td>\n",
       "      <td>0.293878</td>\n",
       "      <td>-0.002303</td>\n",
       "      <td>-0.008277</td>\n",
       "      <td>-0.050341</td>\n",
       "      <td>-0.033190</td>\n",
       "      <td>0.001404</td>\n",
       "      <td>-0.001538</td>\n",
       "      <td>0.007922</td>\n",
       "      <td>0.021788</td>\n",
       "      <td>-0.006908</td>\n",
       "    </tr>\n",
       "    <tr>\n",
       "      <th>Fuel_Price</th>\n",
       "      <td>0.001395</td>\n",
       "      <td>1.000000</td>\n",
       "      <td>0.142258</td>\n",
       "      <td>0.030301</td>\n",
       "      <td>-0.120313</td>\n",
       "      <td>-0.455592</td>\n",
       "      <td>-0.044007</td>\n",
       "      <td>-0.029651</td>\n",
       "      <td>-0.162609</td>\n",
       "      <td>-0.034938</td>\n",
       "      <td>...</td>\n",
       "      <td>-0.000678</td>\n",
       "      <td>-0.000324</td>\n",
       "      <td>0.000349</td>\n",
       "      <td>0.002979</td>\n",
       "      <td>0.023029</td>\n",
       "      <td>-0.111802</td>\n",
       "      <td>-0.117242</td>\n",
       "      <td>-0.077839</td>\n",
       "      <td>-0.047113</td>\n",
       "      <td>-0.051571</td>\n",
       "    </tr>\n",
       "    <tr>\n",
       "      <th>Temperature</th>\n",
       "      <td>0.000733</td>\n",
       "      <td>0.142258</td>\n",
       "      <td>1.000000</td>\n",
       "      <td>-0.009371</td>\n",
       "      <td>-0.203653</td>\n",
       "      <td>-0.007477</td>\n",
       "      <td>-0.000344</td>\n",
       "      <td>-0.040474</td>\n",
       "      <td>0.184320</td>\n",
       "      <td>0.095296</td>\n",
       "      <td>...</td>\n",
       "      <td>0.003854</td>\n",
       "      <td>0.008516</td>\n",
       "      <td>0.002645</td>\n",
       "      <td>0.000126</td>\n",
       "      <td>0.006660</td>\n",
       "      <td>-0.178624</td>\n",
       "      <td>0.054114</td>\n",
       "      <td>-0.156556</td>\n",
       "      <td>-0.077645</td>\n",
       "      <td>-0.151807</td>\n",
       "    </tr>\n",
       "    <tr>\n",
       "      <th>MarkDown1</th>\n",
       "      <td>0.065079</td>\n",
       "      <td>0.030301</td>\n",
       "      <td>-0.009371</td>\n",
       "      <td>1.000000</td>\n",
       "      <td>0.061233</td>\n",
       "      <td>-0.086374</td>\n",
       "      <td>0.717055</td>\n",
       "      <td>0.301032</td>\n",
       "      <td>-0.039537</td>\n",
       "      <td>0.034690</td>\n",
       "      <td>...</td>\n",
       "      <td>-0.004135</td>\n",
       "      <td>-0.009295</td>\n",
       "      <td>-0.003253</td>\n",
       "      <td>-0.002955</td>\n",
       "      <td>0.023311</td>\n",
       "      <td>0.001890</td>\n",
       "      <td>0.001330</td>\n",
       "      <td>-0.019609</td>\n",
       "      <td>-0.097141</td>\n",
       "      <td>-0.043720</td>\n",
       "    </tr>\n",
       "    <tr>\n",
       "      <th>MarkDown2</th>\n",
       "      <td>0.007083</td>\n",
       "      <td>-0.120313</td>\n",
       "      <td>-0.203653</td>\n",
       "      <td>0.061233</td>\n",
       "      <td>1.000000</td>\n",
       "      <td>0.062240</td>\n",
       "      <td>0.030830</td>\n",
       "      <td>0.046179</td>\n",
       "      <td>-0.037445</td>\n",
       "      <td>0.036849</td>\n",
       "      <td>...</td>\n",
       "      <td>-0.000523</td>\n",
       "      <td>-0.001816</td>\n",
       "      <td>-0.000263</td>\n",
       "      <td>-0.000107</td>\n",
       "      <td>-0.005591</td>\n",
       "      <td>0.010094</td>\n",
       "      <td>0.007100</td>\n",
       "      <td>0.136670</td>\n",
       "      <td>-0.048358</td>\n",
       "      <td>0.343893</td>\n",
       "    </tr>\n",
       "    <tr>\n",
       "      <th>...</th>\n",
       "      <td>...</td>\n",
       "      <td>...</td>\n",
       "      <td>...</td>\n",
       "      <td>...</td>\n",
       "      <td>...</td>\n",
       "      <td>...</td>\n",
       "      <td>...</td>\n",
       "      <td>...</td>\n",
       "      <td>...</td>\n",
       "      <td>...</td>\n",
       "      <td>...</td>\n",
       "      <td>...</td>\n",
       "      <td>...</td>\n",
       "      <td>...</td>\n",
       "      <td>...</td>\n",
       "      <td>...</td>\n",
       "      <td>...</td>\n",
       "      <td>...</td>\n",
       "      <td>...</td>\n",
       "      <td>...</td>\n",
       "      <td>...</td>\n",
       "    </tr>\n",
       "    <tr>\n",
       "      <th>SuperBowl_1</th>\n",
       "      <td>0.001404</td>\n",
       "      <td>-0.111802</td>\n",
       "      <td>-0.178624</td>\n",
       "      <td>0.001890</td>\n",
       "      <td>0.010094</td>\n",
       "      <td>0.078650</td>\n",
       "      <td>0.006525</td>\n",
       "      <td>-0.002412</td>\n",
       "      <td>-0.008981</td>\n",
       "      <td>0.028236</td>\n",
       "      <td>...</td>\n",
       "      <td>0.000005</td>\n",
       "      <td>-0.000542</td>\n",
       "      <td>-0.000129</td>\n",
       "      <td>0.000416</td>\n",
       "      <td>-0.004943</td>\n",
       "      <td>1.000000</td>\n",
       "      <td>-0.009974</td>\n",
       "      <td>0.432840</td>\n",
       "      <td>-0.014258</td>\n",
       "      <td>-0.014243</td>\n",
       "    </tr>\n",
       "    <tr>\n",
       "      <th>LaborDay_1</th>\n",
       "      <td>-0.001538</td>\n",
       "      <td>-0.117242</td>\n",
       "      <td>0.054114</td>\n",
       "      <td>0.001330</td>\n",
       "      <td>0.007100</td>\n",
       "      <td>0.055323</td>\n",
       "      <td>0.004590</td>\n",
       "      <td>-0.001697</td>\n",
       "      <td>-0.007205</td>\n",
       "      <td>0.019081</td>\n",
       "      <td>...</td>\n",
       "      <td>0.000039</td>\n",
       "      <td>-0.000218</td>\n",
       "      <td>0.000062</td>\n",
       "      <td>-0.000405</td>\n",
       "      <td>-0.003791</td>\n",
       "      <td>-0.009974</td>\n",
       "      <td>1.000000</td>\n",
       "      <td>0.304463</td>\n",
       "      <td>-0.010029</td>\n",
       "      <td>-0.010018</td>\n",
       "    </tr>\n",
       "    <tr>\n",
       "      <th>IsHoliday_1</th>\n",
       "      <td>0.007922</td>\n",
       "      <td>-0.077839</td>\n",
       "      <td>-0.156556</td>\n",
       "      <td>-0.019609</td>\n",
       "      <td>0.136670</td>\n",
       "      <td>0.018530</td>\n",
       "      <td>0.014203</td>\n",
       "      <td>-0.037695</td>\n",
       "      <td>-0.001934</td>\n",
       "      <td>0.010305</td>\n",
       "      <td>...</td>\n",
       "      <td>-0.000209</td>\n",
       "      <td>-0.000219</td>\n",
       "      <td>-0.000284</td>\n",
       "      <td>0.000745</td>\n",
       "      <td>0.007053</td>\n",
       "      <td>0.432840</td>\n",
       "      <td>0.304463</td>\n",
       "      <td>1.000000</td>\n",
       "      <td>0.435254</td>\n",
       "      <td>0.434772</td>\n",
       "    </tr>\n",
       "    <tr>\n",
       "      <th>Thanksgiving_1</th>\n",
       "      <td>0.021788</td>\n",
       "      <td>-0.047113</td>\n",
       "      <td>-0.077645</td>\n",
       "      <td>-0.097141</td>\n",
       "      <td>-0.048358</td>\n",
       "      <td>0.094113</td>\n",
       "      <td>-0.066764</td>\n",
       "      <td>-0.068464</td>\n",
       "      <td>-0.001410</td>\n",
       "      <td>0.008105</td>\n",
       "      <td>...</td>\n",
       "      <td>-0.000157</td>\n",
       "      <td>-0.000492</td>\n",
       "      <td>-0.000123</td>\n",
       "      <td>0.000775</td>\n",
       "      <td>0.003477</td>\n",
       "      <td>-0.014258</td>\n",
       "      <td>-0.010029</td>\n",
       "      <td>0.435254</td>\n",
       "      <td>1.000000</td>\n",
       "      <td>-0.014322</td>\n",
       "    </tr>\n",
       "    <tr>\n",
       "      <th>Christmas_1</th>\n",
       "      <td>-0.006908</td>\n",
       "      <td>-0.051571</td>\n",
       "      <td>-0.151807</td>\n",
       "      <td>-0.043720</td>\n",
       "      <td>0.343893</td>\n",
       "      <td>-0.033291</td>\n",
       "      <td>-0.064709</td>\n",
       "      <td>-0.046616</td>\n",
       "      <td>-0.000867</td>\n",
       "      <td>0.008836</td>\n",
       "      <td>...</td>\n",
       "      <td>-0.000125</td>\n",
       "      <td>0.000290</td>\n",
       "      <td>-0.000091</td>\n",
       "      <td>0.000635</td>\n",
       "      <td>0.002156</td>\n",
       "      <td>-0.014243</td>\n",
       "      <td>-0.010018</td>\n",
       "      <td>0.434772</td>\n",
       "      <td>-0.014322</td>\n",
       "      <td>1.000000</td>\n",
       "    </tr>\n",
       "  </tbody>\n",
       "</table>\n",
       "<p>209 rows × 209 columns</p>\n",
       "</div>"
      ],
      "text/plain": [
       "                Weekly_Sales  Fuel_Price  Temperature  MarkDown1  MarkDown2  \\\n",
       "Weekly_Sales        1.000000    0.001395     0.000733   0.065079   0.007083   \n",
       "Fuel_Price          0.001395    1.000000     0.142258   0.030301  -0.120313   \n",
       "Temperature         0.000733    0.142258     1.000000  -0.009371  -0.203653   \n",
       "MarkDown1           0.065079    0.030301    -0.009371   1.000000   0.061233   \n",
       "MarkDown2           0.007083   -0.120313    -0.203653   0.061233   1.000000   \n",
       "...                      ...         ...          ...        ...        ...   \n",
       "SuperBowl_1         0.001404   -0.111802    -0.178624   0.001890   0.010094   \n",
       "LaborDay_1         -0.001538   -0.117242     0.054114   0.001330   0.007100   \n",
       "IsHoliday_1         0.007922   -0.077839    -0.156556  -0.019609   0.136670   \n",
       "Thanksgiving_1      0.021788   -0.047113    -0.077645  -0.097141  -0.048358   \n",
       "Christmas_1        -0.006908   -0.051571    -0.151807  -0.043720   0.343893   \n",
       "\n",
       "                MarkDown3  MarkDown4  MarkDown5       CPI  Unemployment  ...  \\\n",
       "Weekly_Sales    -0.004590   0.035515   0.086458 -0.022697     -0.025362  ...   \n",
       "Fuel_Price      -0.455592  -0.044007  -0.029651 -0.162609     -0.034938  ...   \n",
       "Temperature     -0.007477  -0.000344  -0.040474  0.184320      0.095296  ...   \n",
       "MarkDown1       -0.086374   0.717055   0.301032 -0.039537      0.034690  ...   \n",
       "MarkDown2        0.062240   0.030830   0.046179 -0.037445      0.036849  ...   \n",
       "...                   ...        ...        ...       ...           ...  ...   \n",
       "SuperBowl_1      0.078650   0.006525  -0.002412 -0.008981      0.028236  ...   \n",
       "LaborDay_1       0.055323   0.004590  -0.001697 -0.007205      0.019081  ...   \n",
       "IsHoliday_1      0.018530   0.014203  -0.037695 -0.001934      0.010305  ...   \n",
       "Thanksgiving_1   0.094113  -0.066764  -0.068464 -0.001410      0.008105  ...   \n",
       "Christmas_1     -0.033291  -0.064709  -0.046616 -0.000867      0.008836  ...   \n",
       "\n",
       "                 Dept_95   Dept_96   Dept_97   Dept_98   Dept_99  SuperBowl_1  \\\n",
       "Weekly_Sales    0.293878 -0.002303 -0.008277 -0.050341 -0.033190     0.001404   \n",
       "Fuel_Price     -0.000678 -0.000324  0.000349  0.002979  0.023029    -0.111802   \n",
       "Temperature     0.003854  0.008516  0.002645  0.000126  0.006660    -0.178624   \n",
       "MarkDown1      -0.004135 -0.009295 -0.003253 -0.002955  0.023311     0.001890   \n",
       "MarkDown2      -0.000523 -0.001816 -0.000263 -0.000107 -0.005591     0.010094   \n",
       "...                  ...       ...       ...       ...       ...          ...   \n",
       "SuperBowl_1     0.000005 -0.000542 -0.000129  0.000416 -0.004943     1.000000   \n",
       "LaborDay_1      0.000039 -0.000218  0.000062 -0.000405 -0.003791    -0.009974   \n",
       "IsHoliday_1    -0.000209 -0.000219 -0.000284  0.000745  0.007053     0.432840   \n",
       "Thanksgiving_1 -0.000157 -0.000492 -0.000123  0.000775  0.003477    -0.014258   \n",
       "Christmas_1    -0.000125  0.000290 -0.000091  0.000635  0.002156    -0.014243   \n",
       "\n",
       "                LaborDay_1  IsHoliday_1  Thanksgiving_1  Christmas_1  \n",
       "Weekly_Sales     -0.001538     0.007922        0.021788    -0.006908  \n",
       "Fuel_Price       -0.117242    -0.077839       -0.047113    -0.051571  \n",
       "Temperature       0.054114    -0.156556       -0.077645    -0.151807  \n",
       "MarkDown1         0.001330    -0.019609       -0.097141    -0.043720  \n",
       "MarkDown2         0.007100     0.136670       -0.048358     0.343893  \n",
       "...                    ...          ...             ...          ...  \n",
       "SuperBowl_1      -0.009974     0.432840       -0.014258    -0.014243  \n",
       "LaborDay_1        1.000000     0.304463       -0.010029    -0.010018  \n",
       "IsHoliday_1       0.304463     1.000000        0.435254     0.434772  \n",
       "Thanksgiving_1   -0.010029     0.435254        1.000000    -0.014322  \n",
       "Christmas_1      -0.010018     0.434772       -0.014322     1.000000  \n",
       "\n",
       "[209 rows x 209 columns]"
      ]
     },
     "execution_count": 41,
     "metadata": {},
     "output_type": "execute_result"
    }
   ],
   "source": [
    "corr_mat"
   ]
  },
  {
   "cell_type": "code",
   "execution_count": 42,
   "metadata": {},
   "outputs": [],
   "source": [
    "corr_mat['abs_Weekly_Sales'] = np.absolute(corr_mat['Weekly_Sales'])\n",
    "\n",
    "# Variable reduction on the basis of correlation metrics\n",
    "new_col = corr_mat[corr_mat['abs_Weekly_Sales'] > 0.5].columns"
   ]
  },
  {
   "cell_type": "code",
   "execution_count": 43,
   "metadata": {},
   "outputs": [
    {
     "data": {
      "text/plain": [
       "Index(['Weekly_Sales', 'Fuel_Price', 'Temperature', 'MarkDown1', 'MarkDown2',\n",
       "       'MarkDown3', 'MarkDown4', 'MarkDown5', 'CPI', 'Unemployment',\n",
       "       ...\n",
       "       'Dept_96', 'Dept_97', 'Dept_98', 'Dept_99', 'SuperBowl_1', 'LaborDay_1',\n",
       "       'IsHoliday_1', 'Thanksgiving_1', 'Christmas_1', 'abs_Weekly_Sales'],\n",
       "      dtype='object', length=210)"
      ]
     },
     "execution_count": 43,
     "metadata": {},
     "output_type": "execute_result"
    }
   ],
   "source": [
    "new_col"
   ]
  },
  {
   "cell_type": "markdown",
   "metadata": {},
   "source": [
    "#### All X variables have low to moderate correlation with Y variable"
   ]
  },
  {
   "cell_type": "code",
   "execution_count": 44,
   "metadata": {},
   "outputs": [
    {
     "data": {
      "text/plain": [
       "<AxesSubplot:>"
      ]
     },
     "execution_count": 44,
     "metadata": {},
     "output_type": "execute_result"
    },
    {
     "data": {
      "image/png": "[encoded data removed]",
      "text/plain": [
       "<Figure size 432x288 with 2 Axes>"
      ]
     },
     "metadata": {
      "needs_background": "light"
     },
     "output_type": "display_data"
    }
   ],
   "source": [
    "sns.heatmap(data_final.corr())"
   ]
  },
  {
   "cell_type": "markdown",
   "metadata": {},
   "source": [
    "## Variable reduction\n"
   ]
  },
  {
   "cell_type": "code",
   "execution_count": 45,
   "metadata": {},
   "outputs": [
    {
     "data": {
      "image/png": "[encoded data removed]",
      "text/plain": [
       "<Figure size 432x288 with 1 Axes>"
      ]
     },
     "metadata": {
      "needs_background": "light"
     },
     "output_type": "display_data"
    }
   ],
   "source": [
    "sns.distplot(data_final.Weekly_Sales)\n",
    "plt.show()"
   ]
  },
  {
   "cell_type": "code",
   "execution_count": 46,
   "metadata": {},
   "outputs": [
    {
     "data": {
      "image/png": "[encoded data removed]",
      "text/plain": [
       "<Figure size 432x288 with 1 Axes>"
      ]
     },
     "metadata": {
      "needs_background": "light"
     },
     "output_type": "display_data"
    }
   ],
   "source": [
    "data_final['log_Weekly_Sales'] = np.log(data_final['Weekly_Sales'])\n",
    "\n",
    "sns.distplot(data_final.log_Weekly_Sales)\n",
    "plt.show()"
   ]
  },
  {
   "cell_type": "code",
   "execution_count": 47,
   "metadata": {},
   "outputs": [],
   "source": [
    "data_final.drop('Weekly_Sales', axis = 1, inplace = True)"
   ]
  },
  {
   "cell_type": "markdown",
   "metadata": {},
   "source": [
    "### 1. F- Regression"
   ]
  },
  {
   "cell_type": "code",
   "execution_count": 48,
   "metadata": {},
   "outputs": [],
   "source": [
    "features = data_final[data_final.columns.difference( ['log_Weekly_Sales'] )]\n",
    "target = data_final['log_Weekly_Sales']"
   ]
  },
  {
   "cell_type": "code",
   "execution_count": 49,
   "metadata": {},
   "outputs": [],
   "source": [
    "#F-Regression # Feature Selection based on importance\n",
    "from sklearn.feature_selection import f_regression\n",
    "F_values, p_values  = f_regression(  features, target )"
   ]
  },
  {
   "cell_type": "code",
   "execution_count": 50,
   "metadata": {},
   "outputs": [],
   "source": [
    "import itertools\n",
    "f_reg_results = [(i, v, z) for i, v, z in itertools.zip_longest(features.columns, F_values,  ['%.3f' % p for p in p_values])]\n",
    "\n",
    "f_reg_results=pd.DataFrame(f_reg_results, columns=['Variable','F_Value', 'P_Value'])\n"
   ]
  },
  {
   "cell_type": "code",
   "execution_count": 51,
   "metadata": {},
   "outputs": [
    {
     "data": {
      "text/html": [
       "<div>\n",
       "<style scoped>\n",
       "    .dataframe tbody tr th:only-of-type {\n",
       "        vertical-align: middle;\n",
       "    }\n",
       "\n",
       "    .dataframe tbody tr th {\n",
       "        vertical-align: top;\n",
       "    }\n",
       "\n",
       "    .dataframe thead th {\n",
       "        text-align: right;\n",
       "    }\n",
       "</style>\n",
       "<table border=\"1\" class=\"dataframe\">\n",
       "  <thead>\n",
       "    <tr style=\"text-align: right;\">\n",
       "      <th></th>\n",
       "      <th>Variable</th>\n",
       "      <th>F_Value</th>\n",
       "      <th>P_Value</th>\n",
       "    </tr>\n",
       "  </thead>\n",
       "  <tbody>\n",
       "    <tr>\n",
       "      <th>104</th>\n",
       "      <td>Size</td>\n",
       "      <td>46446.617227</td>\n",
       "      <td>0.000</td>\n",
       "    </tr>\n",
       "    <tr>\n",
       "      <th>153</th>\n",
       "      <td>Type_C</td>\n",
       "      <td>24830.396480</td>\n",
       "      <td>0.000</td>\n",
       "    </tr>\n",
       "    <tr>\n",
       "      <th>48</th>\n",
       "      <td>Dept_54</td>\n",
       "      <td>24362.380833</td>\n",
       "      <td>0.000</td>\n",
       "    </tr>\n",
       "    <tr>\n",
       "      <th>39</th>\n",
       "      <td>Dept_45</td>\n",
       "      <td>15543.199494</td>\n",
       "      <td>0.000</td>\n",
       "    </tr>\n",
       "    <tr>\n",
       "      <th>54</th>\n",
       "      <td>Dept_60</td>\n",
       "      <td>13090.764570</td>\n",
       "      <td>0.000</td>\n",
       "    </tr>\n",
       "    <tr>\n",
       "      <th>52</th>\n",
       "      <td>Dept_59</td>\n",
       "      <td>13022.533838</td>\n",
       "      <td>0.000</td>\n",
       "    </tr>\n",
       "    <tr>\n",
       "      <th>46</th>\n",
       "      <td>Dept_51</td>\n",
       "      <td>11934.029929</td>\n",
       "      <td>0.000</td>\n",
       "    </tr>\n",
       "    <tr>\n",
       "      <th>77</th>\n",
       "      <td>Dept_95</td>\n",
       "      <td>9596.184259</td>\n",
       "      <td>0.000</td>\n",
       "    </tr>\n",
       "    <tr>\n",
       "      <th>31</th>\n",
       "      <td>Dept_38</td>\n",
       "      <td>9374.782690</td>\n",
       "      <td>0.000</td>\n",
       "    </tr>\n",
       "    <tr>\n",
       "      <th>20</th>\n",
       "      <td>Dept_28</td>\n",
       "      <td>9136.880259</td>\n",
       "      <td>0.000</td>\n",
       "    </tr>\n",
       "    <tr>\n",
       "      <th>74</th>\n",
       "      <td>Dept_92</td>\n",
       "      <td>9038.088246</td>\n",
       "      <td>0.000</td>\n",
       "    </tr>\n",
       "    <tr>\n",
       "      <th>34</th>\n",
       "      <td>Dept_40</td>\n",
       "      <td>6740.247010</td>\n",
       "      <td>0.000</td>\n",
       "    </tr>\n",
       "    <tr>\n",
       "      <th>11</th>\n",
       "      <td>Dept_2</td>\n",
       "      <td>6204.850179</td>\n",
       "      <td>0.000</td>\n",
       "    </tr>\n",
       "    <tr>\n",
       "      <th>142</th>\n",
       "      <td>Store_44</td>\n",
       "      <td>5650.123411</td>\n",
       "      <td>0.000</td>\n",
       "    </tr>\n",
       "    <tr>\n",
       "      <th>135</th>\n",
       "      <td>Store_38</td>\n",
       "      <td>5281.803018</td>\n",
       "      <td>0.000</td>\n",
       "    </tr>\n",
       "    <tr>\n",
       "      <th>130</th>\n",
       "      <td>Store_33</td>\n",
       "      <td>5223.939114</td>\n",
       "      <td>0.000</td>\n",
       "    </tr>\n",
       "    <tr>\n",
       "      <th>72</th>\n",
       "      <td>Dept_90</td>\n",
       "      <td>5190.484570</td>\n",
       "      <td>0.000</td>\n",
       "    </tr>\n",
       "    <tr>\n",
       "      <th>9</th>\n",
       "      <td>Dept_18</td>\n",
       "      <td>4767.469865</td>\n",
       "      <td>0.000</td>\n",
       "    </tr>\n",
       "    <tr>\n",
       "      <th>41</th>\n",
       "      <td>Dept_47</td>\n",
       "      <td>4604.371968</td>\n",
       "      <td>0.000</td>\n",
       "    </tr>\n",
       "    <tr>\n",
       "      <th>127</th>\n",
       "      <td>Store_30</td>\n",
       "      <td>4584.884496</td>\n",
       "      <td>0.000</td>\n",
       "    </tr>\n",
       "  </tbody>\n",
       "</table>\n",
       "</div>"
      ],
      "text/plain": [
       "     Variable       F_Value P_Value\n",
       "104      Size  46446.617227   0.000\n",
       "153    Type_C  24830.396480   0.000\n",
       "48    Dept_54  24362.380833   0.000\n",
       "39    Dept_45  15543.199494   0.000\n",
       "54    Dept_60  13090.764570   0.000\n",
       "52    Dept_59  13022.533838   0.000\n",
       "46    Dept_51  11934.029929   0.000\n",
       "77    Dept_95   9596.184259   0.000\n",
       "31    Dept_38   9374.782690   0.000\n",
       "20    Dept_28   9136.880259   0.000\n",
       "74    Dept_92   9038.088246   0.000\n",
       "34    Dept_40   6740.247010   0.000\n",
       "11     Dept_2   6204.850179   0.000\n",
       "142  Store_44   5650.123411   0.000\n",
       "135  Store_38   5281.803018   0.000\n",
       "130  Store_33   5223.939114   0.000\n",
       "72    Dept_90   5190.484570   0.000\n",
       "9     Dept_18   4767.469865   0.000\n",
       "41    Dept_47   4604.371968   0.000\n",
       "127  Store_30   4584.884496   0.000"
      ]
     },
     "execution_count": 51,
     "metadata": {},
     "output_type": "execute_result"
    }
   ],
   "source": [
    "f_reg_results.sort_values(by=['F_Value'], ascending=False).head(20)"
   ]
  },
  {
   "cell_type": "code",
   "execution_count": 52,
   "metadata": {},
   "outputs": [],
   "source": [
    "f_reg_results.to_csv('f_reg_results_new.csv')"
   ]
  },
  {
   "cell_type": "markdown",
   "metadata": {},
   "source": [
    "#### 2. VIF - Check for multicollinearity\n",
    "\n",
    "* VIF = 1, no correlation between the independent variable and the other variables\n",
    "* VIF exceeding 5 indicates high multicollinearity between this independent variable and the others"
   ]
  },
  {
   "cell_type": "code",
   "execution_count": 53,
   "metadata": {},
   "outputs": [],
   "source": [
    "Final_list = [\n",
    "'Size',\n",
    "'Type_C',\n",
    "'Dept_54',\n",
    "'Dept_45',\n",
    "'Dept_60',\n",
    "'Dept_59',\n",
    "'Dept_51',\n",
    "'Dept_95',\n",
    "'Dept_38',\n",
    "'Dept_28',\n",
    "'Dept_92',\n",
    "'Dept_40',\n",
    "'Dept_2',\n",
    "'Store_44',\n",
    "'Store_38',\n",
    "'Store_33',\n",
    "'Dept_90',\n",
    "'Dept_18',\n",
    "'Dept_47',\n",
    "'Store_30'\n",
    "]"
   ]
  },
  {
   "cell_type": "code",
   "execution_count": 54,
   "metadata": {},
   "outputs": [],
   "source": [
    "X=features[Final_list]"
   ]
  },
  {
   "cell_type": "code",
   "execution_count": 55,
   "metadata": {},
   "outputs": [
    {
     "data": {
      "text/html": [
       "<div>\n",
       "<style scoped>\n",
       "    .dataframe tbody tr th:only-of-type {\n",
       "        vertical-align: middle;\n",
       "    }\n",
       "\n",
       "    .dataframe tbody tr th {\n",
       "        vertical-align: top;\n",
       "    }\n",
       "\n",
       "    .dataframe thead th {\n",
       "        text-align: right;\n",
       "    }\n",
       "</style>\n",
       "<table border=\"1\" class=\"dataframe\">\n",
       "  <thead>\n",
       "    <tr style=\"text-align: right;\">\n",
       "      <th></th>\n",
       "      <th>Size</th>\n",
       "      <th>Type_C</th>\n",
       "      <th>Dept_54</th>\n",
       "      <th>Dept_45</th>\n",
       "      <th>Dept_60</th>\n",
       "      <th>Dept_59</th>\n",
       "      <th>Dept_51</th>\n",
       "      <th>Dept_95</th>\n",
       "      <th>Dept_38</th>\n",
       "      <th>Dept_28</th>\n",
       "      <th>Dept_92</th>\n",
       "      <th>Dept_40</th>\n",
       "      <th>Dept_2</th>\n",
       "      <th>Store_44</th>\n",
       "      <th>Store_38</th>\n",
       "      <th>Store_33</th>\n",
       "      <th>Dept_90</th>\n",
       "      <th>Dept_18</th>\n",
       "      <th>Dept_47</th>\n",
       "      <th>Store_30</th>\n",
       "    </tr>\n",
       "  </thead>\n",
       "  <tbody>\n",
       "    <tr>\n",
       "      <th>0</th>\n",
       "      <td>151315</td>\n",
       "      <td>0</td>\n",
       "      <td>0</td>\n",
       "      <td>0</td>\n",
       "      <td>0</td>\n",
       "      <td>0</td>\n",
       "      <td>0</td>\n",
       "      <td>0</td>\n",
       "      <td>0</td>\n",
       "      <td>0</td>\n",
       "      <td>0</td>\n",
       "      <td>0</td>\n",
       "      <td>0</td>\n",
       "      <td>0</td>\n",
       "      <td>0</td>\n",
       "      <td>0</td>\n",
       "      <td>0</td>\n",
       "      <td>0</td>\n",
       "      <td>0</td>\n",
       "      <td>0</td>\n",
       "    </tr>\n",
       "    <tr>\n",
       "      <th>1</th>\n",
       "      <td>151315</td>\n",
       "      <td>0</td>\n",
       "      <td>0</td>\n",
       "      <td>0</td>\n",
       "      <td>0</td>\n",
       "      <td>0</td>\n",
       "      <td>0</td>\n",
       "      <td>0</td>\n",
       "      <td>0</td>\n",
       "      <td>0</td>\n",
       "      <td>0</td>\n",
       "      <td>0</td>\n",
       "      <td>0</td>\n",
       "      <td>0</td>\n",
       "      <td>0</td>\n",
       "      <td>0</td>\n",
       "      <td>0</td>\n",
       "      <td>0</td>\n",
       "      <td>0</td>\n",
       "      <td>0</td>\n",
       "    </tr>\n",
       "    <tr>\n",
       "      <th>2</th>\n",
       "      <td>151315</td>\n",
       "      <td>0</td>\n",
       "      <td>0</td>\n",
       "      <td>0</td>\n",
       "      <td>0</td>\n",
       "      <td>0</td>\n",
       "      <td>0</td>\n",
       "      <td>0</td>\n",
       "      <td>0</td>\n",
       "      <td>0</td>\n",
       "      <td>0</td>\n",
       "      <td>0</td>\n",
       "      <td>0</td>\n",
       "      <td>0</td>\n",
       "      <td>0</td>\n",
       "      <td>0</td>\n",
       "      <td>0</td>\n",
       "      <td>0</td>\n",
       "      <td>0</td>\n",
       "      <td>0</td>\n",
       "    </tr>\n",
       "    <tr>\n",
       "      <th>3</th>\n",
       "      <td>151315</td>\n",
       "      <td>0</td>\n",
       "      <td>0</td>\n",
       "      <td>0</td>\n",
       "      <td>0</td>\n",
       "      <td>0</td>\n",
       "      <td>0</td>\n",
       "      <td>0</td>\n",
       "      <td>0</td>\n",
       "      <td>0</td>\n",
       "      <td>0</td>\n",
       "      <td>0</td>\n",
       "      <td>0</td>\n",
       "      <td>0</td>\n",
       "      <td>0</td>\n",
       "      <td>0</td>\n",
       "      <td>0</td>\n",
       "      <td>0</td>\n",
       "      <td>0</td>\n",
       "      <td>0</td>\n",
       "    </tr>\n",
       "    <tr>\n",
       "      <th>4</th>\n",
       "      <td>151315</td>\n",
       "      <td>0</td>\n",
       "      <td>0</td>\n",
       "      <td>0</td>\n",
       "      <td>0</td>\n",
       "      <td>0</td>\n",
       "      <td>0</td>\n",
       "      <td>0</td>\n",
       "      <td>0</td>\n",
       "      <td>0</td>\n",
       "      <td>0</td>\n",
       "      <td>0</td>\n",
       "      <td>0</td>\n",
       "      <td>0</td>\n",
       "      <td>0</td>\n",
       "      <td>0</td>\n",
       "      <td>0</td>\n",
       "      <td>0</td>\n",
       "      <td>0</td>\n",
       "      <td>0</td>\n",
       "    </tr>\n",
       "    <tr>\n",
       "      <th>...</th>\n",
       "      <td>...</td>\n",
       "      <td>...</td>\n",
       "      <td>...</td>\n",
       "      <td>...</td>\n",
       "      <td>...</td>\n",
       "      <td>...</td>\n",
       "      <td>...</td>\n",
       "      <td>...</td>\n",
       "      <td>...</td>\n",
       "      <td>...</td>\n",
       "      <td>...</td>\n",
       "      <td>...</td>\n",
       "      <td>...</td>\n",
       "      <td>...</td>\n",
       "      <td>...</td>\n",
       "      <td>...</td>\n",
       "      <td>...</td>\n",
       "      <td>...</td>\n",
       "      <td>...</td>\n",
       "      <td>...</td>\n",
       "    </tr>\n",
       "    <tr>\n",
       "      <th>421565</th>\n",
       "      <td>118221</td>\n",
       "      <td>0</td>\n",
       "      <td>0</td>\n",
       "      <td>0</td>\n",
       "      <td>0</td>\n",
       "      <td>0</td>\n",
       "      <td>0</td>\n",
       "      <td>0</td>\n",
       "      <td>0</td>\n",
       "      <td>0</td>\n",
       "      <td>0</td>\n",
       "      <td>0</td>\n",
       "      <td>0</td>\n",
       "      <td>0</td>\n",
       "      <td>0</td>\n",
       "      <td>0</td>\n",
       "      <td>0</td>\n",
       "      <td>0</td>\n",
       "      <td>0</td>\n",
       "      <td>0</td>\n",
       "    </tr>\n",
       "    <tr>\n",
       "      <th>421566</th>\n",
       "      <td>118221</td>\n",
       "      <td>0</td>\n",
       "      <td>0</td>\n",
       "      <td>0</td>\n",
       "      <td>0</td>\n",
       "      <td>0</td>\n",
       "      <td>0</td>\n",
       "      <td>0</td>\n",
       "      <td>0</td>\n",
       "      <td>0</td>\n",
       "      <td>0</td>\n",
       "      <td>0</td>\n",
       "      <td>0</td>\n",
       "      <td>0</td>\n",
       "      <td>0</td>\n",
       "      <td>0</td>\n",
       "      <td>0</td>\n",
       "      <td>0</td>\n",
       "      <td>0</td>\n",
       "      <td>0</td>\n",
       "    </tr>\n",
       "    <tr>\n",
       "      <th>421567</th>\n",
       "      <td>118221</td>\n",
       "      <td>0</td>\n",
       "      <td>0</td>\n",
       "      <td>0</td>\n",
       "      <td>0</td>\n",
       "      <td>0</td>\n",
       "      <td>0</td>\n",
       "      <td>0</td>\n",
       "      <td>0</td>\n",
       "      <td>0</td>\n",
       "      <td>0</td>\n",
       "      <td>0</td>\n",
       "      <td>0</td>\n",
       "      <td>0</td>\n",
       "      <td>0</td>\n",
       "      <td>0</td>\n",
       "      <td>0</td>\n",
       "      <td>0</td>\n",
       "      <td>0</td>\n",
       "      <td>0</td>\n",
       "    </tr>\n",
       "    <tr>\n",
       "      <th>421568</th>\n",
       "      <td>118221</td>\n",
       "      <td>0</td>\n",
       "      <td>0</td>\n",
       "      <td>0</td>\n",
       "      <td>0</td>\n",
       "      <td>0</td>\n",
       "      <td>0</td>\n",
       "      <td>0</td>\n",
       "      <td>0</td>\n",
       "      <td>0</td>\n",
       "      <td>0</td>\n",
       "      <td>0</td>\n",
       "      <td>0</td>\n",
       "      <td>0</td>\n",
       "      <td>0</td>\n",
       "      <td>0</td>\n",
       "      <td>0</td>\n",
       "      <td>0</td>\n",
       "      <td>0</td>\n",
       "      <td>0</td>\n",
       "    </tr>\n",
       "    <tr>\n",
       "      <th>421569</th>\n",
       "      <td>118221</td>\n",
       "      <td>0</td>\n",
       "      <td>0</td>\n",
       "      <td>0</td>\n",
       "      <td>0</td>\n",
       "      <td>0</td>\n",
       "      <td>0</td>\n",
       "      <td>0</td>\n",
       "      <td>0</td>\n",
       "      <td>0</td>\n",
       "      <td>0</td>\n",
       "      <td>0</td>\n",
       "      <td>0</td>\n",
       "      <td>0</td>\n",
       "      <td>0</td>\n",
       "      <td>0</td>\n",
       "      <td>0</td>\n",
       "      <td>0</td>\n",
       "      <td>0</td>\n",
       "      <td>0</td>\n",
       "    </tr>\n",
       "  </tbody>\n",
       "</table>\n",
       "<p>421570 rows × 20 columns</p>\n",
       "</div>"
      ],
      "text/plain": [
       "          Size  Type_C  Dept_54  Dept_45  Dept_60  Dept_59  Dept_51  Dept_95  \\\n",
       "0       151315       0        0        0        0        0        0        0   \n",
       "1       151315       0        0        0        0        0        0        0   \n",
       "2       151315       0        0        0        0        0        0        0   \n",
       "3       151315       0        0        0        0        0        0        0   \n",
       "4       151315       0        0        0        0        0        0        0   \n",
       "...        ...     ...      ...      ...      ...      ...      ...      ...   \n",
       "421565  118221       0        0        0        0        0        0        0   \n",
       "421566  118221       0        0        0        0        0        0        0   \n",
       "421567  118221       0        0        0        0        0        0        0   \n",
       "421568  118221       0        0        0        0        0        0        0   \n",
       "421569  118221       0        0        0        0        0        0        0   \n",
       "\n",
       "        Dept_38  Dept_28  Dept_92  Dept_40  Dept_2  Store_44  Store_38  \\\n",
       "0             0        0        0        0       0         0         0   \n",
       "1             0        0        0        0       0         0         0   \n",
       "2             0        0        0        0       0         0         0   \n",
       "3             0        0        0        0       0         0         0   \n",
       "4             0        0        0        0       0         0         0   \n",
       "...         ...      ...      ...      ...     ...       ...       ...   \n",
       "421565        0        0        0        0       0         0         0   \n",
       "421566        0        0        0        0       0         0         0   \n",
       "421567        0        0        0        0       0         0         0   \n",
       "421568        0        0        0        0       0         0         0   \n",
       "421569        0        0        0        0       0         0         0   \n",
       "\n",
       "        Store_33  Dept_90  Dept_18  Dept_47  Store_30  \n",
       "0              0        0        0        0         0  \n",
       "1              0        0        0        0         0  \n",
       "2              0        0        0        0         0  \n",
       "3              0        0        0        0         0  \n",
       "4              0        0        0        0         0  \n",
       "...          ...      ...      ...      ...       ...  \n",
       "421565         0        0        0        0         0  \n",
       "421566         0        0        0        0         0  \n",
       "421567         0        0        0        0         0  \n",
       "421568         0        0        0        0         0  \n",
       "421569         0        0        0        0         0  \n",
       "\n",
       "[421570 rows x 20 columns]"
      ]
     },
     "execution_count": 55,
     "metadata": {},
     "output_type": "execute_result"
    }
   ],
   "source": [
    "X"
   ]
  },
  {
   "cell_type": "code",
   "execution_count": 56,
   "metadata": {},
   "outputs": [],
   "source": [
    "# For each X, calculate VIF and save in dataframe\n",
    "from statsmodels.stats.outliers_influence import variance_inflation_factor\n",
    "\n",
    "vif = pd.DataFrame()\n",
    "vif[\"VIF_Factor\"] = [variance_inflation_factor(X.values, i) for i in range(X.shape[1])]\n",
    "vif[\"features\"] = X.columns"
   ]
  },
  {
   "cell_type": "code",
   "execution_count": 57,
   "metadata": {},
   "outputs": [
    {
     "data": {
      "text/html": [
       "<div>\n",
       "<style scoped>\n",
       "    .dataframe tbody tr th:only-of-type {\n",
       "        vertical-align: middle;\n",
       "    }\n",
       "\n",
       "    .dataframe tbody tr th {\n",
       "        vertical-align: top;\n",
       "    }\n",
       "\n",
       "    .dataframe thead th {\n",
       "        text-align: right;\n",
       "    }\n",
       "</style>\n",
       "<table border=\"1\" class=\"dataframe\">\n",
       "  <thead>\n",
       "    <tr style=\"text-align: right;\">\n",
       "      <th></th>\n",
       "      <th>VIF_Factor</th>\n",
       "      <th>features</th>\n",
       "    </tr>\n",
       "  </thead>\n",
       "  <tbody>\n",
       "    <tr>\n",
       "      <th>1</th>\n",
       "      <td>2.065304</td>\n",
       "      <td>Type_C</td>\n",
       "    </tr>\n",
       "    <tr>\n",
       "      <th>14</th>\n",
       "      <td>1.352092</td>\n",
       "      <td>Store_38</td>\n",
       "    </tr>\n",
       "    <tr>\n",
       "      <th>13</th>\n",
       "      <td>1.342856</td>\n",
       "      <td>Store_44</td>\n",
       "    </tr>\n",
       "    <tr>\n",
       "      <th>19</th>\n",
       "      <td>1.342245</td>\n",
       "      <td>Store_30</td>\n",
       "    </tr>\n",
       "    <tr>\n",
       "      <th>0</th>\n",
       "      <td>1.156365</td>\n",
       "      <td>Size</td>\n",
       "    </tr>\n",
       "    <tr>\n",
       "      <th>7</th>\n",
       "      <td>1.016137</td>\n",
       "      <td>Dept_95</td>\n",
       "    </tr>\n",
       "    <tr>\n",
       "      <th>11</th>\n",
       "      <td>1.016137</td>\n",
       "      <td>Dept_40</td>\n",
       "    </tr>\n",
       "    <tr>\n",
       "      <th>16</th>\n",
       "      <td>1.016137</td>\n",
       "      <td>Dept_90</td>\n",
       "    </tr>\n",
       "    <tr>\n",
       "      <th>10</th>\n",
       "      <td>1.016137</td>\n",
       "      <td>Dept_92</td>\n",
       "    </tr>\n",
       "    <tr>\n",
       "      <th>8</th>\n",
       "      <td>1.016137</td>\n",
       "      <td>Dept_38</td>\n",
       "    </tr>\n",
       "    <tr>\n",
       "      <th>12</th>\n",
       "      <td>1.016137</td>\n",
       "      <td>Dept_2</td>\n",
       "    </tr>\n",
       "    <tr>\n",
       "      <th>9</th>\n",
       "      <td>1.015933</td>\n",
       "      <td>Dept_28</td>\n",
       "    </tr>\n",
       "    <tr>\n",
       "      <th>5</th>\n",
       "      <td>1.015790</td>\n",
       "      <td>Dept_59</td>\n",
       "    </tr>\n",
       "    <tr>\n",
       "      <th>4</th>\n",
       "      <td>1.014608</td>\n",
       "      <td>Dept_60</td>\n",
       "    </tr>\n",
       "    <tr>\n",
       "      <th>2</th>\n",
       "      <td>1.013560</td>\n",
       "      <td>Dept_54</td>\n",
       "    </tr>\n",
       "    <tr>\n",
       "      <th>17</th>\n",
       "      <td>1.012730</td>\n",
       "      <td>Dept_18</td>\n",
       "    </tr>\n",
       "    <tr>\n",
       "      <th>3</th>\n",
       "      <td>1.005376</td>\n",
       "      <td>Dept_45</td>\n",
       "    </tr>\n",
       "    <tr>\n",
       "      <th>15</th>\n",
       "      <td>1.004201</td>\n",
       "      <td>Store_33</td>\n",
       "    </tr>\n",
       "    <tr>\n",
       "      <th>6</th>\n",
       "      <td>1.003741</td>\n",
       "      <td>Dept_51</td>\n",
       "    </tr>\n",
       "    <tr>\n",
       "      <th>18</th>\n",
       "      <td>1.001876</td>\n",
       "      <td>Dept_47</td>\n",
       "    </tr>\n",
       "  </tbody>\n",
       "</table>\n",
       "</div>"
      ],
      "text/plain": [
       "    VIF_Factor  features\n",
       "1     2.065304    Type_C\n",
       "14    1.352092  Store_38\n",
       "13    1.342856  Store_44\n",
       "19    1.342245  Store_30\n",
       "0     1.156365      Size\n",
       "7     1.016137   Dept_95\n",
       "11    1.016137   Dept_40\n",
       "16    1.016137   Dept_90\n",
       "10    1.016137   Dept_92\n",
       "8     1.016137   Dept_38\n",
       "12    1.016137    Dept_2\n",
       "9     1.015933   Dept_28\n",
       "5     1.015790   Dept_59\n",
       "4     1.014608   Dept_60\n",
       "2     1.013560   Dept_54\n",
       "17    1.012730   Dept_18\n",
       "3     1.005376   Dept_45\n",
       "15    1.004201  Store_33\n",
       "6     1.003741   Dept_51\n",
       "18    1.001876   Dept_47"
      ]
     },
     "execution_count": 57,
     "metadata": {},
     "output_type": "execute_result"
    }
   ],
   "source": [
    "vif.sort_values(by='VIF_Factor', ascending=False).head(30)"
   ]
  },
  {
   "cell_type": "code",
   "execution_count": 58,
   "metadata": {},
   "outputs": [],
   "source": [
    "#creating new dataframe as per the final list\n",
    "\n",
    "data_final1 = pd.concat([X,target],axis=1)"
   ]
  },
  {
   "cell_type": "code",
   "execution_count": 59,
   "metadata": {},
   "outputs": [
    {
     "name": "stdout",
     "output_type": "stream",
     "text": [
      "<class 'pandas.core.frame.DataFrame'>\n",
      "Int64Index: 421570 entries, 0 to 421569\n",
      "Data columns (total 21 columns):\n",
      " #   Column            Non-Null Count   Dtype  \n",
      "---  ------            --------------   -----  \n",
      " 0   Size              421570 non-null  int64  \n",
      " 1   Type_C            421570 non-null  uint8  \n",
      " 2   Dept_54           421570 non-null  uint8  \n",
      " 3   Dept_45           421570 non-null  uint8  \n",
      " 4   Dept_60           421570 non-null  uint8  \n",
      " 5   Dept_59           421570 non-null  uint8  \n",
      " 6   Dept_51           421570 non-null  uint8  \n",
      " 7   Dept_95           421570 non-null  uint8  \n",
      " 8   Dept_38           421570 non-null  uint8  \n",
      " 9   Dept_28           421570 non-null  uint8  \n",
      " 10  Dept_92           421570 non-null  uint8  \n",
      " 11  Dept_40           421570 non-null  uint8  \n",
      " 12  Dept_2            421570 non-null  uint8  \n",
      " 13  Store_44          421570 non-null  uint8  \n",
      " 14  Store_38          421570 non-null  uint8  \n",
      " 15  Store_33          421570 non-null  uint8  \n",
      " 16  Dept_90           421570 non-null  uint8  \n",
      " 17  Dept_18           421570 non-null  uint8  \n",
      " 18  Dept_47           421570 non-null  uint8  \n",
      " 19  Store_30          421570 non-null  uint8  \n",
      " 20  log_Weekly_Sales  421570 non-null  float64\n",
      "dtypes: float64(1), int64(1), uint8(19)\n",
      "memory usage: 17.3 MB\n"
     ]
    }
   ],
   "source": [
    "data_final1.info()"
   ]
  },
  {
   "cell_type": "markdown",
   "metadata": {},
   "source": [
    "### Model Building"
   ]
  },
  {
   "cell_type": "markdown",
   "metadata": {},
   "source": [
    "* Using data_final1 Df as Train data set\n",
    "* Using only columns in test data set after variable reduction activity "
   ]
  },
  {
   "cell_type": "code",
   "execution_count": 60,
   "metadata": {},
   "outputs": [],
   "source": [
    "train = data_final1.copy(deep = True)"
   ]
  },
  {
   "cell_type": "code",
   "execution_count": 61,
   "metadata": {},
   "outputs": [],
   "source": [
    "test = test[Final_list]"
   ]
  },
  {
   "cell_type": "code",
   "execution_count": 62,
   "metadata": {},
   "outputs": [
    {
     "name": "stdout",
     "output_type": "stream",
     "text": [
      "<class 'pandas.core.frame.DataFrame'>\n",
      "Int64Index: 115064 entries, 0 to 115063\n",
      "Data columns (total 20 columns):\n",
      " #   Column    Non-Null Count   Dtype\n",
      "---  ------    --------------   -----\n",
      " 0   Size      115064 non-null  int64\n",
      " 1   Type_C    115064 non-null  uint8\n",
      " 2   Dept_54   115064 non-null  uint8\n",
      " 3   Dept_45   115064 non-null  uint8\n",
      " 4   Dept_60   115064 non-null  uint8\n",
      " 5   Dept_59   115064 non-null  uint8\n",
      " 6   Dept_51   115064 non-null  uint8\n",
      " 7   Dept_95   115064 non-null  uint8\n",
      " 8   Dept_38   115064 non-null  uint8\n",
      " 9   Dept_28   115064 non-null  uint8\n",
      " 10  Dept_92   115064 non-null  uint8\n",
      " 11  Dept_40   115064 non-null  uint8\n",
      " 12  Dept_2    115064 non-null  uint8\n",
      " 13  Store_44  115064 non-null  uint8\n",
      " 14  Store_38  115064 non-null  uint8\n",
      " 15  Store_33  115064 non-null  uint8\n",
      " 16  Dept_90   115064 non-null  uint8\n",
      " 17  Dept_18   115064 non-null  uint8\n",
      " 18  Dept_47   115064 non-null  uint8\n",
      " 19  Store_30  115064 non-null  uint8\n",
      "dtypes: int64(1), uint8(19)\n",
      "memory usage: 3.8 MB\n"
     ]
    }
   ],
   "source": [
    "test.info()"
   ]
  },
  {
   "cell_type": "code",
   "execution_count": 63,
   "metadata": {},
   "outputs": [
    {
     "name": "stdout",
     "output_type": "stream",
     "text": [
      "train data -> (421570, 21)\n",
      "test data -> (115064, 20)\n",
      "Orignal data -> (421570, 21)\n"
     ]
    }
   ],
   "source": [
    "print('train data', '->', train.shape)\n",
    "print('test data', '->',test.shape) # Weekly sales missing as the same will predicted\n",
    "print('Orignal data', '->',data_final1.shape)"
   ]
  },
  {
   "cell_type": "markdown",
   "metadata": {},
   "source": [
    "#### Linear Regression"
   ]
  },
  {
   "cell_type": "code",
   "execution_count": 64,
   "metadata": {},
   "outputs": [
    {
     "data": {
      "text/plain": [
       "'Dept_18+Dept_2+Dept_28+Dept_38+Dept_40+Dept_45+Dept_47+Dept_51+Dept_54+Dept_59+Dept_60+Dept_90+Dept_92+Dept_95+Size+Store_30+Store_33+Store_38+Store_44+Type_C'"
      ]
     },
     "execution_count": 64,
     "metadata": {},
     "output_type": "execute_result"
    }
   ],
   "source": [
    "formula = \"+\".join(train.columns.difference(['log_Weekly_Sales']))\n",
    "formula"
   ]
  },
  {
   "cell_type": "code",
   "execution_count": 65,
   "metadata": {},
   "outputs": [
    {
     "name": "stdout",
     "output_type": "stream",
     "text": [
      "                            OLS Regression Results                            \n",
      "==============================================================================\n",
      "Dep. Variable:       log_Weekly_Sales   R-squared:                       0.453\n",
      "Model:                            OLS   Adj. R-squared:                  0.453\n",
      "Method:                 Least Squares   F-statistic:                 1.746e+04\n",
      "Date:                Tue, 08 Dec 2020   Prob (F-statistic):               0.00\n",
      "Time:                        01:34:35   Log-Likelihood:            -7.7267e+05\n",
      "No. Observations:              421570   AIC:                         1.545e+06\n",
      "Df Residuals:                  421549   BIC:                         1.546e+06\n",
      "Df Model:                          20                                         \n",
      "Covariance Type:            nonrobust                                         \n",
      "==============================================================================\n",
      "                 coef    std err          t      P>|t|      [0.025      0.975]\n",
      "------------------------------------------------------------------------------\n",
      "Intercept      7.5109      0.007   1004.741      0.000       7.496       7.526\n",
      "Dept_18       -2.0038      0.021    -93.267      0.000      -2.046      -1.962\n",
      "Dept_2         2.0203      0.019    106.147      0.000       1.983       2.058\n",
      "Dept_28       -2.4765      0.020   -126.980      0.000      -2.515      -2.438\n",
      "Dept_38        2.4647      0.019    129.501      0.000       2.427       2.502\n",
      "Dept_40        2.1026      0.019    110.472      0.000       2.065       2.140\n",
      "Dept_45       -5.9523      0.034   -172.606      0.000      -6.020      -5.885\n",
      "Dept_47       -5.7294      0.060    -96.165      0.000      -5.846      -5.613\n",
      "Dept_51       -6.1443      0.041   -151.316      0.000      -6.224      -6.065\n",
      "Dept_54       -4.7595      0.022   -215.616      0.000      -4.803      -4.716\n",
      "Dept_59       -2.9270      0.020   -149.882      0.000      -2.965      -2.889\n",
      "Dept_60       -2.9371      0.020   -146.278      0.000      -2.977      -2.898\n",
      "Dept_90        1.8535      0.019     97.384      0.000       1.816       1.891\n",
      "Dept_92        2.4218      0.019    127.243      0.000       2.384       2.459\n",
      "Dept_95        2.4926      0.019    130.962      0.000       2.455       2.530\n",
      "Size        8.414e-06   4.66e-08    180.419      0.000    8.32e-06    8.51e-06\n",
      "Store_30      -0.4628      0.021    -22.340      0.000      -0.503      -0.422\n",
      "Store_33      -1.3158      0.020    -67.027      0.000      -1.354      -1.277\n",
      "Store_38      -0.5249      0.021    -25.605      0.000      -0.565      -0.485\n",
      "Store_44      -0.6166      0.021    -29.784      0.000      -0.657      -0.576\n",
      "Type_C        -0.5959      0.012    -50.052      0.000      -0.619      -0.573\n",
      "==============================================================================\n",
      "Omnibus:                    87212.975   Durbin-Watson:                   0.105\n",
      "Prob(Omnibus):                  0.000   Jarque-Bera (JB):           231936.651\n",
      "Skew:                          -1.119   Prob(JB):                         0.00\n",
      "Kurtosis:                       5.862   Cond. No.                     3.83e+06\n",
      "==============================================================================\n",
      "\n",
      "Warnings:\n",
      "[1] Standard Errors assume that the covariance matrix of the errors is correctly specified.\n",
      "[2] The condition number is large, 3.83e+06. This might indicate that there are\n",
      "strong multicollinearity or other numerical problems.\n"
     ]
    }
   ],
   "source": [
    "import statsmodels.formula.api as smf\n",
    "\n",
    "model = smf.ols(formula='log_Weekly_Sales~'+formula, data=train)\n",
    "model = model.fit()\n",
    "print(model.summary())"
   ]
  },
  {
   "cell_type": "code",
   "execution_count": 66,
   "metadata": {},
   "outputs": [],
   "source": [
    "train[\"pred\"] = pd.DataFrame(model.predict(train))\n",
    "test[\"pred\"] = pd.DataFrame(model.predict(test))"
   ]
  },
  {
   "cell_type": "code",
   "execution_count": 67,
   "metadata": {},
   "outputs": [],
   "source": [
    "from sklearn import metrics\n",
    "from scipy.stats import stats"
   ]
  },
  {
   "cell_type": "code",
   "execution_count": 68,
   "metadata": {},
   "outputs": [
    {
     "name": "stdout",
     "output_type": "stream",
     "text": [
      "Mean absolute percentage error (MAPE) for model built on Train data is  0.18887368788766964\n",
      "Root Mean Square Error (RMSE) for model built on Train data is  2.288287784633893\n",
      "Correlation (0.6730726010040906, 0.0)\n"
     ]
    }
   ],
   "source": [
    "# Train data\n",
    "MAPE_train = np.mean(np.abs((train.log_Weekly_Sales - train.pred)/ train.log_Weekly_Sales))\n",
    "print(\"Mean absolute percentage error (MAPE) for model built on Train data is \", MAPE_train)\n",
    "\n",
    "RMSE_train = metrics.mean_squared_error(train.log_Weekly_Sales, train.pred)\n",
    "print(\"Root Mean Square Error (RMSE) for model built on Train data is \", RMSE_train)\n",
    "\n",
    "Corr_train = stats.pearsonr(train.log_Weekly_Sales, train.pred)\n",
    "print(\"Correlation\", Corr_train)"
   ]
  },
  {
   "cell_type": "code",
   "execution_count": 69,
   "metadata": {},
   "outputs": [
    {
     "data": {
      "image/png": "[encoded data removed]",
      "text/plain": [
       "<Figure size 432x288 with 1 Axes>"
      ]
     },
     "metadata": {
      "needs_background": "light"
     },
     "output_type": "display_data"
    }
   ],
   "source": [
    "#Diagnostic\n",
    "sns.distplot(model.resid)\n",
    "plt.show()"
   ]
  },
  {
   "cell_type": "markdown",
   "metadata": {},
   "source": [
    "## Converting log of predicted Weekly Sales to normal Weekly Sales"
   ]
  },
  {
   "cell_type": "code",
   "execution_count": 70,
   "metadata": {},
   "outputs": [],
   "source": [
    "test.rename({'pred' : 'log_pred_Weekly_Sales'}, axis = 'columns', inplace = True)"
   ]
  },
  {
   "cell_type": "code",
   "execution_count": 71,
   "metadata": {},
   "outputs": [],
   "source": [
    "test['pred_Weekly_Sales'] = np.exp(test['log_pred_Weekly_Sales'])"
   ]
  },
  {
   "cell_type": "code",
   "execution_count": 72,
   "metadata": {},
   "outputs": [
    {
     "data": {
      "text/html": [
       "<div>\n",
       "<style scoped>\n",
       "    .dataframe tbody tr th:only-of-type {\n",
       "        vertical-align: middle;\n",
       "    }\n",
       "\n",
       "    .dataframe tbody tr th {\n",
       "        vertical-align: top;\n",
       "    }\n",
       "\n",
       "    .dataframe thead th {\n",
       "        text-align: right;\n",
       "    }\n",
       "</style>\n",
       "<table border=\"1\" class=\"dataframe\">\n",
       "  <thead>\n",
       "    <tr style=\"text-align: right;\">\n",
       "      <th></th>\n",
       "      <th>Size</th>\n",
       "      <th>Type_C</th>\n",
       "      <th>Dept_54</th>\n",
       "      <th>Dept_45</th>\n",
       "      <th>Dept_60</th>\n",
       "      <th>Dept_59</th>\n",
       "      <th>Dept_51</th>\n",
       "      <th>Dept_95</th>\n",
       "      <th>Dept_38</th>\n",
       "      <th>Dept_28</th>\n",
       "      <th>...</th>\n",
       "      <th>Dept_2</th>\n",
       "      <th>Store_44</th>\n",
       "      <th>Store_38</th>\n",
       "      <th>Store_33</th>\n",
       "      <th>Dept_90</th>\n",
       "      <th>Dept_18</th>\n",
       "      <th>Dept_47</th>\n",
       "      <th>Store_30</th>\n",
       "      <th>log_pred_Weekly_Sales</th>\n",
       "      <th>pred_Weekly_Sales</th>\n",
       "    </tr>\n",
       "  </thead>\n",
       "  <tbody>\n",
       "    <tr>\n",
       "      <th>0</th>\n",
       "      <td>151315</td>\n",
       "      <td>0</td>\n",
       "      <td>0</td>\n",
       "      <td>0</td>\n",
       "      <td>0</td>\n",
       "      <td>0</td>\n",
       "      <td>0</td>\n",
       "      <td>0</td>\n",
       "      <td>0</td>\n",
       "      <td>0</td>\n",
       "      <td>...</td>\n",
       "      <td>0</td>\n",
       "      <td>0</td>\n",
       "      <td>0</td>\n",
       "      <td>0</td>\n",
       "      <td>0</td>\n",
       "      <td>0</td>\n",
       "      <td>0</td>\n",
       "      <td>0</td>\n",
       "      <td>8.784129</td>\n",
       "      <td>6529.780674</td>\n",
       "    </tr>\n",
       "    <tr>\n",
       "      <th>1</th>\n",
       "      <td>151315</td>\n",
       "      <td>0</td>\n",
       "      <td>0</td>\n",
       "      <td>0</td>\n",
       "      <td>0</td>\n",
       "      <td>0</td>\n",
       "      <td>0</td>\n",
       "      <td>0</td>\n",
       "      <td>0</td>\n",
       "      <td>0</td>\n",
       "      <td>...</td>\n",
       "      <td>0</td>\n",
       "      <td>0</td>\n",
       "      <td>0</td>\n",
       "      <td>0</td>\n",
       "      <td>0</td>\n",
       "      <td>0</td>\n",
       "      <td>0</td>\n",
       "      <td>0</td>\n",
       "      <td>8.784129</td>\n",
       "      <td>6529.780674</td>\n",
       "    </tr>\n",
       "    <tr>\n",
       "      <th>2</th>\n",
       "      <td>151315</td>\n",
       "      <td>0</td>\n",
       "      <td>0</td>\n",
       "      <td>0</td>\n",
       "      <td>0</td>\n",
       "      <td>0</td>\n",
       "      <td>0</td>\n",
       "      <td>0</td>\n",
       "      <td>0</td>\n",
       "      <td>0</td>\n",
       "      <td>...</td>\n",
       "      <td>0</td>\n",
       "      <td>0</td>\n",
       "      <td>0</td>\n",
       "      <td>0</td>\n",
       "      <td>0</td>\n",
       "      <td>0</td>\n",
       "      <td>0</td>\n",
       "      <td>0</td>\n",
       "      <td>8.784129</td>\n",
       "      <td>6529.780674</td>\n",
       "    </tr>\n",
       "    <tr>\n",
       "      <th>3</th>\n",
       "      <td>151315</td>\n",
       "      <td>0</td>\n",
       "      <td>0</td>\n",
       "      <td>0</td>\n",
       "      <td>0</td>\n",
       "      <td>0</td>\n",
       "      <td>0</td>\n",
       "      <td>0</td>\n",
       "      <td>0</td>\n",
       "      <td>0</td>\n",
       "      <td>...</td>\n",
       "      <td>0</td>\n",
       "      <td>0</td>\n",
       "      <td>0</td>\n",
       "      <td>0</td>\n",
       "      <td>0</td>\n",
       "      <td>0</td>\n",
       "      <td>0</td>\n",
       "      <td>0</td>\n",
       "      <td>8.784129</td>\n",
       "      <td>6529.780674</td>\n",
       "    </tr>\n",
       "    <tr>\n",
       "      <th>4</th>\n",
       "      <td>151315</td>\n",
       "      <td>0</td>\n",
       "      <td>0</td>\n",
       "      <td>0</td>\n",
       "      <td>0</td>\n",
       "      <td>0</td>\n",
       "      <td>0</td>\n",
       "      <td>0</td>\n",
       "      <td>0</td>\n",
       "      <td>0</td>\n",
       "      <td>...</td>\n",
       "      <td>0</td>\n",
       "      <td>0</td>\n",
       "      <td>0</td>\n",
       "      <td>0</td>\n",
       "      <td>0</td>\n",
       "      <td>0</td>\n",
       "      <td>0</td>\n",
       "      <td>0</td>\n",
       "      <td>8.784129</td>\n",
       "      <td>6529.780674</td>\n",
       "    </tr>\n",
       "  </tbody>\n",
       "</table>\n",
       "<p>5 rows × 22 columns</p>\n",
       "</div>"
      ],
      "text/plain": [
       "     Size  Type_C  Dept_54  Dept_45  Dept_60  Dept_59  Dept_51  Dept_95  \\\n",
       "0  151315       0        0        0        0        0        0        0   \n",
       "1  151315       0        0        0        0        0        0        0   \n",
       "2  151315       0        0        0        0        0        0        0   \n",
       "3  151315       0        0        0        0        0        0        0   \n",
       "4  151315       0        0        0        0        0        0        0   \n",
       "\n",
       "   Dept_38  Dept_28  ...  Dept_2  Store_44  Store_38  Store_33  Dept_90  \\\n",
       "0        0        0  ...       0         0         0         0        0   \n",
       "1        0        0  ...       0         0         0         0        0   \n",
       "2        0        0  ...       0         0         0         0        0   \n",
       "3        0        0  ...       0         0         0         0        0   \n",
       "4        0        0  ...       0         0         0         0        0   \n",
       "\n",
       "   Dept_18  Dept_47  Store_30  log_pred_Weekly_Sales  pred_Weekly_Sales  \n",
       "0        0        0         0               8.784129        6529.780674  \n",
       "1        0        0         0               8.784129        6529.780674  \n",
       "2        0        0         0               8.784129        6529.780674  \n",
       "3        0        0         0               8.784129        6529.780674  \n",
       "4        0        0         0               8.784129        6529.780674  \n",
       "\n",
       "[5 rows x 22 columns]"
      ]
     },
     "execution_count": 72,
     "metadata": {},
     "output_type": "execute_result"
    }
   ],
   "source": [
    "test.head()"
   ]
  },
  {
   "cell_type": "markdown",
   "metadata": {},
   "source": [
    "#### Performing Decile Analysis"
   ]
  },
  {
   "cell_type": "code",
   "execution_count": 73,
   "metadata": {},
   "outputs": [
    {
     "data": {
      "text/html": [
       "<div>\n",
       "<style scoped>\n",
       "    .dataframe tbody tr th:only-of-type {\n",
       "        vertical-align: middle;\n",
       "    }\n",
       "\n",
       "    .dataframe tbody tr th {\n",
       "        vertical-align: top;\n",
       "    }\n",
       "\n",
       "    .dataframe thead th {\n",
       "        text-align: right;\n",
       "    }\n",
       "</style>\n",
       "<table border=\"1\" class=\"dataframe\">\n",
       "  <thead>\n",
       "    <tr style=\"text-align: right;\">\n",
       "      <th></th>\n",
       "      <th>Size</th>\n",
       "      <th>Type_C</th>\n",
       "      <th>Dept_54</th>\n",
       "      <th>Dept_45</th>\n",
       "      <th>Dept_60</th>\n",
       "      <th>Dept_59</th>\n",
       "      <th>Dept_51</th>\n",
       "      <th>Dept_95</th>\n",
       "      <th>Dept_38</th>\n",
       "      <th>Dept_28</th>\n",
       "      <th>...</th>\n",
       "      <th>Store_44</th>\n",
       "      <th>Store_38</th>\n",
       "      <th>Store_33</th>\n",
       "      <th>Dept_90</th>\n",
       "      <th>Dept_18</th>\n",
       "      <th>Dept_47</th>\n",
       "      <th>Store_30</th>\n",
       "      <th>log_Weekly_Sales</th>\n",
       "      <th>pred</th>\n",
       "      <th>Deciles</th>\n",
       "    </tr>\n",
       "  </thead>\n",
       "  <tbody>\n",
       "    <tr>\n",
       "      <th>0</th>\n",
       "      <td>151315</td>\n",
       "      <td>0</td>\n",
       "      <td>0</td>\n",
       "      <td>0</td>\n",
       "      <td>0</td>\n",
       "      <td>0</td>\n",
       "      <td>0</td>\n",
       "      <td>0</td>\n",
       "      <td>0</td>\n",
       "      <td>0</td>\n",
       "      <td>...</td>\n",
       "      <td>0</td>\n",
       "      <td>0</td>\n",
       "      <td>0</td>\n",
       "      <td>0</td>\n",
       "      <td>0</td>\n",
       "      <td>0</td>\n",
       "      <td>0</td>\n",
       "      <td>10.123607</td>\n",
       "      <td>8.784129</td>\n",
       "      <td>5</td>\n",
       "    </tr>\n",
       "    <tr>\n",
       "      <th>1</th>\n",
       "      <td>151315</td>\n",
       "      <td>0</td>\n",
       "      <td>0</td>\n",
       "      <td>0</td>\n",
       "      <td>0</td>\n",
       "      <td>0</td>\n",
       "      <td>0</td>\n",
       "      <td>0</td>\n",
       "      <td>0</td>\n",
       "      <td>0</td>\n",
       "      <td>...</td>\n",
       "      <td>0</td>\n",
       "      <td>0</td>\n",
       "      <td>0</td>\n",
       "      <td>0</td>\n",
       "      <td>0</td>\n",
       "      <td>0</td>\n",
       "      <td>0</td>\n",
       "      <td>10.737255</td>\n",
       "      <td>8.784129</td>\n",
       "      <td>5</td>\n",
       "    </tr>\n",
       "    <tr>\n",
       "      <th>2</th>\n",
       "      <td>151315</td>\n",
       "      <td>0</td>\n",
       "      <td>0</td>\n",
       "      <td>0</td>\n",
       "      <td>0</td>\n",
       "      <td>0</td>\n",
       "      <td>0</td>\n",
       "      <td>0</td>\n",
       "      <td>0</td>\n",
       "      <td>0</td>\n",
       "      <td>...</td>\n",
       "      <td>0</td>\n",
       "      <td>0</td>\n",
       "      <td>0</td>\n",
       "      <td>0</td>\n",
       "      <td>0</td>\n",
       "      <td>0</td>\n",
       "      <td>0</td>\n",
       "      <td>10.635748</td>\n",
       "      <td>8.784129</td>\n",
       "      <td>5</td>\n",
       "    </tr>\n",
       "    <tr>\n",
       "      <th>3</th>\n",
       "      <td>151315</td>\n",
       "      <td>0</td>\n",
       "      <td>0</td>\n",
       "      <td>0</td>\n",
       "      <td>0</td>\n",
       "      <td>0</td>\n",
       "      <td>0</td>\n",
       "      <td>0</td>\n",
       "      <td>0</td>\n",
       "      <td>0</td>\n",
       "      <td>...</td>\n",
       "      <td>0</td>\n",
       "      <td>0</td>\n",
       "      <td>0</td>\n",
       "      <td>0</td>\n",
       "      <td>0</td>\n",
       "      <td>0</td>\n",
       "      <td>0</td>\n",
       "      <td>9.873211</td>\n",
       "      <td>8.784129</td>\n",
       "      <td>5</td>\n",
       "    </tr>\n",
       "    <tr>\n",
       "      <th>4</th>\n",
       "      <td>151315</td>\n",
       "      <td>0</td>\n",
       "      <td>0</td>\n",
       "      <td>0</td>\n",
       "      <td>0</td>\n",
       "      <td>0</td>\n",
       "      <td>0</td>\n",
       "      <td>0</td>\n",
       "      <td>0</td>\n",
       "      <td>0</td>\n",
       "      <td>...</td>\n",
       "      <td>0</td>\n",
       "      <td>0</td>\n",
       "      <td>0</td>\n",
       "      <td>0</td>\n",
       "      <td>0</td>\n",
       "      <td>0</td>\n",
       "      <td>0</td>\n",
       "      <td>9.990944</td>\n",
       "      <td>8.784129</td>\n",
       "      <td>5</td>\n",
       "    </tr>\n",
       "  </tbody>\n",
       "</table>\n",
       "<p>5 rows × 23 columns</p>\n",
       "</div>"
      ],
      "text/plain": [
       "     Size  Type_C  Dept_54  Dept_45  Dept_60  Dept_59  Dept_51  Dept_95  \\\n",
       "0  151315       0        0        0        0        0        0        0   \n",
       "1  151315       0        0        0        0        0        0        0   \n",
       "2  151315       0        0        0        0        0        0        0   \n",
       "3  151315       0        0        0        0        0        0        0   \n",
       "4  151315       0        0        0        0        0        0        0   \n",
       "\n",
       "   Dept_38  Dept_28  ...  Store_44  Store_38  Store_33  Dept_90  Dept_18  \\\n",
       "0        0        0  ...         0         0         0        0        0   \n",
       "1        0        0  ...         0         0         0        0        0   \n",
       "2        0        0  ...         0         0         0        0        0   \n",
       "3        0        0  ...         0         0         0        0        0   \n",
       "4        0        0  ...         0         0         0        0        0   \n",
       "\n",
       "   Dept_47  Store_30  log_Weekly_Sales      pred  Deciles  \n",
       "0        0         0         10.123607  8.784129        5  \n",
       "1        0         0         10.737255  8.784129        5  \n",
       "2        0         0         10.635748  8.784129        5  \n",
       "3        0         0          9.873211  8.784129        5  \n",
       "4        0         0          9.990944  8.784129        5  \n",
       "\n",
       "[5 rows x 23 columns]"
      ]
     },
     "execution_count": 73,
     "metadata": {},
     "output_type": "execute_result"
    }
   ],
   "source": [
    "train['Deciles']=pd.qcut(train['pred'],10, labels=False)\n",
    "train.head()"
   ]
  },
  {
   "cell_type": "code",
   "execution_count": 74,
   "metadata": {},
   "outputs": [
    {
     "data": {
      "text/html": [
       "<div>\n",
       "<style scoped>\n",
       "    .dataframe tbody tr th:only-of-type {\n",
       "        vertical-align: middle;\n",
       "    }\n",
       "\n",
       "    .dataframe tbody tr th {\n",
       "        vertical-align: top;\n",
       "    }\n",
       "\n",
       "    .dataframe thead th {\n",
       "        text-align: right;\n",
       "    }\n",
       "</style>\n",
       "<table border=\"1\" class=\"dataframe\">\n",
       "  <thead>\n",
       "    <tr style=\"text-align: right;\">\n",
       "      <th></th>\n",
       "      <th>Size</th>\n",
       "      <th>Type_C</th>\n",
       "      <th>Dept_54</th>\n",
       "      <th>Dept_45</th>\n",
       "      <th>Dept_60</th>\n",
       "      <th>Dept_59</th>\n",
       "      <th>Dept_51</th>\n",
       "      <th>Dept_95</th>\n",
       "      <th>Dept_38</th>\n",
       "      <th>Dept_28</th>\n",
       "      <th>...</th>\n",
       "      <th>Store_44</th>\n",
       "      <th>Store_38</th>\n",
       "      <th>Store_33</th>\n",
       "      <th>Dept_90</th>\n",
       "      <th>Dept_18</th>\n",
       "      <th>Dept_47</th>\n",
       "      <th>Store_30</th>\n",
       "      <th>log_pred_Weekly_Sales</th>\n",
       "      <th>pred_Weekly_Sales</th>\n",
       "      <th>Deciles</th>\n",
       "    </tr>\n",
       "  </thead>\n",
       "  <tbody>\n",
       "    <tr>\n",
       "      <th>0</th>\n",
       "      <td>151315</td>\n",
       "      <td>0</td>\n",
       "      <td>0</td>\n",
       "      <td>0</td>\n",
       "      <td>0</td>\n",
       "      <td>0</td>\n",
       "      <td>0</td>\n",
       "      <td>0</td>\n",
       "      <td>0</td>\n",
       "      <td>0</td>\n",
       "      <td>...</td>\n",
       "      <td>0</td>\n",
       "      <td>0</td>\n",
       "      <td>0</td>\n",
       "      <td>0</td>\n",
       "      <td>0</td>\n",
       "      <td>0</td>\n",
       "      <td>0</td>\n",
       "      <td>8.784129</td>\n",
       "      <td>6529.780674</td>\n",
       "      <td>5</td>\n",
       "    </tr>\n",
       "    <tr>\n",
       "      <th>1</th>\n",
       "      <td>151315</td>\n",
       "      <td>0</td>\n",
       "      <td>0</td>\n",
       "      <td>0</td>\n",
       "      <td>0</td>\n",
       "      <td>0</td>\n",
       "      <td>0</td>\n",
       "      <td>0</td>\n",
       "      <td>0</td>\n",
       "      <td>0</td>\n",
       "      <td>...</td>\n",
       "      <td>0</td>\n",
       "      <td>0</td>\n",
       "      <td>0</td>\n",
       "      <td>0</td>\n",
       "      <td>0</td>\n",
       "      <td>0</td>\n",
       "      <td>0</td>\n",
       "      <td>8.784129</td>\n",
       "      <td>6529.780674</td>\n",
       "      <td>5</td>\n",
       "    </tr>\n",
       "    <tr>\n",
       "      <th>2</th>\n",
       "      <td>151315</td>\n",
       "      <td>0</td>\n",
       "      <td>0</td>\n",
       "      <td>0</td>\n",
       "      <td>0</td>\n",
       "      <td>0</td>\n",
       "      <td>0</td>\n",
       "      <td>0</td>\n",
       "      <td>0</td>\n",
       "      <td>0</td>\n",
       "      <td>...</td>\n",
       "      <td>0</td>\n",
       "      <td>0</td>\n",
       "      <td>0</td>\n",
       "      <td>0</td>\n",
       "      <td>0</td>\n",
       "      <td>0</td>\n",
       "      <td>0</td>\n",
       "      <td>8.784129</td>\n",
       "      <td>6529.780674</td>\n",
       "      <td>5</td>\n",
       "    </tr>\n",
       "    <tr>\n",
       "      <th>3</th>\n",
       "      <td>151315</td>\n",
       "      <td>0</td>\n",
       "      <td>0</td>\n",
       "      <td>0</td>\n",
       "      <td>0</td>\n",
       "      <td>0</td>\n",
       "      <td>0</td>\n",
       "      <td>0</td>\n",
       "      <td>0</td>\n",
       "      <td>0</td>\n",
       "      <td>...</td>\n",
       "      <td>0</td>\n",
       "      <td>0</td>\n",
       "      <td>0</td>\n",
       "      <td>0</td>\n",
       "      <td>0</td>\n",
       "      <td>0</td>\n",
       "      <td>0</td>\n",
       "      <td>8.784129</td>\n",
       "      <td>6529.780674</td>\n",
       "      <td>5</td>\n",
       "    </tr>\n",
       "    <tr>\n",
       "      <th>4</th>\n",
       "      <td>151315</td>\n",
       "      <td>0</td>\n",
       "      <td>0</td>\n",
       "      <td>0</td>\n",
       "      <td>0</td>\n",
       "      <td>0</td>\n",
       "      <td>0</td>\n",
       "      <td>0</td>\n",
       "      <td>0</td>\n",
       "      <td>0</td>\n",
       "      <td>...</td>\n",
       "      <td>0</td>\n",
       "      <td>0</td>\n",
       "      <td>0</td>\n",
       "      <td>0</td>\n",
       "      <td>0</td>\n",
       "      <td>0</td>\n",
       "      <td>0</td>\n",
       "      <td>8.784129</td>\n",
       "      <td>6529.780674</td>\n",
       "      <td>5</td>\n",
       "    </tr>\n",
       "  </tbody>\n",
       "</table>\n",
       "<p>5 rows × 23 columns</p>\n",
       "</div>"
      ],
      "text/plain": [
       "     Size  Type_C  Dept_54  Dept_45  Dept_60  Dept_59  Dept_51  Dept_95  \\\n",
       "0  151315       0        0        0        0        0        0        0   \n",
       "1  151315       0        0        0        0        0        0        0   \n",
       "2  151315       0        0        0        0        0        0        0   \n",
       "3  151315       0        0        0        0        0        0        0   \n",
       "4  151315       0        0        0        0        0        0        0   \n",
       "\n",
       "   Dept_38  Dept_28  ...  Store_44  Store_38  Store_33  Dept_90  Dept_18  \\\n",
       "0        0        0  ...         0         0         0        0        0   \n",
       "1        0        0  ...         0         0         0        0        0   \n",
       "2        0        0  ...         0         0         0        0        0   \n",
       "3        0        0  ...         0         0         0        0        0   \n",
       "4        0        0  ...         0         0         0        0        0   \n",
       "\n",
       "   Dept_47  Store_30  log_pred_Weekly_Sales  pred_Weekly_Sales  Deciles  \n",
       "0        0         0               8.784129        6529.780674        5  \n",
       "1        0         0               8.784129        6529.780674        5  \n",
       "2        0         0               8.784129        6529.780674        5  \n",
       "3        0         0               8.784129        6529.780674        5  \n",
       "4        0         0               8.784129        6529.780674        5  \n",
       "\n",
       "[5 rows x 23 columns]"
      ]
     },
     "execution_count": 74,
     "metadata": {},
     "output_type": "execute_result"
    }
   ],
   "source": [
    "test['Deciles']=pd.qcut(test['log_pred_Weekly_Sales'],10, labels=False)\n",
    "test.head()"
   ]
  },
  {
   "cell_type": "code",
   "execution_count": 75,
   "metadata": {},
   "outputs": [],
   "source": [
    "avg_actual = train[[\"Deciles\", \"log_Weekly_Sales\"]].groupby('Deciles').mean().sort_index(ascending = False)[\"log_Weekly_Sales\"]\n",
    "avg_pred = train[[\"Deciles\", \"pred\"]].groupby(train.Deciles).mean().sort_index(ascending = False)[\"pred\"]"
   ]
  },
  {
   "cell_type": "code",
   "execution_count": 76,
   "metadata": {},
   "outputs": [
    {
     "data": {
      "text/html": [
       "<div>\n",
       "<style scoped>\n",
       "    .dataframe tbody tr th:only-of-type {\n",
       "        vertical-align: middle;\n",
       "    }\n",
       "\n",
       "    .dataframe tbody tr th {\n",
       "        vertical-align: top;\n",
       "    }\n",
       "\n",
       "    .dataframe thead th {\n",
       "        text-align: right;\n",
       "    }\n",
       "</style>\n",
       "<table border=\"1\" class=\"dataframe\">\n",
       "  <thead>\n",
       "    <tr style=\"text-align: right;\">\n",
       "      <th></th>\n",
       "      <th>pred</th>\n",
       "      <th>log_Weekly_Sales</th>\n",
       "    </tr>\n",
       "    <tr>\n",
       "      <th>Deciles</th>\n",
       "      <th></th>\n",
       "      <th></th>\n",
       "    </tr>\n",
       "  </thead>\n",
       "  <tbody>\n",
       "    <tr>\n",
       "      <th>9</th>\n",
       "      <td>10.918011</td>\n",
       "      <td>10.760785</td>\n",
       "    </tr>\n",
       "    <tr>\n",
       "      <th>8</th>\n",
       "      <td>9.268029</td>\n",
       "      <td>9.350108</td>\n",
       "    </tr>\n",
       "    <tr>\n",
       "      <th>7</th>\n",
       "      <td>9.224290</td>\n",
       "      <td>9.102992</td>\n",
       "    </tr>\n",
       "    <tr>\n",
       "      <th>6</th>\n",
       "      <td>9.167331</td>\n",
       "      <td>9.326657</td>\n",
       "    </tr>\n",
       "    <tr>\n",
       "      <th>5</th>\n",
       "      <td>8.810009</td>\n",
       "      <td>8.797084</td>\n",
       "    </tr>\n",
       "    <tr>\n",
       "      <th>4</th>\n",
       "      <td>8.595312</td>\n",
       "      <td>8.584151</td>\n",
       "    </tr>\n",
       "    <tr>\n",
       "      <th>3</th>\n",
       "      <td>8.495654</td>\n",
       "      <td>8.814158</td>\n",
       "    </tr>\n",
       "    <tr>\n",
       "      <th>2</th>\n",
       "      <td>8.174421</td>\n",
       "      <td>8.142977</td>\n",
       "    </tr>\n",
       "    <tr>\n",
       "      <th>1</th>\n",
       "      <td>7.363266</td>\n",
       "      <td>7.179260</td>\n",
       "    </tr>\n",
       "    <tr>\n",
       "      <th>0</th>\n",
       "      <td>5.599843</td>\n",
       "      <td>5.533506</td>\n",
       "    </tr>\n",
       "  </tbody>\n",
       "</table>\n",
       "</div>"
      ],
      "text/plain": [
       "              pred  log_Weekly_Sales\n",
       "Deciles                             \n",
       "9        10.918011         10.760785\n",
       "8         9.268029          9.350108\n",
       "7         9.224290          9.102992\n",
       "6         9.167331          9.326657\n",
       "5         8.810009          8.797084\n",
       "4         8.595312          8.584151\n",
       "3         8.495654          8.814158\n",
       "2         8.174421          8.142977\n",
       "1         7.363266          7.179260\n",
       "0         5.599843          5.533506"
      ]
     },
     "execution_count": 76,
     "metadata": {},
     "output_type": "execute_result"
    }
   ],
   "source": [
    "Decile_analysis_train = pd.concat([avg_pred, avg_actual], axis = 1)\n",
    "Decile_analysis_train"
   ]
  },
  {
   "cell_type": "code",
   "execution_count": 77,
   "metadata": {},
   "outputs": [
    {
     "data": {
      "image/png": "[encoded data removed]",
      "text/plain": [
       "<Figure size 432x288 with 1 Axes>"
      ]
     },
     "metadata": {
      "needs_background": "light"
     },
     "output_type": "display_data"
    }
   ],
   "source": [
    "Decile_analysis_train.plot(kind = 'bar')\n",
    "plt.show()"
   ]
  },
  {
   "cell_type": "code",
   "execution_count": 78,
   "metadata": {},
   "outputs": [],
   "source": [
    "#### Lets save everything in metrics_df to pickle object\n",
    "import pickle\n",
    "\n",
    "# now you can save it to a file\n",
    "with open('model_Linear_reg.pkl', 'wb') as f:\n",
    "    pickle.dump(model, f)"
   ]
  },
  {
   "cell_type": "code",
   "execution_count": 79,
   "metadata": {},
   "outputs": [],
   "source": [
    "# and later you can load it\n",
    "with open('model_Linear_reg.pkl', 'rb') as f:\n",
    "    model_new = pickle.load(f)"
   ]
  },
  {
   "cell_type": "code",
   "execution_count": 80,
   "metadata": {},
   "outputs": [
    {
     "data": {
      "text/plain": [
       "0         8.784129\n",
       "1         8.784129\n",
       "2         8.784129\n",
       "3         8.784129\n",
       "4         8.784129\n",
       "            ...   \n",
       "115059    8.505661\n",
       "115060    8.505661\n",
       "115061    8.505661\n",
       "115062    8.505661\n",
       "115063    8.505661\n",
       "Length: 115064, dtype: float64"
      ]
     },
     "execution_count": 80,
     "metadata": {},
     "output_type": "execute_result"
    }
   ],
   "source": [
    "model_new.predict(test)"
   ]
  },
  {
   "cell_type": "markdown",
   "metadata": {},
   "source": [
    "#### Random Forest Regressor"
   ]
  },
  {
   "cell_type": "code",
   "execution_count": 81,
   "metadata": {},
   "outputs": [],
   "source": [
    "from sklearn.model_selection import GridSearchCV\n",
    "from sklearn.ensemble import RandomForestRegressor"
   ]
  },
  {
   "cell_type": "code",
   "execution_count": 82,
   "metadata": {},
   "outputs": [],
   "source": [
    "train_rf = data_final1.copy(deep = True)"
   ]
  },
  {
   "cell_type": "code",
   "execution_count": 83,
   "metadata": {},
   "outputs": [],
   "source": [
    "train_x = train_rf[train_rf.columns.difference(['log_Weekly_Sales'])]\n",
    "train_y = train_rf[\"log_Weekly_Sales\"]"
   ]
  },
  {
   "cell_type": "code",
   "execution_count": 84,
   "metadata": {},
   "outputs": [],
   "source": [
    "test_rf = test.copy(deep = True)"
   ]
  },
  {
   "cell_type": "code",
   "execution_count": 85,
   "metadata": {},
   "outputs": [],
   "source": [
    "test_rf.drop(['log_pred_Weekly_Sales', 'pred_Weekly_Sales', 'Deciles'], axis = 1, inplace = True)"
   ]
  },
  {
   "cell_type": "code",
   "execution_count": 86,
   "metadata": {},
   "outputs": [
    {
     "data": {
      "text/plain": [
       "GridSearchCV(cv=3, error_score=nan,\n",
       "             estimator=RandomForestRegressor(bootstrap=True, ccp_alpha=0.0,\n",
       "                                             criterion='mse', max_depth=None,\n",
       "                                             max_features='auto',\n",
       "                                             max_leaf_nodes=None,\n",
       "                                             max_samples=None,\n",
       "                                             min_impurity_decrease=0.0,\n",
       "                                             min_impurity_split=None,\n",
       "                                             min_samples_leaf=1,\n",
       "                                             min_samples_split=2,\n",
       "                                             min_weight_fraction_leaf=0.0,\n",
       "                                             n_estimators=100, n_jobs=None,\n",
       "                                             oob_score=False, random_state=None,\n",
       "                                             verbose=0, warm_start=False),\n",
       "             iid='deprecated', n_jobs=-1,\n",
       "             param_grid={'max_depth': [2, 3, 4],\n",
       "                         'n_estimators': [50, 60, 70, 80, 100]},\n",
       "             pre_dispatch='2*n_jobs', refit=True, return_train_score=False,\n",
       "             scoring=None, verbose=0)"
      ]
     },
     "execution_count": 86,
     "metadata": {},
     "output_type": "execute_result"
    }
   ],
   "source": [
    "pargrid_ada = {'n_estimators': [50,60,70,80,100],\n",
    "               'max_depth':[2,3,4]}\n",
    "\n",
    "data_rf = GridSearchCV(estimator=RandomForestRegressor(), \n",
    "                        param_grid=pargrid_ada, \n",
    "                        cv=3,n_jobs=-1)\n",
    "data_rf.fit(train_x,train_y)"
   ]
  },
  {
   "cell_type": "code",
   "execution_count": 87,
   "metadata": {},
   "outputs": [],
   "source": [
    "#Predicting values for both training and testing data sets\n",
    "rf_train_pred=data_rf.predict(train_x)\n",
    "rf_test_pred=data_rf.predict(test_rf)"
   ]
  },
  {
   "cell_type": "code",
   "execution_count": 91,
   "metadata": {},
   "outputs": [
    {
     "name": "stdout",
     "output_type": "stream",
     "text": [
      "MAPE values for training and testing data :\n",
      "0.23035126739759523\n",
      "1.7670745195951834\n"
     ]
    }
   ],
   "source": [
    "#Metrics for both training and testing data \n",
    "\n",
    "#Mean Absolute Percentage Error \n",
    "print(\"MAPE values for training and testing data :\")\n",
    "MAPE_train = np.mean(np.abs(train_y - rf_train_pred)/train_y)\n",
    "print(MAPE_train)\n",
    "\n",
    "RMSE_train_1 = np.sqrt(metrics.mean_squared_error(train_y,rf_train_pred))\n",
    "print(RMSE_train_1)"
   ]
  },
  {
   "cell_type": "code",
   "execution_count": 93,
   "metadata": {},
   "outputs": [
    {
     "name": "stdout",
     "output_type": "stream",
     "text": [
      "RMSE for Linear Regression:  2.288287784633893\n",
      "RMSE for Random Forest Regressor 1.7670745195951834\n"
     ]
    }
   ],
   "source": [
    "#Comparing RMSE for both the models\n",
    "\n",
    "print('RMSE for Linear Regression: ', RMSE_train)\n",
    "print('RMSE for Random Forest Regressor', RMSE_train_1)"
   ]
  },
  {
   "cell_type": "markdown",
   "metadata": {},
   "source": [
    "# RMSE for Random Forest Regressor is lower, hence, this model has a better fit."
   ]
  }
 ],
 "metadata": {
  "kernelspec": {
   "display_name": "Python 3",
   "language": "python",
   "name": "python3"
  },
  "language_info": {
   "codemirror_mode": {
    "name": "ipython",
    "version": 3
   },
   "file_extension": ".py",
   "mimetype": "text/x-python",
   "name": "python",
   "nbconvert_exporter": "python",
   "pygments_lexer": "ipython3",
   "version": "3.7.6"
  }
 },
 "nbformat": 4,
 "nbformat_minor": 4
}
