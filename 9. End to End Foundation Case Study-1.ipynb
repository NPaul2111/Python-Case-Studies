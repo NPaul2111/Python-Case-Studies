{
 "cells": [
  {
   "cell_type": "code",
   "execution_count": 1,
   "metadata": {},
   "outputs": [],
   "source": [
    "import pandas as pd\n",
    "import numpy as np\n",
    "import warnings\n",
    "warnings.filterwarnings(\"ignore\")\n",
    "import matplotlib.pyplot as plt\n",
    "import seaborn as sns\n",
    "\n",
    "from sklearn.linear_model import LinearRegression\n",
    "from sklearn.preprocessing import StandardScaler\n",
    "from sklearn.neighbors import LocalOutlierFactor"
   ]
  },
  {
   "cell_type": "code",
   "execution_count": 2,
   "metadata": {},
   "outputs": [],
   "source": [
    "char_inpatient = pd.read_csv('Medicare_Charge_Inpatient_DRG100_DRG_Summary_by_DRG_FY2011.csv')\n",
    "char_outpatient = pd.read_csv('Medicare_Charge_Outpatient_APC30_Summary_by_APC_CY2011.csv')\n",
    "pro_inpatient = pd.read_csv('Medicare_Provider_Charge_Inpatient_DRG100_FY2011.csv')\n",
    "pro_outpatient = pd.read_csv('Medicare_Provider_Charge_Outpatient_APC30_CY2011_v2.csv')\n",
    "history = pd.read_csv('Patient_history_samp.csv')\n",
    "rev_history = pd.read_csv('Review_patient_history_samp.csv')\n",
    "rev_transaction = pd.read_csv('Rreview_transaction_coo.csv')\n",
    "transaction = pd.read_csv('Transaction_coo.csv')"
   ]
  },
  {
   "cell_type": "markdown",
   "metadata": {},
   "source": [
    "#### Part 1: Identify providers that overcharge for certaing procedures or regions where procedures are too expensive."
   ]
  },
  {
   "cell_type": "markdown",
   "metadata": {},
   "source": [
    "##### Part1A: Highest Cost Variation"
   ]
  },
  {
   "cell_type": "markdown",
   "metadata": {},
   "source": [
    "#### For In-patients"
   ]
  },
  {
   "cell_type": "code",
   "execution_count": 3,
   "metadata": {},
   "outputs": [],
   "source": [
    "inp_max = pro_inpatient.loc[pro_inpatient.groupby(['DRG Definition','Provider State'])['Average Medicare Payments'].idxmax()].reset_index(drop=True)\n",
    "inp_min = pro_inpatient.loc[pro_inpatient.groupby(['DRG Definition','Provider State'])['Average Medicare Payments'].idxmin()].reset_index(drop=True)"
   ]
  },
  {
   "cell_type": "code",
   "execution_count": 4,
   "metadata": {},
   "outputs": [
    {
     "data": {
      "text/html": [
       "<div>\n",
       "<style scoped>\n",
       "    .dataframe tbody tr th:only-of-type {\n",
       "        vertical-align: middle;\n",
       "    }\n",
       "\n",
       "    .dataframe tbody tr th {\n",
       "        vertical-align: top;\n",
       "    }\n",
       "\n",
       "    .dataframe thead th {\n",
       "        text-align: right;\n",
       "    }\n",
       "</style>\n",
       "<table border=\"1\" class=\"dataframe\">\n",
       "  <thead>\n",
       "    <tr style=\"text-align: right;\">\n",
       "      <th></th>\n",
       "      <th>DRG Definition</th>\n",
       "      <th>Provider Id</th>\n",
       "      <th>Provider Name</th>\n",
       "      <th>Provider Street Address</th>\n",
       "      <th>Provider City</th>\n",
       "      <th>Provider State</th>\n",
       "      <th>Provider Zip Code</th>\n",
       "      <th>Hospital Referral Region (HRR) Description</th>\n",
       "      <th>Total Discharges</th>\n",
       "      <th>Average Covered Charges</th>\n",
       "      <th>Average Total Payments</th>\n",
       "      <th>Average Medicare Payments</th>\n",
       "      <th>Variation</th>\n",
       "    </tr>\n",
       "  </thead>\n",
       "  <tbody>\n",
       "    <tr>\n",
       "      <th>1053</th>\n",
       "      <td>207 - RESPIRATORY SYSTEM DIAGNOSIS W VENTILATO...</td>\n",
       "      <td>50441</td>\n",
       "      <td>STANFORD HOSPITAL</td>\n",
       "      <td>300 PASTEUR DRIVE</td>\n",
       "      <td>STANFORD</td>\n",
       "      <td>CA</td>\n",
       "      <td>94305</td>\n",
       "      <td>CA - San Mateo County</td>\n",
       "      <td>11</td>\n",
       "      <td>929118.9091</td>\n",
       "      <td>156158.1818</td>\n",
       "      <td>154620.8182</td>\n",
       "      <td>128892.13820</td>\n",
       "    </tr>\n",
       "    <tr>\n",
       "      <th>3330</th>\n",
       "      <td>460 - SPINAL FUSION EXCEPT CERVICAL W/O MCC</td>\n",
       "      <td>150166</td>\n",
       "      <td>PINNACLE HOSPITAL</td>\n",
       "      <td>9301 CONNECTICUT DR</td>\n",
       "      <td>CROWN POINT</td>\n",
       "      <td>IN</td>\n",
       "      <td>46307</td>\n",
       "      <td>IN - Gary</td>\n",
       "      <td>14</td>\n",
       "      <td>225729.1429</td>\n",
       "      <td>131187.3571</td>\n",
       "      <td>130466.5714</td>\n",
       "      <td>113128.73807</td>\n",
       "    </tr>\n",
       "    <tr>\n",
       "      <th>4606</th>\n",
       "      <td>853 - INFECTIOUS &amp; PARASITIC DISEASES W O.R. P...</td>\n",
       "      <td>330234</td>\n",
       "      <td>WESTCHESTER MEDICAL CENTER</td>\n",
       "      <td>100 WOODS RD</td>\n",
       "      <td>VALHALLA</td>\n",
       "      <td>NY</td>\n",
       "      <td>10595</td>\n",
       "      <td>NY - White Plains</td>\n",
       "      <td>15</td>\n",
       "      <td>517381.3333</td>\n",
       "      <td>140255.2667</td>\n",
       "      <td>133177.2667</td>\n",
       "      <td>106932.68775</td>\n",
       "    </tr>\n",
       "  </tbody>\n",
       "</table>\n",
       "</div>"
      ],
      "text/plain": [
       "                                         DRG Definition  Provider Id  \\\n",
       "1053  207 - RESPIRATORY SYSTEM DIAGNOSIS W VENTILATO...        50441   \n",
       "3330        460 - SPINAL FUSION EXCEPT CERVICAL W/O MCC       150166   \n",
       "4606  853 - INFECTIOUS & PARASITIC DISEASES W O.R. P...       330234   \n",
       "\n",
       "                   Provider Name Provider Street Address Provider City  \\\n",
       "1053           STANFORD HOSPITAL       300 PASTEUR DRIVE      STANFORD   \n",
       "3330           PINNACLE HOSPITAL     9301 CONNECTICUT DR   CROWN POINT   \n",
       "4606  WESTCHESTER MEDICAL CENTER            100 WOODS RD      VALHALLA   \n",
       "\n",
       "     Provider State  Provider Zip Code  \\\n",
       "1053             CA              94305   \n",
       "3330             IN              46307   \n",
       "4606             NY              10595   \n",
       "\n",
       "     Hospital Referral Region (HRR) Description  Total Discharges  \\\n",
       "1053                      CA - San Mateo County                11   \n",
       "3330                                  IN - Gary                14   \n",
       "4606                          NY - White Plains                15   \n",
       "\n",
       "      Average Covered Charges  Average Total Payments  \\\n",
       "1053              929118.9091             156158.1818   \n",
       "3330              225729.1429             131187.3571   \n",
       "4606              517381.3333             140255.2667   \n",
       "\n",
       "      Average Medicare Payments     Variation  \n",
       "1053                154620.8182  128892.13820  \n",
       "3330                130466.5714  113128.73807  \n",
       "4606                133177.2667  106932.68775  "
      ]
     },
     "execution_count": 4,
     "metadata": {},
     "output_type": "execute_result"
    }
   ],
   "source": [
    "inp1=inp_max.copy()\n",
    "inp1['Variation'] = inp_max['Average Medicare Payments'] - inp_min['Average Medicare Payments']\n",
    "inp1 = inp1.loc[inp1.groupby(['DRG Definition'])['Variation'].idxmax()]\n",
    "inp1.sort_values(by = 'Variation', ascending = False).head(3)"
   ]
  },
  {
   "cell_type": "markdown",
   "metadata": {},
   "source": [
    "###### For In-patients procedures with the highest cost variation are following: \n",
    "###### 207 - RESPIRATORY SYSTEM DIAGNOSIS W VENTILATOR SUPPORT 96+ HOURS\n",
    "###### 460 - SPINAL FUSION EXCEPT CERVICAL W/O MCC\n",
    "###### 853 - INFECTIOUS & PARASITIC DISEASES W O.R. PROCEDURE W MCC "
   ]
  },
  {
   "cell_type": "markdown",
   "metadata": {},
   "source": [
    "#### For Out-patients"
   ]
  },
  {
   "cell_type": "code",
   "execution_count": 5,
   "metadata": {},
   "outputs": [],
   "source": [
    "out_max = pro_outpatient.loc[pro_outpatient.groupby(['APC','Provider State'])['Average Total Payments'].idxmax()].reset_index(drop=True)\n",
    "out_min = pro_outpatient.loc[pro_outpatient.groupby(['APC','Provider State'])['Average Total Payments'].idxmin()].reset_index(drop=True)"
   ]
  },
  {
   "cell_type": "code",
   "execution_count": 6,
   "metadata": {},
   "outputs": [
    {
     "data": {
      "text/html": [
       "<div>\n",
       "<style scoped>\n",
       "    .dataframe tbody tr th:only-of-type {\n",
       "        vertical-align: middle;\n",
       "    }\n",
       "\n",
       "    .dataframe tbody tr th {\n",
       "        vertical-align: top;\n",
       "    }\n",
       "\n",
       "    .dataframe thead th {\n",
       "        text-align: right;\n",
       "    }\n",
       "</style>\n",
       "<table border=\"1\" class=\"dataframe\">\n",
       "  <thead>\n",
       "    <tr style=\"text-align: right;\">\n",
       "      <th></th>\n",
       "      <th>APC</th>\n",
       "      <th>Provider Id</th>\n",
       "      <th>Provider Name</th>\n",
       "      <th>Provider Street Address</th>\n",
       "      <th>Provider City</th>\n",
       "      <th>Provider State</th>\n",
       "      <th>Provider Zip Code</th>\n",
       "      <th>Hospital Referral Region (HRR) Description</th>\n",
       "      <th>Outpatient Services</th>\n",
       "      <th>Average  Estimated Submitted Charges</th>\n",
       "      <th>Average Total Payments</th>\n",
       "      <th>Variation</th>\n",
       "    </tr>\n",
       "  </thead>\n",
       "  <tbody>\n",
       "    <tr>\n",
       "      <th>277</th>\n",
       "      <td>0074 - Level IV Endoscopy Upper Airway</td>\n",
       "      <td>50441</td>\n",
       "      <td>STANFORD HOSPITAL</td>\n",
       "      <td>300 PASTEUR DRIVE</td>\n",
       "      <td>STANFORD</td>\n",
       "      <td>CA</td>\n",
       "      <td>94305</td>\n",
       "      <td>CA - San Mateo County</td>\n",
       "      <td>190</td>\n",
       "      <td>7764.569632</td>\n",
       "      <td>2062.470526</td>\n",
       "      <td>791.885526</td>\n",
       "    </tr>\n",
       "    <tr>\n",
       "      <th>559</th>\n",
       "      <td>0207 - Level III Nerve Injections</td>\n",
       "      <td>50153</td>\n",
       "      <td>O'CONNOR HOSPITAL</td>\n",
       "      <td>2105 FOREST AVENUE</td>\n",
       "      <td>SAN JOSE</td>\n",
       "      <td>CA</td>\n",
       "      <td>95128</td>\n",
       "      <td>CA - San Jose</td>\n",
       "      <td>68</td>\n",
       "      <td>5817.279412</td>\n",
       "      <td>712.091765</td>\n",
       "      <td>457.210856</td>\n",
       "    </tr>\n",
       "    <tr>\n",
       "      <th>892</th>\n",
       "      <td>0336 - Magnetic Resonance Imaging and Magnetic...</td>\n",
       "      <td>390133</td>\n",
       "      <td>LEHIGH VALLEY HOSPITAL</td>\n",
       "      <td>PO BOX 689</td>\n",
       "      <td>ALLENTOWN</td>\n",
       "      <td>PA</td>\n",
       "      <td>18105</td>\n",
       "      <td>PA - Allentown</td>\n",
       "      <td>99</td>\n",
       "      <td>3736.049192</td>\n",
       "      <td>680.095556</td>\n",
       "      <td>381.127980</td>\n",
       "    </tr>\n",
       "  </tbody>\n",
       "</table>\n",
       "</div>"
      ],
      "text/plain": [
       "                                                   APC  Provider Id  \\\n",
       "277             0074 - Level IV Endoscopy Upper Airway        50441   \n",
       "559                  0207 - Level III Nerve Injections        50153   \n",
       "892  0336 - Magnetic Resonance Imaging and Magnetic...       390133   \n",
       "\n",
       "              Provider Name Provider Street Address Provider City  \\\n",
       "277       STANFORD HOSPITAL       300 PASTEUR DRIVE      STANFORD   \n",
       "559       O'CONNOR HOSPITAL      2105 FOREST AVENUE      SAN JOSE   \n",
       "892  LEHIGH VALLEY HOSPITAL              PO BOX 689     ALLENTOWN   \n",
       "\n",
       "    Provider State  Provider Zip Code  \\\n",
       "277             CA              94305   \n",
       "559             CA              95128   \n",
       "892             PA              18105   \n",
       "\n",
       "    Hospital Referral Region (HRR) Description  Outpatient Services  \\\n",
       "277                      CA - San Mateo County                  190   \n",
       "559                              CA - San Jose                   68   \n",
       "892                             PA - Allentown                   99   \n",
       "\n",
       "     Average  Estimated Submitted Charges  Average Total Payments   Variation  \n",
       "277                           7764.569632             2062.470526  791.885526  \n",
       "559                           5817.279412              712.091765  457.210856  \n",
       "892                           3736.049192              680.095556  381.127980  "
      ]
     },
     "execution_count": 6,
     "metadata": {},
     "output_type": "execute_result"
    }
   ],
   "source": [
    "out1=out_max.copy()\n",
    "out1['Variation']=out_max['Average Total Payments']-out_min['Average Total Payments']\n",
    "out1 = out1.loc[out1.groupby(['APC'])['Variation'].idxmax()]\n",
    "out1.sort_values(by = 'Variation', ascending = False).head(3)"
   ]
  },
  {
   "cell_type": "markdown",
   "metadata": {},
   "source": [
    "###### For In-patients following Top 3 providers have the highest cost variation: \n",
    "###### 0074 - Level IV Endoscopy Upper Airway\n",
    "###### 0207 - Level III Nerve Injections\n",
    "###### 0336 - Magnetic Resonance Imaging and Magnetic Resonance Angiography without Contrast"
   ]
  },
  {
   "cell_type": "markdown",
   "metadata": {},
   "source": [
    "#### PART 1B: Highest-Cost Claims by Provider - In-patients"
   ]
  },
  {
   "cell_type": "code",
   "execution_count": 7,
   "metadata": {},
   "outputs": [
    {
     "data": {
      "text/html": [
       "<div>\n",
       "<style scoped>\n",
       "    .dataframe tbody tr th:only-of-type {\n",
       "        vertical-align: middle;\n",
       "    }\n",
       "\n",
       "    .dataframe tbody tr th {\n",
       "        vertical-align: top;\n",
       "    }\n",
       "\n",
       "    .dataframe thead th {\n",
       "        text-align: right;\n",
       "    }\n",
       "</style>\n",
       "<table border=\"1\" class=\"dataframe\">\n",
       "  <thead>\n",
       "    <tr style=\"text-align: right;\">\n",
       "      <th></th>\n",
       "      <th>DRG Definition</th>\n",
       "      <th>Provider Id</th>\n",
       "      <th>Provider Name</th>\n",
       "      <th>Provider Street Address</th>\n",
       "      <th>Provider City</th>\n",
       "      <th>Provider State</th>\n",
       "      <th>Provider Zip Code</th>\n",
       "      <th>Hospital Referral Region (HRR) Description</th>\n",
       "      <th>Total Discharges</th>\n",
       "      <th>Average Covered Charges</th>\n",
       "      <th>Average Total Payments</th>\n",
       "      <th>Average Medicare Payments</th>\n",
       "    </tr>\n",
       "  </thead>\n",
       "  <tbody>\n",
       "    <tr>\n",
       "      <th>456</th>\n",
       "      <td>039 - EXTRACRANIAL PROCEDURES W/O CC/MCC</td>\n",
       "      <td>210029</td>\n",
       "      <td>JOHNS HOPKINS BAYVIEW MEDICAL CENTER</td>\n",
       "      <td>4940 EASTERN AVENUE</td>\n",
       "      <td>BALTIMORE</td>\n",
       "      <td>MD</td>\n",
       "      <td>21224</td>\n",
       "      <td>MD - Baltimore</td>\n",
       "      <td>11</td>\n",
       "      <td>17955.63636</td>\n",
       "      <td>16878.45455</td>\n",
       "      <td>15855.18182</td>\n",
       "    </tr>\n",
       "    <tr>\n",
       "      <th>1554</th>\n",
       "      <td>057 - DEGENERATIVE NERVOUS SYSTEM DISORDERS W/...</td>\n",
       "      <td>210009</td>\n",
       "      <td>JOHNS HOPKINS HOSPITAL, THE</td>\n",
       "      <td>600 NORTH  WOLFE STREET</td>\n",
       "      <td>BALTIMORE</td>\n",
       "      <td>MD</td>\n",
       "      <td>21287</td>\n",
       "      <td>MD - Baltimore</td>\n",
       "      <td>83</td>\n",
       "      <td>26402.79518</td>\n",
       "      <td>24865.61446</td>\n",
       "      <td>22873.49398</td>\n",
       "    </tr>\n",
       "    <tr>\n",
       "      <th>2986</th>\n",
       "      <td>064 - INTRACRANIAL HEMORRHAGE OR CEREBRAL INFA...</td>\n",
       "      <td>210009</td>\n",
       "      <td>JOHNS HOPKINS HOSPITAL, THE</td>\n",
       "      <td>600 NORTH  WOLFE STREET</td>\n",
       "      <td>BALTIMORE</td>\n",
       "      <td>MD</td>\n",
       "      <td>21287</td>\n",
       "      <td>MD - Baltimore</td>\n",
       "      <td>64</td>\n",
       "      <td>54052.21875</td>\n",
       "      <td>50882.40625</td>\n",
       "      <td>48632.28125</td>\n",
       "    </tr>\n",
       "    <tr>\n",
       "      <th>4156</th>\n",
       "      <td>065 - INTRACRANIAL HEMORRHAGE OR CEREBRAL INFA...</td>\n",
       "      <td>50228</td>\n",
       "      <td>SAN FRANCISCO GENERAL HOSPITAL</td>\n",
       "      <td>1001 POTRERO AVENUE</td>\n",
       "      <td>SAN FRANCISCO</td>\n",
       "      <td>CA</td>\n",
       "      <td>94110</td>\n",
       "      <td>CA - San Francisco</td>\n",
       "      <td>19</td>\n",
       "      <td>111618.15790</td>\n",
       "      <td>24352.05263</td>\n",
       "      <td>23402.26316</td>\n",
       "    </tr>\n",
       "    <tr>\n",
       "      <th>6365</th>\n",
       "      <td>066 - INTRACRANIAL HEMORRHAGE OR CEREBRAL INFA...</td>\n",
       "      <td>50228</td>\n",
       "      <td>SAN FRANCISCO GENERAL HOSPITAL</td>\n",
       "      <td>1001 POTRERO AVENUE</td>\n",
       "      <td>SAN FRANCISCO</td>\n",
       "      <td>CA</td>\n",
       "      <td>94110</td>\n",
       "      <td>CA - San Francisco</td>\n",
       "      <td>34</td>\n",
       "      <td>77093.05882</td>\n",
       "      <td>14744.05882</td>\n",
       "      <td>13710.23529</td>\n",
       "    </tr>\n",
       "  </tbody>\n",
       "</table>\n",
       "</div>"
      ],
      "text/plain": [
       "                                         DRG Definition  Provider Id  \\\n",
       "456            039 - EXTRACRANIAL PROCEDURES W/O CC/MCC       210029   \n",
       "1554  057 - DEGENERATIVE NERVOUS SYSTEM DISORDERS W/...       210009   \n",
       "2986  064 - INTRACRANIAL HEMORRHAGE OR CEREBRAL INFA...       210009   \n",
       "4156  065 - INTRACRANIAL HEMORRHAGE OR CEREBRAL INFA...        50228   \n",
       "6365  066 - INTRACRANIAL HEMORRHAGE OR CEREBRAL INFA...        50228   \n",
       "\n",
       "                             Provider Name  Provider Street Address  \\\n",
       "456   JOHNS HOPKINS BAYVIEW MEDICAL CENTER      4940 EASTERN AVENUE   \n",
       "1554           JOHNS HOPKINS HOSPITAL, THE  600 NORTH  WOLFE STREET   \n",
       "2986           JOHNS HOPKINS HOSPITAL, THE  600 NORTH  WOLFE STREET   \n",
       "4156        SAN FRANCISCO GENERAL HOSPITAL      1001 POTRERO AVENUE   \n",
       "6365        SAN FRANCISCO GENERAL HOSPITAL      1001 POTRERO AVENUE   \n",
       "\n",
       "      Provider City Provider State  Provider Zip Code  \\\n",
       "456       BALTIMORE             MD              21224   \n",
       "1554      BALTIMORE             MD              21287   \n",
       "2986      BALTIMORE             MD              21287   \n",
       "4156  SAN FRANCISCO             CA              94110   \n",
       "6365  SAN FRANCISCO             CA              94110   \n",
       "\n",
       "     Hospital Referral Region (HRR) Description  Total Discharges  \\\n",
       "456                              MD - Baltimore                11   \n",
       "1554                             MD - Baltimore                83   \n",
       "2986                             MD - Baltimore                64   \n",
       "4156                         CA - San Francisco                19   \n",
       "6365                         CA - San Francisco                34   \n",
       "\n",
       "      Average Covered Charges  Average Total Payments  \\\n",
       "456               17955.63636             16878.45455   \n",
       "1554              26402.79518             24865.61446   \n",
       "2986              54052.21875             50882.40625   \n",
       "4156             111618.15790             24352.05263   \n",
       "6365              77093.05882             14744.05882   \n",
       "\n",
       "      Average Medicare Payments  \n",
       "456                 15855.18182  \n",
       "1554                22873.49398  \n",
       "2986                48632.28125  \n",
       "4156                23402.26316  \n",
       "6365                13710.23529  "
      ]
     },
     "execution_count": 7,
     "metadata": {},
     "output_type": "execute_result"
    }
   ],
   "source": [
    "cost_claim = pro_inpatient.loc[pro_inpatient.groupby(['DRG Definition','Provider Id'])['Average Medicare Payments'].idxmax()].reset_index(drop=True)\n",
    "highest_cost_claim = cost_claim.loc[cost_claim.groupby(['DRG Definition'])['Average Medicare Payments'].idxmax()].head()\n",
    "highest_cost_claim"
   ]
  },
  {
   "cell_type": "code",
   "execution_count": 8,
   "metadata": {},
   "outputs": [
    {
     "data": {
      "text/plain": [
       "array([<matplotlib.axes._subplots.AxesSubplot object at 0x000002A4C7163BC8>],\n",
       "      dtype=object)"
      ]
     },
     "execution_count": 8,
     "metadata": {},
     "output_type": "execute_result"
    },
    {
     "data": {
      "image/png": "[encoded data removed]",
      "text/plain": [
       "<Figure size 432x288 with 1 Axes>"
      ]
     },
     "metadata": {},
     "output_type": "display_data"
    }
   ],
   "source": [
    "highest_cost_claim['Average Medicare Payments'].plot(kind='pie', \n",
    "            labels=highest_cost_claim[\"Provider Name\"],\n",
    "            autopct='%1.0f%%', # to get percentage and round off appropriately\n",
    "            fontsize=10, \n",
    "            subplots='true')"
   ]
  },
  {
   "cell_type": "markdown",
   "metadata": {},
   "source": [
    "#### For In-patients Highest-Cost Claims are by JOHNS HOPKINS BAYVIEW MEDICAL CENTER (38%) and SAN FRANCISCO GENERAL HOSPITAL (19%)."
   ]
  },
  {
   "cell_type": "markdown",
   "metadata": {},
   "source": [
    "#### Part1B: Highest-Cost Claims by Provider - Out-patients"
   ]
  },
  {
   "cell_type": "code",
   "execution_count": 9,
   "metadata": {},
   "outputs": [
    {
     "data": {
      "text/html": [
       "<div>\n",
       "<style scoped>\n",
       "    .dataframe tbody tr th:only-of-type {\n",
       "        vertical-align: middle;\n",
       "    }\n",
       "\n",
       "    .dataframe tbody tr th {\n",
       "        vertical-align: top;\n",
       "    }\n",
       "\n",
       "    .dataframe thead th {\n",
       "        text-align: right;\n",
       "    }\n",
       "</style>\n",
       "<table border=\"1\" class=\"dataframe\">\n",
       "  <thead>\n",
       "    <tr style=\"text-align: right;\">\n",
       "      <th></th>\n",
       "      <th>APC</th>\n",
       "      <th>Provider Id</th>\n",
       "      <th>Provider Name</th>\n",
       "      <th>Provider Street Address</th>\n",
       "      <th>Provider City</th>\n",
       "      <th>Provider State</th>\n",
       "      <th>Provider Zip Code</th>\n",
       "      <th>Hospital Referral Region (HRR) Description</th>\n",
       "      <th>Outpatient Services</th>\n",
       "      <th>Average  Estimated Submitted Charges</th>\n",
       "      <th>Average Total Payments</th>\n",
       "    </tr>\n",
       "  </thead>\n",
       "  <tbody>\n",
       "    <tr>\n",
       "      <th>1</th>\n",
       "      <td>0012 - Level I Debridement &amp; Destruction</td>\n",
       "      <td>20024</td>\n",
       "      <td>CENTRAL PENINSULA GENERAL HOSPITAL</td>\n",
       "      <td>250 HOSPITAL PLACE</td>\n",
       "      <td>SOLDOTNA</td>\n",
       "      <td>AK</td>\n",
       "      <td>99669</td>\n",
       "      <td>AK - Anchorage</td>\n",
       "      <td>994</td>\n",
       "      <td>149.589749</td>\n",
       "      <td>36.623853</td>\n",
       "    </tr>\n",
       "    <tr>\n",
       "      <th>424</th>\n",
       "      <td>0013 - Level II Debridement &amp; Destruction</td>\n",
       "      <td>50334</td>\n",
       "      <td>SALINAS VALLEY MEMORIAL HOSPITAL</td>\n",
       "      <td>450 EAST ROMIE LANE</td>\n",
       "      <td>SALINAS</td>\n",
       "      <td>CA</td>\n",
       "      <td>93901</td>\n",
       "      <td>CA - Salinas</td>\n",
       "      <td>20</td>\n",
       "      <td>235.417500</td>\n",
       "      <td>85.930000</td>\n",
       "    </tr>\n",
       "    <tr>\n",
       "      <th>1874</th>\n",
       "      <td>0015 - Level III Debridement &amp; Destruction</td>\n",
       "      <td>50153</td>\n",
       "      <td>O'CONNOR HOSPITAL</td>\n",
       "      <td>2105 FOREST AVENUE</td>\n",
       "      <td>SAN JOSE</td>\n",
       "      <td>CA</td>\n",
       "      <td>95128</td>\n",
       "      <td>CA - San Jose</td>\n",
       "      <td>329</td>\n",
       "      <td>685.188450</td>\n",
       "      <td>142.186505</td>\n",
       "    </tr>\n",
       "    <tr>\n",
       "      <th>3322</th>\n",
       "      <td>0019 - Level I Excision/ Biopsy</td>\n",
       "      <td>50002</td>\n",
       "      <td>ST ROSE HOSPITAL</td>\n",
       "      <td>27200 CALAROGA AVE</td>\n",
       "      <td>HAYWARD</td>\n",
       "      <td>CA</td>\n",
       "      <td>94545</td>\n",
       "      <td>CA - Alameda County</td>\n",
       "      <td>16</td>\n",
       "      <td>8766.475000</td>\n",
       "      <td>470.720000</td>\n",
       "    </tr>\n",
       "    <tr>\n",
       "      <th>3837</th>\n",
       "      <td>0020 - Level II Excision/ Biopsy</td>\n",
       "      <td>50153</td>\n",
       "      <td>O'CONNOR HOSPITAL</td>\n",
       "      <td>2105 FOREST AVENUE</td>\n",
       "      <td>SAN JOSE</td>\n",
       "      <td>CA</td>\n",
       "      <td>95128</td>\n",
       "      <td>CA - San Jose</td>\n",
       "      <td>96</td>\n",
       "      <td>3418.156250</td>\n",
       "      <td>808.850000</td>\n",
       "    </tr>\n",
       "  </tbody>\n",
       "</table>\n",
       "</div>"
      ],
      "text/plain": [
       "                                             APC  Provider Id  \\\n",
       "1       0012 - Level I Debridement & Destruction        20024   \n",
       "424    0013 - Level II Debridement & Destruction        50334   \n",
       "1874  0015 - Level III Debridement & Destruction        50153   \n",
       "3322             0019 - Level I Excision/ Biopsy        50002   \n",
       "3837            0020 - Level II Excision/ Biopsy        50153   \n",
       "\n",
       "                           Provider Name Provider Street Address  \\\n",
       "1     CENTRAL PENINSULA GENERAL HOSPITAL      250 HOSPITAL PLACE   \n",
       "424     SALINAS VALLEY MEMORIAL HOSPITAL     450 EAST ROMIE LANE   \n",
       "1874                   O'CONNOR HOSPITAL      2105 FOREST AVENUE   \n",
       "3322                    ST ROSE HOSPITAL      27200 CALAROGA AVE   \n",
       "3837                   O'CONNOR HOSPITAL      2105 FOREST AVENUE   \n",
       "\n",
       "     Provider City Provider State  Provider Zip Code  \\\n",
       "1         SOLDOTNA             AK              99669   \n",
       "424        SALINAS             CA              93901   \n",
       "1874      SAN JOSE             CA              95128   \n",
       "3322       HAYWARD             CA              94545   \n",
       "3837      SAN JOSE             CA              95128   \n",
       "\n",
       "     Hospital Referral Region (HRR) Description  Outpatient Services  \\\n",
       "1                                AK - Anchorage                  994   \n",
       "424                                CA - Salinas                   20   \n",
       "1874                              CA - San Jose                  329   \n",
       "3322                        CA - Alameda County                   16   \n",
       "3837                              CA - San Jose                   96   \n",
       "\n",
       "      Average  Estimated Submitted Charges  Average Total Payments  \n",
       "1                               149.589749               36.623853  \n",
       "424                             235.417500               85.930000  \n",
       "1874                            685.188450              142.186505  \n",
       "3322                           8766.475000              470.720000  \n",
       "3837                           3418.156250              808.850000  "
      ]
     },
     "execution_count": 9,
     "metadata": {},
     "output_type": "execute_result"
    }
   ],
   "source": [
    "cost_claim1 = pro_outpatient.loc[pro_outpatient.groupby(['APC','Provider Id'])['Average Total Payments'].idxmax()].reset_index(drop=True)\n",
    "highest_cost_claim1 = cost_claim1.loc[cost_claim1.groupby(['APC'])['Average Total Payments'].idxmax()].head()\n",
    "highest_cost_claim1"
   ]
  },
  {
   "cell_type": "code",
   "execution_count": 10,
   "metadata": {},
   "outputs": [
    {
     "data": {
      "text/plain": [
       "array([<matplotlib.axes._subplots.AxesSubplot object at 0x000002A4C5A9B248>],\n",
       "      dtype=object)"
      ]
     },
     "execution_count": 10,
     "metadata": {},
     "output_type": "execute_result"
    },
    {
     "data": {
      "image/png": "[encoded data removed]",
      "text/plain": [
       "<Figure size 432x288 with 1 Axes>"
      ]
     },
     "metadata": {},
     "output_type": "display_data"
    }
   ],
   "source": [
    "highest_cost_claim1['Average Total Payments'].plot(kind='pie', \n",
    "            labels=highest_cost_claim1[\"Provider Name\"],\n",
    "            autopct='%1.0f%%', # to get percentage and round off appropriately\n",
    "            fontsize=10, \n",
    "            subplots='true')"
   ]
  },
  {
   "cell_type": "markdown",
   "metadata": {},
   "source": [
    "#### For Out-patients Highest-Cost Claims are by O'CONNOR HOSPITAL (52%) and ST ROSE HOSPITAL (30%)."
   ]
  },
  {
   "cell_type": "markdown",
   "metadata": {},
   "source": [
    "#### Part1C: Highest-Cost Claims by Region - Inpatient\n"
   ]
  },
  {
   "cell_type": "code",
   "execution_count": 11,
   "metadata": {},
   "outputs": [
    {
     "data": {
      "text/html": [
       "<div>\n",
       "<style scoped>\n",
       "    .dataframe tbody tr th:only-of-type {\n",
       "        vertical-align: middle;\n",
       "    }\n",
       "\n",
       "    .dataframe tbody tr th {\n",
       "        vertical-align: top;\n",
       "    }\n",
       "\n",
       "    .dataframe thead th {\n",
       "        text-align: right;\n",
       "    }\n",
       "</style>\n",
       "<table border=\"1\" class=\"dataframe\">\n",
       "  <thead>\n",
       "    <tr style=\"text-align: right;\">\n",
       "      <th></th>\n",
       "      <th>DRG Definition</th>\n",
       "      <th>Provider Id</th>\n",
       "      <th>Provider Name</th>\n",
       "      <th>Provider Street Address</th>\n",
       "      <th>Provider City</th>\n",
       "      <th>Provider State</th>\n",
       "      <th>Provider Zip Code</th>\n",
       "      <th>Hospital Referral Region (HRR) Description</th>\n",
       "      <th>Total Discharges</th>\n",
       "      <th>Average Covered Charges</th>\n",
       "      <th>Average Total Payments</th>\n",
       "      <th>Average Medicare Payments</th>\n",
       "    </tr>\n",
       "  </thead>\n",
       "  <tbody>\n",
       "    <tr>\n",
       "      <th>20</th>\n",
       "      <td>039 - EXTRACRANIAL PROCEDURES W/O CC/MCC</td>\n",
       "      <td>210029</td>\n",
       "      <td>JOHNS HOPKINS BAYVIEW MEDICAL CENTER</td>\n",
       "      <td>4940 EASTERN AVENUE</td>\n",
       "      <td>BALTIMORE</td>\n",
       "      <td>MD</td>\n",
       "      <td>21224</td>\n",
       "      <td>MD - Baltimore</td>\n",
       "      <td>11</td>\n",
       "      <td>17955.63636</td>\n",
       "      <td>16878.45455</td>\n",
       "      <td>15855.18182</td>\n",
       "    </tr>\n",
       "    <tr>\n",
       "      <th>71</th>\n",
       "      <td>057 - DEGENERATIVE NERVOUS SYSTEM DISORDERS W/...</td>\n",
       "      <td>210009</td>\n",
       "      <td>JOHNS HOPKINS HOSPITAL, THE</td>\n",
       "      <td>600 NORTH  WOLFE STREET</td>\n",
       "      <td>BALTIMORE</td>\n",
       "      <td>MD</td>\n",
       "      <td>21287</td>\n",
       "      <td>MD - Baltimore</td>\n",
       "      <td>83</td>\n",
       "      <td>26402.79518</td>\n",
       "      <td>24865.61446</td>\n",
       "      <td>22873.49398</td>\n",
       "    </tr>\n",
       "    <tr>\n",
       "      <th>122</th>\n",
       "      <td>064 - INTRACRANIAL HEMORRHAGE OR CEREBRAL INFA...</td>\n",
       "      <td>210009</td>\n",
       "      <td>JOHNS HOPKINS HOSPITAL, THE</td>\n",
       "      <td>600 NORTH  WOLFE STREET</td>\n",
       "      <td>BALTIMORE</td>\n",
       "      <td>MD</td>\n",
       "      <td>21287</td>\n",
       "      <td>MD - Baltimore</td>\n",
       "      <td>64</td>\n",
       "      <td>54052.21875</td>\n",
       "      <td>50882.40625</td>\n",
       "      <td>48632.28125</td>\n",
       "    </tr>\n",
       "    <tr>\n",
       "      <th>157</th>\n",
       "      <td>065 - INTRACRANIAL HEMORRHAGE OR CEREBRAL INFA...</td>\n",
       "      <td>50228</td>\n",
       "      <td>SAN FRANCISCO GENERAL HOSPITAL</td>\n",
       "      <td>1001 POTRERO AVENUE</td>\n",
       "      <td>SAN FRANCISCO</td>\n",
       "      <td>CA</td>\n",
       "      <td>94110</td>\n",
       "      <td>CA - San Francisco</td>\n",
       "      <td>19</td>\n",
       "      <td>111618.15790</td>\n",
       "      <td>24352.05263</td>\n",
       "      <td>23402.26316</td>\n",
       "    </tr>\n",
       "    <tr>\n",
       "      <th>208</th>\n",
       "      <td>066 - INTRACRANIAL HEMORRHAGE OR CEREBRAL INFA...</td>\n",
       "      <td>50228</td>\n",
       "      <td>SAN FRANCISCO GENERAL HOSPITAL</td>\n",
       "      <td>1001 POTRERO AVENUE</td>\n",
       "      <td>SAN FRANCISCO</td>\n",
       "      <td>CA</td>\n",
       "      <td>94110</td>\n",
       "      <td>CA - San Francisco</td>\n",
       "      <td>34</td>\n",
       "      <td>77093.05882</td>\n",
       "      <td>14744.05882</td>\n",
       "      <td>13710.23529</td>\n",
       "    </tr>\n",
       "  </tbody>\n",
       "</table>\n",
       "</div>"
      ],
      "text/plain": [
       "                                        DRG Definition  Provider Id  \\\n",
       "20            039 - EXTRACRANIAL PROCEDURES W/O CC/MCC       210029   \n",
       "71   057 - DEGENERATIVE NERVOUS SYSTEM DISORDERS W/...       210009   \n",
       "122  064 - INTRACRANIAL HEMORRHAGE OR CEREBRAL INFA...       210009   \n",
       "157  065 - INTRACRANIAL HEMORRHAGE OR CEREBRAL INFA...        50228   \n",
       "208  066 - INTRACRANIAL HEMORRHAGE OR CEREBRAL INFA...        50228   \n",
       "\n",
       "                            Provider Name  Provider Street Address  \\\n",
       "20   JOHNS HOPKINS BAYVIEW MEDICAL CENTER      4940 EASTERN AVENUE   \n",
       "71            JOHNS HOPKINS HOSPITAL, THE  600 NORTH  WOLFE STREET   \n",
       "122           JOHNS HOPKINS HOSPITAL, THE  600 NORTH  WOLFE STREET   \n",
       "157        SAN FRANCISCO GENERAL HOSPITAL      1001 POTRERO AVENUE   \n",
       "208        SAN FRANCISCO GENERAL HOSPITAL      1001 POTRERO AVENUE   \n",
       "\n",
       "     Provider City Provider State  Provider Zip Code  \\\n",
       "20       BALTIMORE             MD              21224   \n",
       "71       BALTIMORE             MD              21287   \n",
       "122      BALTIMORE             MD              21287   \n",
       "157  SAN FRANCISCO             CA              94110   \n",
       "208  SAN FRANCISCO             CA              94110   \n",
       "\n",
       "    Hospital Referral Region (HRR) Description  Total Discharges  \\\n",
       "20                              MD - Baltimore                11   \n",
       "71                              MD - Baltimore                83   \n",
       "122                             MD - Baltimore                64   \n",
       "157                         CA - San Francisco                19   \n",
       "208                         CA - San Francisco                34   \n",
       "\n",
       "     Average Covered Charges  Average Total Payments  \\\n",
       "20               17955.63636             16878.45455   \n",
       "71               26402.79518             24865.61446   \n",
       "122              54052.21875             50882.40625   \n",
       "157             111618.15790             24352.05263   \n",
       "208              77093.05882             14744.05882   \n",
       "\n",
       "     Average Medicare Payments  \n",
       "20                 15855.18182  \n",
       "71                 22873.49398  \n",
       "122                48632.28125  \n",
       "157                23402.26316  \n",
       "208                13710.23529  "
      ]
     },
     "execution_count": 11,
     "metadata": {},
     "output_type": "execute_result"
    }
   ],
   "source": [
    "cost_claim2 = pro_inpatient.loc[pro_inpatient.groupby(['DRG Definition','Provider State'])['Average Medicare Payments'].idxmax()].reset_index(drop=True)\n",
    "highest_cost_claim2 = cost_claim2.loc[cost_claim2.groupby(['DRG Definition'])['Average Medicare Payments'].idxmax()].head()\n",
    "highest_cost_claim2"
   ]
  },
  {
   "cell_type": "code",
   "execution_count": 12,
   "metadata": {},
   "outputs": [
    {
     "data": {
      "text/plain": [
       "array([<matplotlib.axes._subplots.AxesSubplot object at 0x000002A4C50977C8>],\n",
       "      dtype=object)"
      ]
     },
     "execution_count": 12,
     "metadata": {},
     "output_type": "execute_result"
    },
    {
     "data": {
      "image/png": "[encoded data removed]",
      "text/plain": [
       "<Figure size 432x288 with 1 Axes>"
      ]
     },
     "metadata": {},
     "output_type": "display_data"
    }
   ],
   "source": [
    "highest_cost_claim2['Average Medicare Payments'].plot(kind='pie', \n",
    "            labels=highest_cost_claim2[\"Hospital Referral Region (HRR) Description\"],\n",
    "            autopct='%1.0f%%', # to get percentage and round off appropriately\n",
    "            fontsize=10, \n",
    "            subplots='true')"
   ]
  },
  {
   "cell_type": "markdown",
   "metadata": {},
   "source": [
    "#### For In-patients, MD - Baltimore and CA - San Francisco are the regions with highest Cost claims."
   ]
  },
  {
   "cell_type": "markdown",
   "metadata": {},
   "source": [
    "#### Part1C: Highest-Cost Claims by Region - Outpatient"
   ]
  },
  {
   "cell_type": "code",
   "execution_count": 13,
   "metadata": {},
   "outputs": [
    {
     "data": {
      "text/html": [
       "<div>\n",
       "<style scoped>\n",
       "    .dataframe tbody tr th:only-of-type {\n",
       "        vertical-align: middle;\n",
       "    }\n",
       "\n",
       "    .dataframe tbody tr th {\n",
       "        vertical-align: top;\n",
       "    }\n",
       "\n",
       "    .dataframe thead th {\n",
       "        text-align: right;\n",
       "    }\n",
       "</style>\n",
       "<table border=\"1\" class=\"dataframe\">\n",
       "  <thead>\n",
       "    <tr style=\"text-align: right;\">\n",
       "      <th></th>\n",
       "      <th>APC</th>\n",
       "      <th>Provider Id</th>\n",
       "      <th>Provider Name</th>\n",
       "      <th>Provider Street Address</th>\n",
       "      <th>Provider City</th>\n",
       "      <th>Provider State</th>\n",
       "      <th>Provider Zip Code</th>\n",
       "      <th>Hospital Referral Region (HRR) Description</th>\n",
       "      <th>Outpatient Services</th>\n",
       "      <th>Average  Estimated Submitted Charges</th>\n",
       "      <th>Average Total Payments</th>\n",
       "    </tr>\n",
       "  </thead>\n",
       "  <tbody>\n",
       "    <tr>\n",
       "      <th>0</th>\n",
       "      <td>0012 - Level I Debridement &amp; Destruction</td>\n",
       "      <td>20024</td>\n",
       "      <td>CENTRAL PENINSULA GENERAL HOSPITAL</td>\n",
       "      <td>250 HOSPITAL PLACE</td>\n",
       "      <td>SOLDOTNA</td>\n",
       "      <td>AK</td>\n",
       "      <td>99669</td>\n",
       "      <td>AK - Anchorage</td>\n",
       "      <td>994</td>\n",
       "      <td>149.589749</td>\n",
       "      <td>36.623853</td>\n",
       "    </tr>\n",
       "    <tr>\n",
       "      <th>51</th>\n",
       "      <td>0013 - Level II Debridement &amp; Destruction</td>\n",
       "      <td>50334</td>\n",
       "      <td>SALINAS VALLEY MEMORIAL HOSPITAL</td>\n",
       "      <td>450 EAST ROMIE LANE</td>\n",
       "      <td>SALINAS</td>\n",
       "      <td>CA</td>\n",
       "      <td>93901</td>\n",
       "      <td>CA - Salinas</td>\n",
       "      <td>20</td>\n",
       "      <td>235.417500</td>\n",
       "      <td>85.930000</td>\n",
       "    </tr>\n",
       "    <tr>\n",
       "      <th>101</th>\n",
       "      <td>0015 - Level III Debridement &amp; Destruction</td>\n",
       "      <td>50153</td>\n",
       "      <td>O'CONNOR HOSPITAL</td>\n",
       "      <td>2105 FOREST AVENUE</td>\n",
       "      <td>SAN JOSE</td>\n",
       "      <td>CA</td>\n",
       "      <td>95128</td>\n",
       "      <td>CA - San Jose</td>\n",
       "      <td>329</td>\n",
       "      <td>685.188450</td>\n",
       "      <td>142.186505</td>\n",
       "    </tr>\n",
       "    <tr>\n",
       "      <th>150</th>\n",
       "      <td>0019 - Level I Excision/ Biopsy</td>\n",
       "      <td>50002</td>\n",
       "      <td>ST ROSE HOSPITAL</td>\n",
       "      <td>27200 CALAROGA AVE</td>\n",
       "      <td>HAYWARD</td>\n",
       "      <td>CA</td>\n",
       "      <td>94545</td>\n",
       "      <td>CA - Alameda County</td>\n",
       "      <td>16</td>\n",
       "      <td>8766.475000</td>\n",
       "      <td>470.720000</td>\n",
       "    </tr>\n",
       "    <tr>\n",
       "      <th>194</th>\n",
       "      <td>0020 - Level II Excision/ Biopsy</td>\n",
       "      <td>50153</td>\n",
       "      <td>O'CONNOR HOSPITAL</td>\n",
       "      <td>2105 FOREST AVENUE</td>\n",
       "      <td>SAN JOSE</td>\n",
       "      <td>CA</td>\n",
       "      <td>95128</td>\n",
       "      <td>CA - San Jose</td>\n",
       "      <td>96</td>\n",
       "      <td>3418.156250</td>\n",
       "      <td>808.850000</td>\n",
       "    </tr>\n",
       "  </tbody>\n",
       "</table>\n",
       "</div>"
      ],
      "text/plain": [
       "                                            APC  Provider Id  \\\n",
       "0      0012 - Level I Debridement & Destruction        20024   \n",
       "51    0013 - Level II Debridement & Destruction        50334   \n",
       "101  0015 - Level III Debridement & Destruction        50153   \n",
       "150             0019 - Level I Excision/ Biopsy        50002   \n",
       "194            0020 - Level II Excision/ Biopsy        50153   \n",
       "\n",
       "                          Provider Name Provider Street Address Provider City  \\\n",
       "0    CENTRAL PENINSULA GENERAL HOSPITAL      250 HOSPITAL PLACE      SOLDOTNA   \n",
       "51     SALINAS VALLEY MEMORIAL HOSPITAL     450 EAST ROMIE LANE       SALINAS   \n",
       "101                   O'CONNOR HOSPITAL      2105 FOREST AVENUE      SAN JOSE   \n",
       "150                    ST ROSE HOSPITAL      27200 CALAROGA AVE       HAYWARD   \n",
       "194                   O'CONNOR HOSPITAL      2105 FOREST AVENUE      SAN JOSE   \n",
       "\n",
       "    Provider State  Provider Zip Code  \\\n",
       "0               AK              99669   \n",
       "51              CA              93901   \n",
       "101             CA              95128   \n",
       "150             CA              94545   \n",
       "194             CA              95128   \n",
       "\n",
       "    Hospital Referral Region (HRR) Description  Outpatient Services  \\\n",
       "0                               AK - Anchorage                  994   \n",
       "51                                CA - Salinas                   20   \n",
       "101                              CA - San Jose                  329   \n",
       "150                        CA - Alameda County                   16   \n",
       "194                              CA - San Jose                   96   \n",
       "\n",
       "     Average  Estimated Submitted Charges  Average Total Payments  \n",
       "0                              149.589749               36.623853  \n",
       "51                             235.417500               85.930000  \n",
       "101                            685.188450              142.186505  \n",
       "150                           8766.475000              470.720000  \n",
       "194                           3418.156250              808.850000  "
      ]
     },
     "execution_count": 13,
     "metadata": {},
     "output_type": "execute_result"
    }
   ],
   "source": [
    "cost_claim3 = pro_outpatient.loc[pro_outpatient.groupby(['APC','Provider State'])['Average Total Payments'].idxmax()].reset_index(drop=True)\n",
    "highest_cost_claim3 = cost_claim3.loc[cost_claim3.groupby(['APC'])['Average Total Payments'].idxmax()].head()\n",
    "highest_cost_claim3"
   ]
  },
  {
   "cell_type": "code",
   "execution_count": 14,
   "metadata": {},
   "outputs": [
    {
     "data": {
      "text/plain": [
       "array([<matplotlib.axes._subplots.AxesSubplot object at 0x000002A4C5747348>],\n",
       "      dtype=object)"
      ]
     },
     "execution_count": 14,
     "metadata": {},
     "output_type": "execute_result"
    },
    {
     "data": {
      "image/png": "[encoded data removed]",
      "text/plain": [
       "<Figure size 432x288 with 1 Axes>"
      ]
     },
     "metadata": {},
     "output_type": "display_data"
    }
   ],
   "source": [
    "highest_cost_claim3['Average Total Payments'].plot(kind='pie', \n",
    "            labels=highest_cost_claim3[\"Hospital Referral Region (HRR) Description\"],\n",
    "            autopct='%1.0f%%', # to get percentage and round off appropriately\n",
    "            fontsize=10, \n",
    "            subplots='true')"
   ]
  },
  {
   "cell_type": "markdown",
   "metadata": {},
   "source": [
    "#### For Out-patients, CA - San Jose and CA - Alameda County are the regions with highest Cost claims."
   ]
  },
  {
   "cell_type": "markdown",
   "metadata": {},
   "source": [
    "#### Part1D: Highest Number of Procedures and Largest Differences between Claims and Reimbursements - inpatient"
   ]
  },
  {
   "cell_type": "code",
   "execution_count": 15,
   "metadata": {},
   "outputs": [
    {
     "data": {
      "text/html": [
       "<div>\n",
       "<style scoped>\n",
       "    .dataframe tbody tr th:only-of-type {\n",
       "        vertical-align: middle;\n",
       "    }\n",
       "\n",
       "    .dataframe tbody tr th {\n",
       "        vertical-align: top;\n",
       "    }\n",
       "\n",
       "    .dataframe thead th {\n",
       "        text-align: right;\n",
       "    }\n",
       "</style>\n",
       "<table border=\"1\" class=\"dataframe\">\n",
       "  <thead>\n",
       "    <tr style=\"text-align: right;\">\n",
       "      <th></th>\n",
       "      <th>DRG Definition</th>\n",
       "      <th>Provider Id</th>\n",
       "      <th>Provider Name</th>\n",
       "      <th>Provider Street Address</th>\n",
       "      <th>Provider City</th>\n",
       "      <th>Provider State</th>\n",
       "      <th>Provider Zip Code</th>\n",
       "      <th>Hospital Referral Region (HRR) Description</th>\n",
       "      <th>Total Discharges</th>\n",
       "      <th>Average Covered Charges</th>\n",
       "      <th>Average Total Payments</th>\n",
       "      <th>Average Medicare Payments</th>\n",
       "      <th>proc</th>\n",
       "    </tr>\n",
       "  </thead>\n",
       "  <tbody>\n",
       "    <tr>\n",
       "      <th>14</th>\n",
       "      <td>039 - EXTRACRANIAL PROCEDURES W/O CC/MCC</td>\n",
       "      <td>140008</td>\n",
       "      <td>LOYOLA GOTTLIEB MEMORIAL HOSPITAL</td>\n",
       "      <td>701 WEST NORTH AVE</td>\n",
       "      <td>MELROSE PARK</td>\n",
       "      <td>IL</td>\n",
       "      <td>60160</td>\n",
       "      <td>IL - Melrose Park</td>\n",
       "      <td>16</td>\n",
       "      <td>56027.00000</td>\n",
       "      <td>18420.562500</td>\n",
       "      <td>4401.875000</td>\n",
       "      <td>876.167969</td>\n",
       "    </tr>\n",
       "    <tr>\n",
       "      <th>66</th>\n",
       "      <td>057 - DEGENERATIVE NERVOUS SYSTEM DISORDERS W/...</td>\n",
       "      <td>150158</td>\n",
       "      <td>IU HEALTH WEST HOSPITAL</td>\n",
       "      <td>1111 N RONALD REAGAN PKWY</td>\n",
       "      <td>AVON</td>\n",
       "      <td>IN</td>\n",
       "      <td>46123</td>\n",
       "      <td>IN - Indianapolis</td>\n",
       "      <td>13</td>\n",
       "      <td>18670.07692</td>\n",
       "      <td>7398.153846</td>\n",
       "      <td>3304.461538</td>\n",
       "      <td>314.899408</td>\n",
       "    </tr>\n",
       "    <tr>\n",
       "      <th>116</th>\n",
       "      <td>064 - INTRACRANIAL HEMORRHAGE OR CEREBRAL INFA...</td>\n",
       "      <td>140150</td>\n",
       "      <td>UNIVERSITY OF ILLINOIS HOSPITAL</td>\n",
       "      <td>1740 WEST TAYLOR ST SUITE 1400</td>\n",
       "      <td>CHICAGO</td>\n",
       "      <td>IL</td>\n",
       "      <td>60612</td>\n",
       "      <td>IL - Chicago</td>\n",
       "      <td>16</td>\n",
       "      <td>83504.31250</td>\n",
       "      <td>38370.000000</td>\n",
       "      <td>22039.375000</td>\n",
       "      <td>1020.664062</td>\n",
       "    </tr>\n",
       "    <tr>\n",
       "      <th>164</th>\n",
       "      <td>065 - INTRACRANIAL HEMORRHAGE OR CEREBRAL INFA...</td>\n",
       "      <td>120011</td>\n",
       "      <td>KAISER FOUNDATION HOSPITAL</td>\n",
       "      <td>3288 MOANALUA RD</td>\n",
       "      <td>HONOLULU</td>\n",
       "      <td>HI</td>\n",
       "      <td>96819</td>\n",
       "      <td>HI - Honolulu</td>\n",
       "      <td>12</td>\n",
       "      <td>25010.91667</td>\n",
       "      <td>21032.083330</td>\n",
       "      <td>4109.250000</td>\n",
       "      <td>1410.236111</td>\n",
       "    </tr>\n",
       "    <tr>\n",
       "      <th>235</th>\n",
       "      <td>066 - INTRACRANIAL HEMORRHAGE OR CEREBRAL INFA...</td>\n",
       "      <td>310006</td>\n",
       "      <td>ST MARY'S HOSPITAL, PASSAIC</td>\n",
       "      <td>350 BOULEVARD</td>\n",
       "      <td>PASSAIC</td>\n",
       "      <td>NJ</td>\n",
       "      <td>7055</td>\n",
       "      <td>NJ - Hackensack</td>\n",
       "      <td>11</td>\n",
       "      <td>40431.72727</td>\n",
       "      <td>9945.636364</td>\n",
       "      <td>5129.000000</td>\n",
       "      <td>437.876033</td>\n",
       "    </tr>\n",
       "  </tbody>\n",
       "</table>\n",
       "</div>"
      ],
      "text/plain": [
       "                                        DRG Definition  Provider Id  \\\n",
       "14            039 - EXTRACRANIAL PROCEDURES W/O CC/MCC       140008   \n",
       "66   057 - DEGENERATIVE NERVOUS SYSTEM DISORDERS W/...       150158   \n",
       "116  064 - INTRACRANIAL HEMORRHAGE OR CEREBRAL INFA...       140150   \n",
       "164  065 - INTRACRANIAL HEMORRHAGE OR CEREBRAL INFA...       120011   \n",
       "235  066 - INTRACRANIAL HEMORRHAGE OR CEREBRAL INFA...       310006   \n",
       "\n",
       "                         Provider Name         Provider Street Address  \\\n",
       "14   LOYOLA GOTTLIEB MEMORIAL HOSPITAL              701 WEST NORTH AVE   \n",
       "66             IU HEALTH WEST HOSPITAL       1111 N RONALD REAGAN PKWY   \n",
       "116    UNIVERSITY OF ILLINOIS HOSPITAL  1740 WEST TAYLOR ST SUITE 1400   \n",
       "164         KAISER FOUNDATION HOSPITAL                3288 MOANALUA RD   \n",
       "235        ST MARY'S HOSPITAL, PASSAIC                   350 BOULEVARD   \n",
       "\n",
       "    Provider City Provider State  Provider Zip Code  \\\n",
       "14   MELROSE PARK             IL              60160   \n",
       "66           AVON             IN              46123   \n",
       "116       CHICAGO             IL              60612   \n",
       "164      HONOLULU             HI              96819   \n",
       "235       PASSAIC             NJ               7055   \n",
       "\n",
       "    Hospital Referral Region (HRR) Description  Total Discharges  \\\n",
       "14                           IL - Melrose Park                16   \n",
       "66                           IN - Indianapolis                13   \n",
       "116                               IL - Chicago                16   \n",
       "164                              HI - Honolulu                12   \n",
       "235                            NJ - Hackensack                11   \n",
       "\n",
       "     Average Covered Charges  Average Total Payments  \\\n",
       "14               56027.00000            18420.562500   \n",
       "66               18670.07692             7398.153846   \n",
       "116              83504.31250            38370.000000   \n",
       "164              25010.91667            21032.083330   \n",
       "235              40431.72727             9945.636364   \n",
       "\n",
       "     Average Medicare Payments         proc  \n",
       "14                 4401.875000   876.167969  \n",
       "66                 3304.461538   314.899408  \n",
       "116               22039.375000  1020.664062  \n",
       "164                4109.250000  1410.236111  \n",
       "235                5129.000000   437.876033  "
      ]
     },
     "execution_count": 15,
     "metadata": {},
     "output_type": "execute_result"
    }
   ],
   "source": [
    "pro_inpatient['proc'] = (pro_inpatient['Average Total Payments'] - pro_inpatient['Average Medicare Payments']) / pro_inpatient['Total Discharges']\n",
    "max_diff = pro_inpatient.loc[pro_inpatient.groupby(['DRG Definition','Provider State'])['proc'].idxmax()].reset_index(drop=True)\n",
    "max_diff.loc[max_diff.groupby(['DRG Definition'])['proc'].idxmax()].head()"
   ]
  },
  {
   "cell_type": "markdown",
   "metadata": {},
   "source": [
    "#### The three providers who have the highest number of procedures with the largest difference between their claimed charges to patients and their reimbursement from Medicare are KAISER FOUNDATION HOSPITAL, UNIVERSITY OF ILLINOIS HOSPITAL and LOYOLA GOTTLIEB MEMORIAL HOSPITAL."
   ]
  },
  {
   "cell_type": "markdown",
   "metadata": {},
   "source": [
    "#### Part1D: Highest Number of Procedures and Largest Differences between Claims and Reimbursements - outpatient"
   ]
  },
  {
   "cell_type": "code",
   "execution_count": 16,
   "metadata": {},
   "outputs": [
    {
     "data": {
      "text/html": [
       "<div>\n",
       "<style scoped>\n",
       "    .dataframe tbody tr th:only-of-type {\n",
       "        vertical-align: middle;\n",
       "    }\n",
       "\n",
       "    .dataframe tbody tr th {\n",
       "        vertical-align: top;\n",
       "    }\n",
       "\n",
       "    .dataframe thead th {\n",
       "        text-align: right;\n",
       "    }\n",
       "</style>\n",
       "<table border=\"1\" class=\"dataframe\">\n",
       "  <thead>\n",
       "    <tr style=\"text-align: right;\">\n",
       "      <th></th>\n",
       "      <th>APC</th>\n",
       "      <th>Provider Id</th>\n",
       "      <th>Provider Name</th>\n",
       "      <th>Provider Street Address</th>\n",
       "      <th>Provider City</th>\n",
       "      <th>Provider State</th>\n",
       "      <th>Provider Zip Code</th>\n",
       "      <th>Hospital Referral Region (HRR) Description</th>\n",
       "      <th>Outpatient Services</th>\n",
       "      <th>Average  Estimated Submitted Charges</th>\n",
       "      <th>Average Total Payments</th>\n",
       "      <th>proc</th>\n",
       "    </tr>\n",
       "  </thead>\n",
       "  <tbody>\n",
       "    <tr>\n",
       "      <th>27</th>\n",
       "      <td>0012 - Level I Debridement &amp; Destruction</td>\n",
       "      <td>280129</td>\n",
       "      <td>NEBRASKA ORTHOPAEDIC HOSPITAL</td>\n",
       "      <td>2808 SOUTH 143RD PLZ</td>\n",
       "      <td>OMAHA</td>\n",
       "      <td>NE</td>\n",
       "      <td>68144</td>\n",
       "      <td>NE - Omaha</td>\n",
       "      <td>15</td>\n",
       "      <td>841.900000</td>\n",
       "      <td>14.460000</td>\n",
       "      <td>55.162667</td>\n",
       "    </tr>\n",
       "    <tr>\n",
       "      <th>48</th>\n",
       "      <td>0013 - Level II Debridement &amp; Destruction</td>\n",
       "      <td>10158</td>\n",
       "      <td>RUSSELLVILLE HOSPITAL</td>\n",
       "      <td>15155 HIGHWAY 43</td>\n",
       "      <td>RUSSELLVILLE</td>\n",
       "      <td>AL</td>\n",
       "      <td>35653</td>\n",
       "      <td>AL - Birmingham</td>\n",
       "      <td>13</td>\n",
       "      <td>5231.000000</td>\n",
       "      <td>55.600000</td>\n",
       "      <td>398.107692</td>\n",
       "    </tr>\n",
       "    <tr>\n",
       "      <th>118</th>\n",
       "      <td>0015 - Level III Debridement &amp; Destruction</td>\n",
       "      <td>230176</td>\n",
       "      <td>OAKWOOD SOUTHSHORE MEDICAL CENTER</td>\n",
       "      <td>5450 FORT STREET</td>\n",
       "      <td>TRENTON</td>\n",
       "      <td>MI</td>\n",
       "      <td>48183</td>\n",
       "      <td>MI - Dearborn</td>\n",
       "      <td>11</td>\n",
       "      <td>2661.200909</td>\n",
       "      <td>93.882727</td>\n",
       "      <td>233.392562</td>\n",
       "    </tr>\n",
       "    <tr>\n",
       "      <th>150</th>\n",
       "      <td>0019 - Level I Excision/ Biopsy</td>\n",
       "      <td>50739</td>\n",
       "      <td>CENTINELA HOSPITAL MEDICAL CENTER</td>\n",
       "      <td>555 EAST HARDY STREET</td>\n",
       "      <td>INGLEWOOD</td>\n",
       "      <td>CA</td>\n",
       "      <td>90301</td>\n",
       "      <td>CA - Los Angeles</td>\n",
       "      <td>12</td>\n",
       "      <td>26466.645000</td>\n",
       "      <td>392.840000</td>\n",
       "      <td>2172.817083</td>\n",
       "    </tr>\n",
       "    <tr>\n",
       "      <th>234</th>\n",
       "      <td>0020 - Level II Excision/ Biopsy</td>\n",
       "      <td>490112</td>\n",
       "      <td>CJW MEDICAL CENTER</td>\n",
       "      <td>1401 JOHNSTON WILLIS DRIVE</td>\n",
       "      <td>RICHMOND</td>\n",
       "      <td>VA</td>\n",
       "      <td>23235</td>\n",
       "      <td>VA - Richmond</td>\n",
       "      <td>11</td>\n",
       "      <td>15427.479090</td>\n",
       "      <td>567.060000</td>\n",
       "      <td>1350.947190</td>\n",
       "    </tr>\n",
       "  </tbody>\n",
       "</table>\n",
       "</div>"
      ],
      "text/plain": [
       "                                            APC  Provider Id  \\\n",
       "27     0012 - Level I Debridement & Destruction       280129   \n",
       "48    0013 - Level II Debridement & Destruction        10158   \n",
       "118  0015 - Level III Debridement & Destruction       230176   \n",
       "150             0019 - Level I Excision/ Biopsy        50739   \n",
       "234            0020 - Level II Excision/ Biopsy       490112   \n",
       "\n",
       "                         Provider Name     Provider Street Address  \\\n",
       "27       NEBRASKA ORTHOPAEDIC HOSPITAL        2808 SOUTH 143RD PLZ   \n",
       "48               RUSSELLVILLE HOSPITAL            15155 HIGHWAY 43   \n",
       "118  OAKWOOD SOUTHSHORE MEDICAL CENTER            5450 FORT STREET   \n",
       "150  CENTINELA HOSPITAL MEDICAL CENTER       555 EAST HARDY STREET   \n",
       "234                 CJW MEDICAL CENTER  1401 JOHNSTON WILLIS DRIVE   \n",
       "\n",
       "    Provider City Provider State  Provider Zip Code  \\\n",
       "27          OMAHA             NE              68144   \n",
       "48   RUSSELLVILLE             AL              35653   \n",
       "118       TRENTON             MI              48183   \n",
       "150     INGLEWOOD             CA              90301   \n",
       "234      RICHMOND             VA              23235   \n",
       "\n",
       "    Hospital Referral Region (HRR) Description  Outpatient Services  \\\n",
       "27                                  NE - Omaha                   15   \n",
       "48                             AL - Birmingham                   13   \n",
       "118                              MI - Dearborn                   11   \n",
       "150                           CA - Los Angeles                   12   \n",
       "234                              VA - Richmond                   11   \n",
       "\n",
       "     Average  Estimated Submitted Charges  Average Total Payments         proc  \n",
       "27                             841.900000               14.460000    55.162667  \n",
       "48                            5231.000000               55.600000   398.107692  \n",
       "118                           2661.200909               93.882727   233.392562  \n",
       "150                          26466.645000              392.840000  2172.817083  \n",
       "234                          15427.479090              567.060000  1350.947190  "
      ]
     },
     "execution_count": 16,
     "metadata": {},
     "output_type": "execute_result"
    }
   ],
   "source": [
    "pro_outpatient['proc'] = (pro_outpatient['Average  Estimated Submitted Charges'] - pro_outpatient['Average Total Payments']) / pro_outpatient['Outpatient Services']\n",
    "max_diff1 = pro_outpatient.loc[pro_outpatient.groupby(['APC','Provider State'])['proc'].idxmax()].reset_index(drop=True)\n",
    "max_diff1.loc[max_diff1.groupby(['APC'])['proc'].idxmax()].head()"
   ]
  },
  {
   "cell_type": "markdown",
   "metadata": {},
   "source": [
    "#### The three providers who have the highest number of procedures with the largest difference between their claimed charges to patients and their reimbursement from Medicare are CENTINELA HOSPITAL MEDICAL CENTER, CJW MEDICAL CENTER and RUSSELLVILLE HOSPITAL."
   ]
  },
  {
   "cell_type": "markdown",
   "metadata": {},
   "source": [
    "#### Part2: Identify the three providers that are least similar to other providers and the three regions that are least similar to other regions.\n",
    "\n",
    "#### Part2A: Providers Least Like Others - inpatient\n"
   ]
  },
  {
   "cell_type": "code",
   "execution_count": 17,
   "metadata": {},
   "outputs": [],
   "source": [
    "part2a_in = pro_inpatient[['Provider Id', 'Average Medicare Payments']].groupby('Provider Id').mean().reset_index()"
   ]
  },
  {
   "cell_type": "code",
   "execution_count": 18,
   "metadata": {},
   "outputs": [
    {
     "data": {
      "image/png": "[encoded data removed]",
      "text/plain": [
       "<Figure size 432x288 with 1 Axes>"
      ]
     },
     "metadata": {
      "needs_background": "light"
     },
     "output_type": "display_data"
    }
   ],
   "source": [
    "part2a_in.plot(kind = 'scatter', y = 'Provider Id', x = 'Average Medicare Payments')\n",
    "plt.show()"
   ]
  },
  {
   "cell_type": "code",
   "execution_count": 19,
   "metadata": {},
   "outputs": [
    {
     "name": "stdout",
     "output_type": "stream",
     "text": [
      "3206.8280313745836\n"
     ]
    }
   ],
   "source": [
    "Q1a = part2a_in['Average Medicare Payments'].quantile(0.25)\n",
    "Q3a = part2a_in['Average Medicare Payments'].quantile(0.75)\n",
    "IQRa = Q3a - Q1a\n",
    "print(IQRa)"
   ]
  },
  {
   "cell_type": "code",
   "execution_count": 20,
   "metadata": {},
   "outputs": [],
   "source": [
    "a = part2a_in [ (part2a_in['Average Medicare Payments'] < (Q1a - 1.5 * IQRa)) | (part2a_in['Average Medicare Payments'] > (Q3a + 1.5 * IQRa))].sort_values(by = 'Average Medicare Payments', ascending = False).head(3)"
   ]
  },
  {
   "cell_type": "code",
   "execution_count": 21,
   "metadata": {},
   "outputs": [
    {
     "name": "stdout",
     "output_type": "stream",
     "text": [
      "      Provider Id  Average Medicare Payments\n",
      "3143       490142               41836.888890\n",
      "540         60096               39943.173080\n",
      "1102       150166               25098.255195\n"
     ]
    }
   ],
   "source": [
    "print(a)"
   ]
  },
  {
   "cell_type": "code",
   "execution_count": 22,
   "metadata": {},
   "outputs": [
    {
     "data": {
      "image/png": "[encoded data removed]",
      "text/plain": [
       "<Figure size 432x288 with 1 Axes>"
      ]
     },
     "metadata": {
      "needs_background": "light"
     },
     "output_type": "display_data"
    }
   ],
   "source": [
    "plt.scatter(y = part2a_in['Provider Id'], x = part2a_in['Average Medicare Payments'] ,facecolors='blue')\n",
    "plt.scatter(a['Average Medicare Payments'], a['Provider Id'],color=\"red\")\n",
    "plt.show()"
   ]
  },
  {
   "cell_type": "markdown",
   "metadata": {},
   "source": [
    "#### 3 Providers Least Like Others - inpatient are 490142, 60096, 150166."
   ]
  },
  {
   "cell_type": "markdown",
   "metadata": {},
   "source": [
    "#### Part2A: Providers Least Like Others - Outpatient"
   ]
  },
  {
   "cell_type": "code",
   "execution_count": 23,
   "metadata": {},
   "outputs": [
    {
     "data": {
      "image/png": "[encoded data removed]",
      "text/plain": [
       "<Figure size 432x288 with 1 Axes>"
      ]
     },
     "metadata": {
      "needs_background": "light"
     },
     "output_type": "display_data"
    }
   ],
   "source": [
    "part2a_out = pro_outpatient[['Provider Id', 'Average Total Payments']].groupby('Provider Id').mean().reset_index()\n",
    "part2a_out.plot(kind = 'scatter', y = 'Provider Id', x = 'Average Total Payments')\n",
    "plt.show()"
   ]
  },
  {
   "cell_type": "code",
   "execution_count": 24,
   "metadata": {},
   "outputs": [
    {
     "name": "stdout",
     "output_type": "stream",
     "text": [
      "69.58679011639651\n"
     ]
    }
   ],
   "source": [
    "Q1b = part2a_out['Average Total Payments'].quantile(0.25)\n",
    "Q3b = part2a_out['Average Total Payments'].quantile(0.75)\n",
    "IQRb = Q3b - Q1b\n",
    "print(IQRb)"
   ]
  },
  {
   "cell_type": "code",
   "execution_count": 25,
   "metadata": {},
   "outputs": [
    {
     "name": "stdout",
     "output_type": "stream",
     "text": [
      "      Provider Id  Average Total Payments\n",
      "432         50714              960.595632\n",
      "3134       670061              712.396480\n",
      "1474       240069              629.085289\n"
     ]
    }
   ],
   "source": [
    "b = part2a_out [(part2a_out['Average Total Payments'] < (Q1b - 1.5 * IQRb)) | (part2a_out['Average Total Payments'] > (Q3b + 1.5 * IQRb))].sort_values('Average Total Payments', ascending = False).head(3)\n",
    "print(b)"
   ]
  },
  {
   "cell_type": "code",
   "execution_count": 26,
   "metadata": {},
   "outputs": [
    {
     "data": {
      "image/png": "[encoded data removed]",
      "text/plain": [
       "<Figure size 432x288 with 1 Axes>"
      ]
     },
     "metadata": {
      "needs_background": "light"
     },
     "output_type": "display_data"
    }
   ],
   "source": [
    "plt.scatter(y = part2a_out['Provider Id'], x = part2a_out['Average Total Payments'] ,facecolors='blue')\n",
    "plt.scatter(b['Average Total Payments'], b['Provider Id'],color=\"red\")\n",
    "plt.show()"
   ]
  },
  {
   "cell_type": "markdown",
   "metadata": {},
   "source": [
    "####  3 Providers Least Like Others - inpatient are 50714, 670061, 240069."
   ]
  },
  {
   "cell_type": "markdown",
   "metadata": {},
   "source": [
    "#### Part2B: Regions Least Like Others - inpatient"
   ]
  },
  {
   "cell_type": "code",
   "execution_count": 27,
   "metadata": {},
   "outputs": [],
   "source": [
    "part2b_in = pro_inpatient[['Provider State', 'Provider City', 'Average Medicare Payments']].groupby(['Provider City', 'Provider State']).mean().reset_index()"
   ]
  },
  {
   "cell_type": "code",
   "execution_count": 28,
   "metadata": {},
   "outputs": [
    {
     "data": {
      "image/png": "[encoded data removed]",
      "text/plain": [
       "<Figure size 432x288 with 1 Axes>"
      ]
     },
     "metadata": {
      "needs_background": "light"
     },
     "output_type": "display_data"
    }
   ],
   "source": [
    "part2b_in['State_col'] = part2b_in.index\n",
    "part2b_in.plot(kind = 'scatter', y = 'State_col', x = 'Average Medicare Payments')\n",
    "plt.show()"
   ]
  },
  {
   "cell_type": "code",
   "execution_count": 29,
   "metadata": {},
   "outputs": [
    {
     "name": "stdout",
     "output_type": "stream",
     "text": [
      "2759.422688730803\n"
     ]
    }
   ],
   "source": [
    "Q1c = part2b_in['Average Medicare Payments'].quantile(0.25)\n",
    "Q3c = part2b_in['Average Medicare Payments'].quantile(0.75)\n",
    "IQRc = Q3c - Q1c\n",
    "print(IQRc)"
   ]
  },
  {
   "cell_type": "code",
   "execution_count": 30,
   "metadata": {},
   "outputs": [
    {
     "name": "stdout",
     "output_type": "stream",
     "text": [
      "     Provider City Provider State  Average Medicare Payments  State_col\n",
      "2211          VAIL             CO               39943.173080       2211\n",
      "1257     LOS BANOS             CA               24755.286045       1257\n",
      "1038       JACKSON             WY               24350.493057       1038\n"
     ]
    }
   ],
   "source": [
    "a1 = part2b_in [(part2b_in['Average Medicare Payments'] < (Q1c - 1.5 * IQRc)) | (part2b_in['Average Medicare Payments'] > (Q3c + 1.5 * IQRc))].sort_values('Average Medicare Payments', ascending = False).head(3)\n",
    "print(a1)"
   ]
  },
  {
   "cell_type": "code",
   "execution_count": 31,
   "metadata": {},
   "outputs": [
    {
     "data": {
      "image/png": "[encoded data removed]",
      "text/plain": [
       "<Figure size 432x288 with 1 Axes>"
      ]
     },
     "metadata": {
      "needs_background": "light"
     },
     "output_type": "display_data"
    }
   ],
   "source": [
    "plt.scatter(y = part2b_in['State_col'], x = part2b_in['Average Medicare Payments'] ,facecolors='blue')\n",
    "plt.scatter(a1['Average Medicare Payments'], a1['State_col'],color=\"red\")\n",
    "plt.show()"
   ]
  },
  {
   "cell_type": "markdown",
   "metadata": {},
   "source": [
    "#### 3 Regions Least Like Others - inpatient - are Vail, CO; Los Banos, DC and Jackson, WY."
   ]
  },
  {
   "cell_type": "markdown",
   "metadata": {},
   "source": [
    "#### Part2B: Regions Least Like Others - outpatient"
   ]
  },
  {
   "cell_type": "code",
   "execution_count": 32,
   "metadata": {},
   "outputs": [
    {
     "data": {
      "text/plain": [
       "<matplotlib.axes._subplots.AxesSubplot at 0x2a4c5a64148>"
      ]
     },
     "execution_count": 32,
     "metadata": {},
     "output_type": "execute_result"
    },
    {
     "data": {
      "image/png": "[encoded data removed]",
      "text/plain": [
       "<Figure size 432x288 with 1 Axes>"
      ]
     },
     "metadata": {
      "needs_background": "light"
     },
     "output_type": "display_data"
    }
   ],
   "source": [
    "part2b_out = pro_outpatient[['Provider State','Average Total Payments']].groupby('Provider State').mean().reset_index()\n",
    "\n",
    "part2b_out['State_col'] = part2b_out.index\n",
    "part2b_out.plot(kind = 'scatter', y = 'State_col', x = 'Average Total Payments')"
   ]
  },
  {
   "cell_type": "code",
   "execution_count": 33,
   "metadata": {},
   "outputs": [
    {
     "name": "stdout",
     "output_type": "stream",
     "text": [
      "28.30917453857643\n"
     ]
    }
   ],
   "source": [
    "Q1d = part2b_out['Average Total Payments'].quantile(0.25)\n",
    "Q3d = part2b_out['Average Total Payments'].quantile(0.75)\n",
    "IQRd = Q3d - Q1d\n",
    "print(IQRd)"
   ]
  },
  {
   "cell_type": "code",
   "execution_count": 34,
   "metadata": {},
   "outputs": [
    {
     "name": "stdout",
     "output_type": "stream",
     "text": [
      "Empty DataFrame\n",
      "Columns: [Provider State, Average Total Payments, State_col]\n",
      "Index: []\n"
     ]
    }
   ],
   "source": [
    "b1 = part2b_out [(part2b_out['Average Total Payments'] < (Q1d - 1.5 * IQRd)) | (part2b_out['Average Total Payments'] > (Q3d + 1.5 * IQRd))].sort_values('Average Total Payments', ascending = False).head(3)\n",
    "print(b1)"
   ]
  },
  {
   "cell_type": "code",
   "execution_count": 35,
   "metadata": {},
   "outputs": [
    {
     "data": {
      "text/plain": [
       "269.11016711746424"
      ]
     },
     "execution_count": 35,
     "metadata": {},
     "output_type": "execute_result"
    }
   ],
   "source": [
    "part2b_out['Average Total Payments'].mean()"
   ]
  },
  {
   "cell_type": "code",
   "execution_count": 36,
   "metadata": {},
   "outputs": [
    {
     "data": {
      "image/png": "[encoded data removed]",
      "text/plain": [
       "<Figure size 432x288 with 1 Axes>"
      ]
     },
     "metadata": {
      "needs_background": "light"
     },
     "output_type": "display_data"
    }
   ],
   "source": [
    "plt.boxplot(part2b_out['Average Total Payments'])\n",
    "plt.show()"
   ]
  },
  {
   "cell_type": "markdown",
   "metadata": {},
   "source": [
    "#### For Outpatients - data is evenly distributed - Total payments in all regions is similar."
   ]
  },
  {
   "cell_type": "markdown",
   "metadata": {},
   "source": [
    "### Part 3: Identify 10,000 Medicare patients who are involved in anamalous activities."
   ]
  },
  {
   "cell_type": "code",
   "execution_count": 37,
   "metadata": {},
   "outputs": [
    {
     "data": {
      "text/html": [
       "<div>\n",
       "<style scoped>\n",
       "    .dataframe tbody tr th:only-of-type {\n",
       "        vertical-align: middle;\n",
       "    }\n",
       "\n",
       "    .dataframe tbody tr th {\n",
       "        vertical-align: top;\n",
       "    }\n",
       "\n",
       "    .dataframe thead th {\n",
       "        text-align: right;\n",
       "    }\n",
       "</style>\n",
       "<table border=\"1\" class=\"dataframe\">\n",
       "  <thead>\n",
       "    <tr style=\"text-align: right;\">\n",
       "      <th></th>\n",
       "      <th>id</th>\n",
       "      <th>age</th>\n",
       "      <th>gender</th>\n",
       "      <th>income</th>\n",
       "    </tr>\n",
       "  </thead>\n",
       "  <tbody>\n",
       "    <tr>\n",
       "      <th>0</th>\n",
       "      <td>306535165</td>\n",
       "      <td>65-74</td>\n",
       "      <td>F</td>\n",
       "      <td>24000-31999</td>\n",
       "    </tr>\n",
       "    <tr>\n",
       "      <th>1</th>\n",
       "      <td>742231134</td>\n",
       "      <td>65-74</td>\n",
       "      <td>F</td>\n",
       "      <td>48000+</td>\n",
       "    </tr>\n",
       "    <tr>\n",
       "      <th>2</th>\n",
       "      <td>928807201</td>\n",
       "      <td>75-84</td>\n",
       "      <td>M</td>\n",
       "      <td>24000-31999</td>\n",
       "    </tr>\n",
       "    <tr>\n",
       "      <th>3</th>\n",
       "      <td>83686538</td>\n",
       "      <td>&lt;65</td>\n",
       "      <td>F</td>\n",
       "      <td>32000-47999</td>\n",
       "    </tr>\n",
       "    <tr>\n",
       "      <th>4</th>\n",
       "      <td>755607449</td>\n",
       "      <td>65-74</td>\n",
       "      <td>F</td>\n",
       "      <td>48000+</td>\n",
       "    </tr>\n",
       "  </tbody>\n",
       "</table>\n",
       "</div>"
      ],
      "text/plain": [
       "          id    age gender       income\n",
       "0  306535165  65-74      F  24000-31999\n",
       "1  742231134  65-74      F       48000+\n",
       "2  928807201  75-84      M  24000-31999\n",
       "3   83686538    <65      F  32000-47999\n",
       "4  755607449  65-74      F       48000+"
      ]
     },
     "execution_count": 37,
     "metadata": {},
     "output_type": "execute_result"
    }
   ],
   "source": [
    "history.head()"
   ]
  },
  {
   "cell_type": "code",
   "execution_count": 38,
   "metadata": {},
   "outputs": [
    {
     "name": "stdout",
     "output_type": "stream",
     "text": [
      "<class 'pandas.core.frame.DataFrame'>\n",
      "RangeIndex: 500000 entries, 0 to 499999\n",
      "Data columns (total 4 columns):\n",
      " #   Column  Non-Null Count   Dtype \n",
      "---  ------  --------------   ----- \n",
      " 0   id      500000 non-null  int64 \n",
      " 1   age     497470 non-null  object\n",
      " 2   gender  500000 non-null  object\n",
      " 3   income  497469 non-null  object\n",
      "dtypes: int64(1), object(3)\n",
      "memory usage: 15.3+ MB\n"
     ]
    }
   ],
   "source": [
    "history.info()"
   ]
  },
  {
   "cell_type": "code",
   "execution_count": 39,
   "metadata": {},
   "outputs": [
    {
     "data": {
      "text/html": [
       "<div>\n",
       "<style scoped>\n",
       "    .dataframe tbody tr th:only-of-type {\n",
       "        vertical-align: middle;\n",
       "    }\n",
       "\n",
       "    .dataframe tbody tr th {\n",
       "        vertical-align: top;\n",
       "    }\n",
       "\n",
       "    .dataframe thead th {\n",
       "        text-align: right;\n",
       "    }\n",
       "</style>\n",
       "<table border=\"1\" class=\"dataframe\">\n",
       "  <thead>\n",
       "    <tr style=\"text-align: right;\">\n",
       "      <th></th>\n",
       "      <th>id</th>\n",
       "      <th>age</th>\n",
       "      <th>gender</th>\n",
       "      <th>income</th>\n",
       "    </tr>\n",
       "  </thead>\n",
       "  <tbody>\n",
       "    <tr>\n",
       "      <th>0</th>\n",
       "      <td>381693273</td>\n",
       "      <td>65-74</td>\n",
       "      <td>F</td>\n",
       "      <td>24000-31999</td>\n",
       "    </tr>\n",
       "    <tr>\n",
       "      <th>1</th>\n",
       "      <td>444060924</td>\n",
       "      <td>65-74</td>\n",
       "      <td>M</td>\n",
       "      <td>24000-31999</td>\n",
       "    </tr>\n",
       "    <tr>\n",
       "      <th>2</th>\n",
       "      <td>3641691</td>\n",
       "      <td>65-74</td>\n",
       "      <td>F</td>\n",
       "      <td>24000-31999</td>\n",
       "    </tr>\n",
       "    <tr>\n",
       "      <th>3</th>\n",
       "      <td>672653795</td>\n",
       "      <td>65-74</td>\n",
       "      <td>M</td>\n",
       "      <td>48000+</td>\n",
       "    </tr>\n",
       "    <tr>\n",
       "      <th>4</th>\n",
       "      <td>144916176</td>\n",
       "      <td>&lt;65</td>\n",
       "      <td>F</td>\n",
       "      <td>48000+</td>\n",
       "    </tr>\n",
       "  </tbody>\n",
       "</table>\n",
       "</div>"
      ],
      "text/plain": [
       "          id    age gender       income\n",
       "0  381693273  65-74      F  24000-31999\n",
       "1  444060924  65-74      M  24000-31999\n",
       "2    3641691  65-74      F  24000-31999\n",
       "3  672653795  65-74      M       48000+\n",
       "4  144916176    <65      F       48000+"
      ]
     },
     "execution_count": 39,
     "metadata": {},
     "output_type": "execute_result"
    }
   ],
   "source": [
    "rev_history.head()"
   ]
  },
  {
   "cell_type": "code",
   "execution_count": 40,
   "metadata": {},
   "outputs": [
    {
     "name": "stdout",
     "output_type": "stream",
     "text": [
      "<class 'pandas.core.frame.DataFrame'>\n",
      "RangeIndex: 5000 entries, 0 to 4999\n",
      "Data columns (total 4 columns):\n",
      " #   Column  Non-Null Count  Dtype \n",
      "---  ------  --------------  ----- \n",
      " 0   id      5000 non-null   int64 \n",
      " 1   age     4974 non-null   object\n",
      " 2   gender  5000 non-null   object\n",
      " 3   income  4974 non-null   object\n",
      "dtypes: int64(1), object(3)\n",
      "memory usage: 156.4+ KB\n"
     ]
    }
   ],
   "source": [
    "rev_history.info()"
   ]
  },
  {
   "cell_type": "code",
   "execution_count": 41,
   "metadata": {},
   "outputs": [
    {
     "data": {
      "text/html": [
       "<div>\n",
       "<style scoped>\n",
       "    .dataframe tbody tr th:only-of-type {\n",
       "        vertical-align: middle;\n",
       "    }\n",
       "\n",
       "    .dataframe tbody tr th {\n",
       "        vertical-align: top;\n",
       "    }\n",
       "\n",
       "    .dataframe thead th {\n",
       "        text-align: right;\n",
       "    }\n",
       "</style>\n",
       "<table border=\"1\" class=\"dataframe\">\n",
       "  <thead>\n",
       "    <tr style=\"text-align: right;\">\n",
       "      <th></th>\n",
       "      <th>id</th>\n",
       "      <th>global_proc_id</th>\n",
       "      <th>count</th>\n",
       "    </tr>\n",
       "  </thead>\n",
       "  <tbody>\n",
       "    <tr>\n",
       "      <th>0</th>\n",
       "      <td>159125</td>\n",
       "      <td>1</td>\n",
       "      <td>1</td>\n",
       "    </tr>\n",
       "    <tr>\n",
       "      <th>1</th>\n",
       "      <td>191852</td>\n",
       "      <td>1</td>\n",
       "      <td>1</td>\n",
       "    </tr>\n",
       "    <tr>\n",
       "      <th>2</th>\n",
       "      <td>321083</td>\n",
       "      <td>1</td>\n",
       "      <td>1</td>\n",
       "    </tr>\n",
       "    <tr>\n",
       "      <th>3</th>\n",
       "      <td>383037</td>\n",
       "      <td>1</td>\n",
       "      <td>1</td>\n",
       "    </tr>\n",
       "    <tr>\n",
       "      <th>4</th>\n",
       "      <td>467729</td>\n",
       "      <td>1</td>\n",
       "      <td>1</td>\n",
       "    </tr>\n",
       "  </tbody>\n",
       "</table>\n",
       "</div>"
      ],
      "text/plain": [
       "       id  global_proc_id  count\n",
       "0  159125               1      1\n",
       "1  191852               1      1\n",
       "2  321083               1      1\n",
       "3  383037               1      1\n",
       "4  467729               1      1"
      ]
     },
     "execution_count": 41,
     "metadata": {},
     "output_type": "execute_result"
    }
   ],
   "source": [
    "transaction.head()"
   ]
  },
  {
   "cell_type": "code",
   "execution_count": 42,
   "metadata": {},
   "outputs": [
    {
     "name": "stdout",
     "output_type": "stream",
     "text": [
      "<class 'pandas.core.frame.DataFrame'>\n",
      "RangeIndex: 1514809 entries, 0 to 1514808\n",
      "Data columns (total 3 columns):\n",
      " #   Column          Non-Null Count    Dtype\n",
      "---  ------          --------------    -----\n",
      " 0   id              1514809 non-null  int64\n",
      " 1   global_proc_id  1514809 non-null  int64\n",
      " 2   count           1514809 non-null  int64\n",
      "dtypes: int64(3)\n",
      "memory usage: 34.7 MB\n"
     ]
    }
   ],
   "source": [
    "transaction.info()"
   ]
  },
  {
   "cell_type": "code",
   "execution_count": 43,
   "metadata": {},
   "outputs": [
    {
     "data": {
      "text/html": [
       "<div>\n",
       "<style scoped>\n",
       "    .dataframe tbody tr th:only-of-type {\n",
       "        vertical-align: middle;\n",
       "    }\n",
       "\n",
       "    .dataframe tbody tr th {\n",
       "        vertical-align: top;\n",
       "    }\n",
       "\n",
       "    .dataframe thead th {\n",
       "        text-align: right;\n",
       "    }\n",
       "</style>\n",
       "<table border=\"1\" class=\"dataframe\">\n",
       "  <thead>\n",
       "    <tr style=\"text-align: right;\">\n",
       "      <th></th>\n",
       "      <th>id</th>\n",
       "      <th>global_proc_id</th>\n",
       "      <th>count</th>\n",
       "    </tr>\n",
       "  </thead>\n",
       "  <tbody>\n",
       "    <tr>\n",
       "      <th>0</th>\n",
       "      <td>65822</td>\n",
       "      <td>109</td>\n",
       "      <td>1</td>\n",
       "    </tr>\n",
       "    <tr>\n",
       "      <th>1</th>\n",
       "      <td>65822</td>\n",
       "      <td>125</td>\n",
       "      <td>1</td>\n",
       "    </tr>\n",
       "    <tr>\n",
       "      <th>2</th>\n",
       "      <td>119695</td>\n",
       "      <td>70</td>\n",
       "      <td>1</td>\n",
       "    </tr>\n",
       "    <tr>\n",
       "      <th>3</th>\n",
       "      <td>119695</td>\n",
       "      <td>124</td>\n",
       "      <td>1</td>\n",
       "    </tr>\n",
       "    <tr>\n",
       "      <th>4</th>\n",
       "      <td>119695</td>\n",
       "      <td>125</td>\n",
       "      <td>1</td>\n",
       "    </tr>\n",
       "  </tbody>\n",
       "</table>\n",
       "</div>"
      ],
      "text/plain": [
       "       id  global_proc_id  count\n",
       "0   65822             109      1\n",
       "1   65822             125      1\n",
       "2  119695              70      1\n",
       "3  119695             124      1\n",
       "4  119695             125      1"
      ]
     },
     "execution_count": 43,
     "metadata": {},
     "output_type": "execute_result"
    }
   ],
   "source": [
    "rev_transaction.head()"
   ]
  },
  {
   "cell_type": "code",
   "execution_count": 44,
   "metadata": {},
   "outputs": [
    {
     "name": "stdout",
     "output_type": "stream",
     "text": [
      "<class 'pandas.core.frame.DataFrame'>\n",
      "RangeIndex: 15041 entries, 0 to 15040\n",
      "Data columns (total 3 columns):\n",
      " #   Column          Non-Null Count  Dtype\n",
      "---  ------          --------------  -----\n",
      " 0   id              15041 non-null  int64\n",
      " 1   global_proc_id  15041 non-null  int64\n",
      " 2   count           15041 non-null  int64\n",
      "dtypes: int64(3)\n",
      "memory usage: 352.6 KB\n"
     ]
    }
   ],
   "source": [
    "rev_transaction.info()"
   ]
  },
  {
   "cell_type": "markdown",
   "metadata": {},
   "source": [
    "### Data preparation\n",
    "\n",
    "##### Handling missing values"
   ]
  },
  {
   "cell_type": "code",
   "execution_count": 45,
   "metadata": {},
   "outputs": [
    {
     "data": {
      "text/plain": [
       "id        0\n",
       "age       0\n",
       "gender    0\n",
       "income    0\n",
       "dtype: int64"
      ]
     },
     "execution_count": 45,
     "metadata": {},
     "output_type": "execute_result"
    }
   ],
   "source": [
    "history.dropna(inplace = True)\n",
    "history.isna().sum()"
   ]
  },
  {
   "cell_type": "code",
   "execution_count": 46,
   "metadata": {},
   "outputs": [
    {
     "data": {
      "text/plain": [
       "id                0\n",
       "global_proc_id    0\n",
       "count             0\n",
       "dtype: int64"
      ]
     },
     "execution_count": 46,
     "metadata": {},
     "output_type": "execute_result"
    }
   ],
   "source": [
    "transaction.dropna(inplace = True)\n",
    "transaction.isna().sum()"
   ]
  },
  {
   "cell_type": "code",
   "execution_count": 47,
   "metadata": {},
   "outputs": [
    {
     "data": {
      "text/plain": [
       "id        0\n",
       "age       0\n",
       "gender    0\n",
       "income    0\n",
       "dtype: int64"
      ]
     },
     "execution_count": 47,
     "metadata": {},
     "output_type": "execute_result"
    }
   ],
   "source": [
    "rev_history.dropna(inplace = True)\n",
    "rev_history.isna().sum()"
   ]
  },
  {
   "cell_type": "code",
   "execution_count": 48,
   "metadata": {},
   "outputs": [
    {
     "data": {
      "text/plain": [
       "id                0\n",
       "global_proc_id    0\n",
       "count             0\n",
       "dtype: int64"
      ]
     },
     "execution_count": 48,
     "metadata": {},
     "output_type": "execute_result"
    }
   ],
   "source": [
    "rev_transaction.dropna(inplace = True)\n",
    "rev_transaction.isna().sum()"
   ]
  },
  {
   "cell_type": "code",
   "execution_count": 49,
   "metadata": {},
   "outputs": [],
   "source": [
    "patient_trans=pd.merge(transaction,history,\n",
    "              left_on='id',right_on='id',\n",
    "                    how='inner')"
   ]
  },
  {
   "cell_type": "code",
   "execution_count": 67,
   "metadata": {},
   "outputs": [],
   "source": [
    "patient_trans1=pd.merge(transaction,history,\n",
    "              left_on='id',right_on='id',\n",
    "                    how='inner')"
   ]
  },
  {
   "cell_type": "code",
   "execution_count": 50,
   "metadata": {},
   "outputs": [
    {
     "name": "stdout",
     "output_type": "stream",
     "text": [
      "<class 'pandas.core.frame.DataFrame'>\n",
      "Int64Index: 1484652 entries, 0 to 1484651\n",
      "Data columns (total 6 columns):\n",
      " #   Column          Non-Null Count    Dtype \n",
      "---  ------          --------------    ----- \n",
      " 0   id              1484652 non-null  int64 \n",
      " 1   global_proc_id  1484652 non-null  int64 \n",
      " 2   count           1484652 non-null  int64 \n",
      " 3   age             1484652 non-null  object\n",
      " 4   gender          1484652 non-null  object\n",
      " 5   income          1484652 non-null  object\n",
      "dtypes: int64(3), object(3)\n",
      "memory usage: 79.3+ MB\n"
     ]
    }
   ],
   "source": [
    "patient_trans.info()"
   ]
  },
  {
   "cell_type": "code",
   "execution_count": 51,
   "metadata": {},
   "outputs": [],
   "source": [
    "#Creating dummy variables \n",
    "columns=['age','gender','income']\n",
    "for i in columns:\n",
    "    dummy = pd.get_dummies(patient_trans[i], prefix=i)\n",
    "    patient_trans = pd.concat([patient_trans, dummy], axis=1)\n",
    "    patient_trans.drop(i,axis=1,inplace=True)"
   ]
  },
  {
   "cell_type": "code",
   "execution_count": 52,
   "metadata": {},
   "outputs": [
    {
     "data": {
      "text/html": [
       "<div>\n",
       "<style scoped>\n",
       "    .dataframe tbody tr th:only-of-type {\n",
       "        vertical-align: middle;\n",
       "    }\n",
       "\n",
       "    .dataframe tbody tr th {\n",
       "        vertical-align: top;\n",
       "    }\n",
       "\n",
       "    .dataframe thead th {\n",
       "        text-align: right;\n",
       "    }\n",
       "</style>\n",
       "<table border=\"1\" class=\"dataframe\">\n",
       "  <thead>\n",
       "    <tr style=\"text-align: right;\">\n",
       "      <th></th>\n",
       "      <th>id</th>\n",
       "      <th>global_proc_id</th>\n",
       "      <th>count</th>\n",
       "      <th>age_65-74</th>\n",
       "      <th>age_75-84</th>\n",
       "      <th>age_85+</th>\n",
       "      <th>age_&lt;65</th>\n",
       "      <th>gender_F</th>\n",
       "      <th>gender_M</th>\n",
       "      <th>income_16000-23999</th>\n",
       "      <th>income_24000-31999</th>\n",
       "      <th>income_32000-47999</th>\n",
       "      <th>income_48000+</th>\n",
       "      <th>income_&lt;16000</th>\n",
       "    </tr>\n",
       "  </thead>\n",
       "  <tbody>\n",
       "    <tr>\n",
       "      <th>0</th>\n",
       "      <td>159125</td>\n",
       "      <td>1</td>\n",
       "      <td>1</td>\n",
       "      <td>0</td>\n",
       "      <td>1</td>\n",
       "      <td>0</td>\n",
       "      <td>0</td>\n",
       "      <td>1</td>\n",
       "      <td>0</td>\n",
       "      <td>1</td>\n",
       "      <td>0</td>\n",
       "      <td>0</td>\n",
       "      <td>0</td>\n",
       "      <td>0</td>\n",
       "    </tr>\n",
       "    <tr>\n",
       "      <th>1</th>\n",
       "      <td>159125</td>\n",
       "      <td>17</td>\n",
       "      <td>1</td>\n",
       "      <td>0</td>\n",
       "      <td>1</td>\n",
       "      <td>0</td>\n",
       "      <td>0</td>\n",
       "      <td>1</td>\n",
       "      <td>0</td>\n",
       "      <td>1</td>\n",
       "      <td>0</td>\n",
       "      <td>0</td>\n",
       "      <td>0</td>\n",
       "      <td>0</td>\n",
       "    </tr>\n",
       "    <tr>\n",
       "      <th>2</th>\n",
       "      <td>159125</td>\n",
       "      <td>19</td>\n",
       "      <td>1</td>\n",
       "      <td>0</td>\n",
       "      <td>1</td>\n",
       "      <td>0</td>\n",
       "      <td>0</td>\n",
       "      <td>1</td>\n",
       "      <td>0</td>\n",
       "      <td>1</td>\n",
       "      <td>0</td>\n",
       "      <td>0</td>\n",
       "      <td>0</td>\n",
       "      <td>0</td>\n",
       "    </tr>\n",
       "    <tr>\n",
       "      <th>3</th>\n",
       "      <td>159125</td>\n",
       "      <td>26</td>\n",
       "      <td>1</td>\n",
       "      <td>0</td>\n",
       "      <td>1</td>\n",
       "      <td>0</td>\n",
       "      <td>0</td>\n",
       "      <td>1</td>\n",
       "      <td>0</td>\n",
       "      <td>1</td>\n",
       "      <td>0</td>\n",
       "      <td>0</td>\n",
       "      <td>0</td>\n",
       "      <td>0</td>\n",
       "    </tr>\n",
       "    <tr>\n",
       "      <th>4</th>\n",
       "      <td>159125</td>\n",
       "      <td>34</td>\n",
       "      <td>1</td>\n",
       "      <td>0</td>\n",
       "      <td>1</td>\n",
       "      <td>0</td>\n",
       "      <td>0</td>\n",
       "      <td>1</td>\n",
       "      <td>0</td>\n",
       "      <td>1</td>\n",
       "      <td>0</td>\n",
       "      <td>0</td>\n",
       "      <td>0</td>\n",
       "      <td>0</td>\n",
       "    </tr>\n",
       "    <tr>\n",
       "      <th>...</th>\n",
       "      <td>...</td>\n",
       "      <td>...</td>\n",
       "      <td>...</td>\n",
       "      <td>...</td>\n",
       "      <td>...</td>\n",
       "      <td>...</td>\n",
       "      <td>...</td>\n",
       "      <td>...</td>\n",
       "      <td>...</td>\n",
       "      <td>...</td>\n",
       "      <td>...</td>\n",
       "      <td>...</td>\n",
       "      <td>...</td>\n",
       "      <td>...</td>\n",
       "    </tr>\n",
       "    <tr>\n",
       "      <th>1484647</th>\n",
       "      <td>973537121</td>\n",
       "      <td>130</td>\n",
       "      <td>1</td>\n",
       "      <td>1</td>\n",
       "      <td>0</td>\n",
       "      <td>0</td>\n",
       "      <td>0</td>\n",
       "      <td>1</td>\n",
       "      <td>0</td>\n",
       "      <td>0</td>\n",
       "      <td>0</td>\n",
       "      <td>1</td>\n",
       "      <td>0</td>\n",
       "      <td>0</td>\n",
       "    </tr>\n",
       "    <tr>\n",
       "      <th>1484648</th>\n",
       "      <td>984838944</td>\n",
       "      <td>130</td>\n",
       "      <td>1</td>\n",
       "      <td>1</td>\n",
       "      <td>0</td>\n",
       "      <td>0</td>\n",
       "      <td>0</td>\n",
       "      <td>0</td>\n",
       "      <td>1</td>\n",
       "      <td>0</td>\n",
       "      <td>0</td>\n",
       "      <td>0</td>\n",
       "      <td>1</td>\n",
       "      <td>0</td>\n",
       "    </tr>\n",
       "    <tr>\n",
       "      <th>1484649</th>\n",
       "      <td>987582418</td>\n",
       "      <td>130</td>\n",
       "      <td>1</td>\n",
       "      <td>0</td>\n",
       "      <td>0</td>\n",
       "      <td>1</td>\n",
       "      <td>0</td>\n",
       "      <td>1</td>\n",
       "      <td>0</td>\n",
       "      <td>0</td>\n",
       "      <td>1</td>\n",
       "      <td>0</td>\n",
       "      <td>0</td>\n",
       "      <td>0</td>\n",
       "    </tr>\n",
       "    <tr>\n",
       "      <th>1484650</th>\n",
       "      <td>991584732</td>\n",
       "      <td>130</td>\n",
       "      <td>1</td>\n",
       "      <td>1</td>\n",
       "      <td>0</td>\n",
       "      <td>0</td>\n",
       "      <td>0</td>\n",
       "      <td>0</td>\n",
       "      <td>1</td>\n",
       "      <td>0</td>\n",
       "      <td>1</td>\n",
       "      <td>0</td>\n",
       "      <td>0</td>\n",
       "      <td>0</td>\n",
       "    </tr>\n",
       "    <tr>\n",
       "      <th>1484651</th>\n",
       "      <td>993268285</td>\n",
       "      <td>130</td>\n",
       "      <td>1</td>\n",
       "      <td>0</td>\n",
       "      <td>1</td>\n",
       "      <td>0</td>\n",
       "      <td>0</td>\n",
       "      <td>1</td>\n",
       "      <td>0</td>\n",
       "      <td>0</td>\n",
       "      <td>0</td>\n",
       "      <td>0</td>\n",
       "      <td>1</td>\n",
       "      <td>0</td>\n",
       "    </tr>\n",
       "  </tbody>\n",
       "</table>\n",
       "<p>1484652 rows × 14 columns</p>\n",
       "</div>"
      ],
      "text/plain": [
       "                id  global_proc_id  count  age_65-74  age_75-84  age_85+  \\\n",
       "0           159125               1      1          0          1        0   \n",
       "1           159125              17      1          0          1        0   \n",
       "2           159125              19      1          0          1        0   \n",
       "3           159125              26      1          0          1        0   \n",
       "4           159125              34      1          0          1        0   \n",
       "...            ...             ...    ...        ...        ...      ...   \n",
       "1484647  973537121             130      1          1          0        0   \n",
       "1484648  984838944             130      1          1          0        0   \n",
       "1484649  987582418             130      1          0          0        1   \n",
       "1484650  991584732             130      1          1          0        0   \n",
       "1484651  993268285             130      1          0          1        0   \n",
       "\n",
       "         age_<65  gender_F  gender_M  income_16000-23999  income_24000-31999  \\\n",
       "0              0         1         0                   1                   0   \n",
       "1              0         1         0                   1                   0   \n",
       "2              0         1         0                   1                   0   \n",
       "3              0         1         0                   1                   0   \n",
       "4              0         1         0                   1                   0   \n",
       "...          ...       ...       ...                 ...                 ...   \n",
       "1484647        0         1         0                   0                   0   \n",
       "1484648        0         0         1                   0                   0   \n",
       "1484649        0         1         0                   0                   1   \n",
       "1484650        0         0         1                   0                   1   \n",
       "1484651        0         1         0                   0                   0   \n",
       "\n",
       "         income_32000-47999  income_48000+  income_<16000  \n",
       "0                         0              0              0  \n",
       "1                         0              0              0  \n",
       "2                         0              0              0  \n",
       "3                         0              0              0  \n",
       "4                         0              0              0  \n",
       "...                     ...            ...            ...  \n",
       "1484647                   1              0              0  \n",
       "1484648                   0              1              0  \n",
       "1484649                   0              0              0  \n",
       "1484650                   0              0              0  \n",
       "1484651                   0              1              0  \n",
       "\n",
       "[1484652 rows x 14 columns]"
      ]
     },
     "execution_count": 52,
     "metadata": {},
     "output_type": "execute_result"
    }
   ],
   "source": [
    "patient_trans"
   ]
  },
  {
   "cell_type": "code",
   "execution_count": 53,
   "metadata": {},
   "outputs": [
    {
     "data": {
      "text/plain": [
       "array([[-1.73305721, -1.19684419,  0.        , ..., -0.48764214,\n",
       "        -0.55163387, -0.5253021 ],\n",
       "       [-1.73305721, -0.68038634,  0.        , ..., -0.48764214,\n",
       "        -0.55163387, -0.5253021 ],\n",
       "       [-1.73305721, -0.61582911,  0.        , ..., -0.48764214,\n",
       "        -0.55163387, -0.5253021 ],\n",
       "       ...,\n",
       "       [ 1.69052334,  2.96709722,  0.        , ..., -0.48764214,\n",
       "        -0.55163387, -0.5253021 ],\n",
       "       [ 1.7044001 ,  2.96709722,  0.        , ..., -0.48764214,\n",
       "        -0.55163387, -0.5253021 ],\n",
       "       [ 1.7102373 ,  2.96709722,  0.        , ..., -0.48764214,\n",
       "         1.81279659, -0.5253021 ]])"
      ]
     },
     "execution_count": 53,
     "metadata": {},
     "output_type": "execute_result"
    }
   ],
   "source": [
    "patient_trans_scaled = StandardScaler().fit_transform(patient_trans)\n",
    "patient_trans_scaled"
   ]
  },
  {
   "cell_type": "code",
   "execution_count": 54,
   "metadata": {},
   "outputs": [],
   "source": [
    "patient_trans_new = pd.DataFrame(patient_trans_scaled)\n",
    "patient_trans_new.columns = patient_trans.columns\n",
    "patient_trans_new.index = patient_trans.index"
   ]
  },
  {
   "cell_type": "code",
   "execution_count": 55,
   "metadata": {},
   "outputs": [
    {
     "data": {
      "text/html": [
       "<div>\n",
       "<style scoped>\n",
       "    .dataframe tbody tr th:only-of-type {\n",
       "        vertical-align: middle;\n",
       "    }\n",
       "\n",
       "    .dataframe tbody tr th {\n",
       "        vertical-align: top;\n",
       "    }\n",
       "\n",
       "    .dataframe thead th {\n",
       "        text-align: right;\n",
       "    }\n",
       "</style>\n",
       "<table border=\"1\" class=\"dataframe\">\n",
       "  <thead>\n",
       "    <tr style=\"text-align: right;\">\n",
       "      <th></th>\n",
       "      <th>id</th>\n",
       "      <th>global_proc_id</th>\n",
       "      <th>count</th>\n",
       "      <th>age_65-74</th>\n",
       "      <th>age_75-84</th>\n",
       "      <th>age_85+</th>\n",
       "      <th>age_&lt;65</th>\n",
       "      <th>gender_F</th>\n",
       "      <th>gender_M</th>\n",
       "      <th>income_16000-23999</th>\n",
       "      <th>income_24000-31999</th>\n",
       "      <th>income_32000-47999</th>\n",
       "      <th>income_48000+</th>\n",
       "      <th>income_&lt;16000</th>\n",
       "    </tr>\n",
       "  </thead>\n",
       "  <tbody>\n",
       "    <tr>\n",
       "      <th>0</th>\n",
       "      <td>-1.733057</td>\n",
       "      <td>-1.196844</td>\n",
       "      <td>0.0</td>\n",
       "      <td>-0.889256</td>\n",
       "      <td>1.690204</td>\n",
       "      <td>-0.385616</td>\n",
       "      <td>-0.452062</td>\n",
       "      <td>0.906024</td>\n",
       "      <td>-0.906024</td>\n",
       "      <td>1.96432</td>\n",
       "      <td>-0.424186</td>\n",
       "      <td>-0.487642</td>\n",
       "      <td>-0.551634</td>\n",
       "      <td>-0.525302</td>\n",
       "    </tr>\n",
       "    <tr>\n",
       "      <th>1</th>\n",
       "      <td>-1.733057</td>\n",
       "      <td>-0.680386</td>\n",
       "      <td>0.0</td>\n",
       "      <td>-0.889256</td>\n",
       "      <td>1.690204</td>\n",
       "      <td>-0.385616</td>\n",
       "      <td>-0.452062</td>\n",
       "      <td>0.906024</td>\n",
       "      <td>-0.906024</td>\n",
       "      <td>1.96432</td>\n",
       "      <td>-0.424186</td>\n",
       "      <td>-0.487642</td>\n",
       "      <td>-0.551634</td>\n",
       "      <td>-0.525302</td>\n",
       "    </tr>\n",
       "    <tr>\n",
       "      <th>2</th>\n",
       "      <td>-1.733057</td>\n",
       "      <td>-0.615829</td>\n",
       "      <td>0.0</td>\n",
       "      <td>-0.889256</td>\n",
       "      <td>1.690204</td>\n",
       "      <td>-0.385616</td>\n",
       "      <td>-0.452062</td>\n",
       "      <td>0.906024</td>\n",
       "      <td>-0.906024</td>\n",
       "      <td>1.96432</td>\n",
       "      <td>-0.424186</td>\n",
       "      <td>-0.487642</td>\n",
       "      <td>-0.551634</td>\n",
       "      <td>-0.525302</td>\n",
       "    </tr>\n",
       "    <tr>\n",
       "      <th>3</th>\n",
       "      <td>-1.733057</td>\n",
       "      <td>-0.389879</td>\n",
       "      <td>0.0</td>\n",
       "      <td>-0.889256</td>\n",
       "      <td>1.690204</td>\n",
       "      <td>-0.385616</td>\n",
       "      <td>-0.452062</td>\n",
       "      <td>0.906024</td>\n",
       "      <td>-0.906024</td>\n",
       "      <td>1.96432</td>\n",
       "      <td>-0.424186</td>\n",
       "      <td>-0.487642</td>\n",
       "      <td>-0.551634</td>\n",
       "      <td>-0.525302</td>\n",
       "    </tr>\n",
       "    <tr>\n",
       "      <th>4</th>\n",
       "      <td>-1.733057</td>\n",
       "      <td>-0.131650</td>\n",
       "      <td>0.0</td>\n",
       "      <td>-0.889256</td>\n",
       "      <td>1.690204</td>\n",
       "      <td>-0.385616</td>\n",
       "      <td>-0.452062</td>\n",
       "      <td>0.906024</td>\n",
       "      <td>-0.906024</td>\n",
       "      <td>1.96432</td>\n",
       "      <td>-0.424186</td>\n",
       "      <td>-0.487642</td>\n",
       "      <td>-0.551634</td>\n",
       "      <td>-0.525302</td>\n",
       "    </tr>\n",
       "  </tbody>\n",
       "</table>\n",
       "</div>"
      ],
      "text/plain": [
       "         id  global_proc_id  count  age_65-74  age_75-84   age_85+   age_<65  \\\n",
       "0 -1.733057       -1.196844    0.0  -0.889256   1.690204 -0.385616 -0.452062   \n",
       "1 -1.733057       -0.680386    0.0  -0.889256   1.690204 -0.385616 -0.452062   \n",
       "2 -1.733057       -0.615829    0.0  -0.889256   1.690204 -0.385616 -0.452062   \n",
       "3 -1.733057       -0.389879    0.0  -0.889256   1.690204 -0.385616 -0.452062   \n",
       "4 -1.733057       -0.131650    0.0  -0.889256   1.690204 -0.385616 -0.452062   \n",
       "\n",
       "   gender_F  gender_M  income_16000-23999  income_24000-31999  \\\n",
       "0  0.906024 -0.906024             1.96432           -0.424186   \n",
       "1  0.906024 -0.906024             1.96432           -0.424186   \n",
       "2  0.906024 -0.906024             1.96432           -0.424186   \n",
       "3  0.906024 -0.906024             1.96432           -0.424186   \n",
       "4  0.906024 -0.906024             1.96432           -0.424186   \n",
       "\n",
       "   income_32000-47999  income_48000+  income_<16000  \n",
       "0           -0.487642      -0.551634      -0.525302  \n",
       "1           -0.487642      -0.551634      -0.525302  \n",
       "2           -0.487642      -0.551634      -0.525302  \n",
       "3           -0.487642      -0.551634      -0.525302  \n",
       "4           -0.487642      -0.551634      -0.525302  "
      ]
     },
     "execution_count": 55,
     "metadata": {},
     "output_type": "execute_result"
    }
   ],
   "source": [
    "patient_trans_new.head()"
   ]
  },
  {
   "cell_type": "code",
   "execution_count": 56,
   "metadata": {},
   "outputs": [],
   "source": [
    "LOF1 = LocalOutlierFactor(n_neighbors = 50, n_jobs = -1, contamination = 0.002)"
   ]
  },
  {
   "cell_type": "code",
   "execution_count": 57,
   "metadata": {},
   "outputs": [],
   "source": [
    "medicare_patient = LOF1.fit_predict(patient_trans_new)"
   ]
  },
  {
   "cell_type": "code",
   "execution_count": 58,
   "metadata": {},
   "outputs": [],
   "source": [
    "label = pd.DataFrame(medicare_patient)\n",
    "label.index = patient_trans_new.index\n",
    "label.columns = ['label']"
   ]
  },
  {
   "cell_type": "code",
   "execution_count": 65,
   "metadata": {},
   "outputs": [
    {
     "data": {
      "text/plain": [
       " 1    1481682\n",
       "-1       2970\n",
       "Name: label, dtype: int64"
      ]
     },
     "execution_count": 65,
     "metadata": {},
     "output_type": "execute_result"
    }
   ],
   "source": [
    "label.label.value_counts()"
   ]
  },
  {
   "cell_type": "code",
   "execution_count": 68,
   "metadata": {},
   "outputs": [],
   "source": [
    "medicare_patients = patient_trans1[label['label']==-1]"
   ]
  },
  {
   "cell_type": "code",
   "execution_count": 70,
   "metadata": {},
   "outputs": [],
   "source": [
    "del medicare_patients['count']"
   ]
  },
  {
   "cell_type": "markdown",
   "metadata": {},
   "source": [
    "### Patients that are involved in Anamalous activites"
   ]
  },
  {
   "cell_type": "code",
   "execution_count": 80,
   "metadata": {},
   "outputs": [
    {
     "data": {
      "text/html": [
       "<div>\n",
       "<style scoped>\n",
       "    .dataframe tbody tr th:only-of-type {\n",
       "        vertical-align: middle;\n",
       "    }\n",
       "\n",
       "    .dataframe tbody tr th {\n",
       "        vertical-align: top;\n",
       "    }\n",
       "\n",
       "    .dataframe thead th {\n",
       "        text-align: right;\n",
       "    }\n",
       "</style>\n",
       "<table border=\"1\" class=\"dataframe\">\n",
       "  <thead>\n",
       "    <tr style=\"text-align: right;\">\n",
       "      <th></th>\n",
       "      <th>id</th>\n",
       "      <th>global_proc_id</th>\n",
       "      <th>age</th>\n",
       "      <th>gender</th>\n",
       "      <th>income</th>\n",
       "    </tr>\n",
       "  </thead>\n",
       "  <tbody>\n",
       "    <tr>\n",
       "      <th>224</th>\n",
       "      <td>4009080</td>\n",
       "      <td>31</td>\n",
       "      <td>&lt;65</td>\n",
       "      <td>F</td>\n",
       "      <td>16000-23999</td>\n",
       "    </tr>\n",
       "    <tr>\n",
       "      <th>297</th>\n",
       "      <td>5330645</td>\n",
       "      <td>31</td>\n",
       "      <td>&lt;65</td>\n",
       "      <td>M</td>\n",
       "      <td>48000+</td>\n",
       "    </tr>\n",
       "    <tr>\n",
       "      <th>328</th>\n",
       "      <td>5731044</td>\n",
       "      <td>30</td>\n",
       "      <td>85+</td>\n",
       "      <td>M</td>\n",
       "      <td>16000-23999</td>\n",
       "    </tr>\n",
       "    <tr>\n",
       "      <th>383</th>\n",
       "      <td>6611442</td>\n",
       "      <td>29</td>\n",
       "      <td>65-74</td>\n",
       "      <td>M</td>\n",
       "      <td>16000-23999</td>\n",
       "    </tr>\n",
       "    <tr>\n",
       "      <th>519</th>\n",
       "      <td>8313961</td>\n",
       "      <td>32</td>\n",
       "      <td>85+</td>\n",
       "      <td>M</td>\n",
       "      <td>48000+</td>\n",
       "    </tr>\n",
       "    <tr>\n",
       "      <th>...</th>\n",
       "      <td>...</td>\n",
       "      <td>...</td>\n",
       "      <td>...</td>\n",
       "      <td>...</td>\n",
       "      <td>...</td>\n",
       "    </tr>\n",
       "    <tr>\n",
       "      <th>1445080</th>\n",
       "      <td>982003005</td>\n",
       "      <td>31</td>\n",
       "      <td>85+</td>\n",
       "      <td>M</td>\n",
       "      <td>24000-31999</td>\n",
       "    </tr>\n",
       "    <tr>\n",
       "      <th>1445087</th>\n",
       "      <td>985359451</td>\n",
       "      <td>31</td>\n",
       "      <td>&lt;65</td>\n",
       "      <td>F</td>\n",
       "      <td>32000-47999</td>\n",
       "    </tr>\n",
       "    <tr>\n",
       "      <th>1445090</th>\n",
       "      <td>994464980</td>\n",
       "      <td>31</td>\n",
       "      <td>85+</td>\n",
       "      <td>F</td>\n",
       "      <td>32000-47999</td>\n",
       "    </tr>\n",
       "    <tr>\n",
       "      <th>1445096</th>\n",
       "      <td>999086565</td>\n",
       "      <td>31</td>\n",
       "      <td>&lt;65</td>\n",
       "      <td>F</td>\n",
       "      <td>24000-31999</td>\n",
       "    </tr>\n",
       "    <tr>\n",
       "      <th>1445099</th>\n",
       "      <td>999752338</td>\n",
       "      <td>31</td>\n",
       "      <td>65-74</td>\n",
       "      <td>F</td>\n",
       "      <td>48000+</td>\n",
       "    </tr>\n",
       "  </tbody>\n",
       "</table>\n",
       "<p>2970 rows × 5 columns</p>\n",
       "</div>"
      ],
      "text/plain": [
       "                id  global_proc_id    age gender       income\n",
       "224        4009080              31    <65      F  16000-23999\n",
       "297        5330645              31    <65      M       48000+\n",
       "328        5731044              30    85+      M  16000-23999\n",
       "383        6611442              29  65-74      M  16000-23999\n",
       "519        8313961              32    85+      M       48000+\n",
       "...            ...             ...    ...    ...          ...\n",
       "1445080  982003005              31    85+      M  24000-31999\n",
       "1445087  985359451              31    <65      F  32000-47999\n",
       "1445090  994464980              31    85+      F  32000-47999\n",
       "1445096  999086565              31    <65      F  24000-31999\n",
       "1445099  999752338              31  65-74      F       48000+\n",
       "\n",
       "[2970 rows x 5 columns]"
      ]
     },
     "execution_count": 80,
     "metadata": {},
     "output_type": "execute_result"
    }
   ],
   "source": [
    "medicare_patients"
   ]
  }
 ],
 "metadata": {
  "kernelspec": {
   "display_name": "Python 3",
   "language": "python",
   "name": "python3"
  },
  "language_info": {
   "codemirror_mode": {
    "name": "ipython",
    "version": 3
   },
   "file_extension": ".py",
   "mimetype": "text/x-python",
   "name": "python",
   "nbconvert_exporter": "python",
   "pygments_lexer": "ipython3",
   "version": "3.7.6"
  }
 },
 "nbformat": 4,
 "nbformat_minor": 4
}
